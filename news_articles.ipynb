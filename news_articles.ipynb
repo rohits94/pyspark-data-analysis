{
 "cells": [
  {
   "cell_type": "code",
   "execution_count": 1,
   "metadata": {},
   "outputs": [
    {
     "name": "stdout",
     "output_type": "stream",
     "text": [
      "3.8.5 | packaged by conda-forge | (default, Aug 29 2020, 01:22:49) \n",
      "[GCC 7.5.0]\n",
      "3.0.1\n"
     ]
    }
   ],
   "source": [
    "import sys\n",
    "print(sys.version)\n",
    "print(spark.version)"
   ]
  },
  {
   "cell_type": "code",
   "execution_count": 2,
   "metadata": {},
   "outputs": [],
   "source": [
    "import pandas as pd\n",
    "import numpy as np\n",
    "pd.set_option('display.max_colwidth', None)\n",
    "pd.reset_option('display.max_rows')\n",
    "from itertools import compress \n",
    "from pyspark.sql.functions import *\n",
    "from pyspark.sql.types import *\n",
    "import seaborn as sns\n",
    "import matplotlib.pyplot as plt\n",
    "warnings.filterwarnings(action='ignore')"
   ]
  },
  {
   "cell_type": "code",
   "execution_count": 3,
   "metadata": {},
   "outputs": [
    {
     "name": "stderr",
     "output_type": "stream",
     "text": [
      "[nltk_data] Downloading package stopwords to /root/nltk_data...\n",
      "[nltk_data]   Unzipping corpora/stopwords.zip.\n"
     ]
    }
   ],
   "source": [
    "import re\n",
    "from pyspark.ml.feature import MinHashLSH\n",
    "from pyspark.ml.feature import CountVectorizer,  IDF, CountVectorizerModel, Tokenizer, RegexTokenizer, StopWordsRemover\n",
    "from pyspark import SparkContext\n",
    "from pyspark.sql import SQLContext\n",
    "from pyspark.sql import Row\n",
    "import nltk\n",
    "nltk.download('stopwords')\n",
    "from nltk.corpus import stopwords"
   ]
  },
  {
   "cell_type": "code",
   "execution_count": 4,
   "metadata": {},
   "outputs": [],
   "source": [
    "spark.conf.set(\"spark.sql.repl.eagerEval.enabled\",True)"
   ]
  },
  {
   "cell_type": "markdown",
   "metadata": {},
   "source": [
    "### Read in articles from JSON"
   ]
  },
  {
   "cell_type": "code",
   "execution_count": 5,
   "metadata": {},
   "outputs": [
    {
     "data": {
      "text/plain": [
       "57500"
      ]
     },
     "execution_count": 5,
     "metadata": {},
     "output_type": "execute_result"
    }
   ],
   "source": [
    "articles_spark = spark.read.json('gs://msca-bdp-data-open/news/news_university.json')\n",
    "articles_spark.count()"
   ]
  },
  {
   "cell_type": "code",
   "execution_count": 6,
   "metadata": {},
   "outputs": [
    {
     "data": {
      "text/html": [
       "<table border='1'>\n",
       "<tr><th>author</th><th>crawled</th><th>entities</th><th>external_links</th><th>highlightText</th><th>highlightTitle</th><th>language</th><th>ord_in_thread</th><th>published</th><th>rating</th><th>text</th><th>thread</th><th>title</th><th>url</th><th>uuid</th></tr>\n",
       "<tr><td>Jackie Harper (no...</td><td>2018-01-22T06:31:...</td><td>[[[detroit, none]...</td><td>[]</td><td></td><td></td><td>english</td><td>0</td><td>2018-01-22T05:30:...</td><td>null</td><td>FREE public plane...</td><td>[US,,, 1, 0, 2018...</td><td>FREE public plane...</td><td>http://omgili.com...</td><td>9fefb15f4fd9ae09a...</td></tr>\n",
       "<tr><td>n0lifeismylife</td><td>2018-01-22T06:31:...</td><td>[[], [], []]</td><td>[]</td><td></td><td></td><td>english</td><td>0</td><td>2018-01-22T01:12:...</td><td>null</td><td>submitted by /u/n...</td><td>[US, 33, , 10, 0,...</td><td>A computer Scienc...</td><td>http://omgili.com...</td><td>4a2a0e21f3f4887f2...</td></tr>\n",
       "<tr><td>redaintded</td><td>2018-01-22T06:31:...</td><td>[[], [], []]</td><td>[]</td><td></td><td></td><td>english</td><td>0</td><td>2018-01-21T17:52:...</td><td>null</td><td>that went undefea...</td><td>[US, 3057, , 8, 0...</td><td>Whos the Greatest...</td><td>http://omgili.com...</td><td>90a0680ec2be19eb5...</td></tr>\n",
       "<tr><td>Manoj Pandey (nor...</td><td>2018-01-22T06:31:...</td><td>[[], [], [[vivek ...</td><td>[]</td><td></td><td></td><td>english</td><td>0</td><td>2018-01-22T06:31:...</td><td>null</td><td></td><td>[US,,, 1, 0, 2018...</td><td>FULL HD VIDEO || ...</td><td>http://omgili.com...</td><td>752253f9643965cf5...</td></tr>\n",
       "<tr><td>vision Arts (nore...</td><td>2018-01-22T06:32:...</td><td>[[], [[newborn ph...</td><td>[]</td><td></td><td></td><td>english</td><td>0</td><td>2018-01-22T06:32:...</td><td>null</td><td>By Sharon Wagner ...</td><td>[US,,, 1, 0, 2018...</td><td>Tips For Newborn ...</td><td>http://omgili.com...</td><td>f4eae633665cbd519...</td></tr>\n",
       "</table>\n"
      ],
      "text/plain": [
       "+--------------------+--------------------+--------------------+--------------+-------------+--------------+--------+-------------+--------------------+------+--------------------+--------------------+--------------------+--------------------+--------------------+\n",
       "|              author|             crawled|            entities|external_links|highlightText|highlightTitle|language|ord_in_thread|           published|rating|                text|              thread|               title|                 url|                uuid|\n",
       "+--------------------+--------------------+--------------------+--------------+-------------+--------------+--------+-------------+--------------------+------+--------------------+--------------------+--------------------+--------------------+--------------------+\n",
       "|Jackie Harper (no...|2018-01-22T06:31:...|[[[detroit, none]...|            []|             |              | english|            0|2018-01-22T05:30:...|  null|FREE public plane...|[US,,, 1, 0, 2018...|FREE public plane...|http://omgili.com...|9fefb15f4fd9ae09a...|\n",
       "|      n0lifeismylife|2018-01-22T06:31:...|        [[], [], []]|            []|             |              | english|            0|2018-01-22T01:12:...|  null|submitted by /u/n...|[US, 33, , 10, 0,...|A computer Scienc...|http://omgili.com...|4a2a0e21f3f4887f2...|\n",
       "|          redaintded|2018-01-22T06:31:...|        [[], [], []]|            []|             |              | english|            0|2018-01-21T17:52:...|  null|that went undefea...|[US, 3057, , 8, 0...|Whos the Greatest...|http://omgili.com...|90a0680ec2be19eb5...|\n",
       "|Manoj Pandey (nor...|2018-01-22T06:31:...|[[], [], [[vivek ...|            []|             |              | english|            0|2018-01-22T06:31:...|  null|                    |[US,,, 1, 0, 2018...|FULL HD VIDEO || ...|http://omgili.com...|752253f9643965cf5...|\n",
       "|vision Arts (nore...|2018-01-22T06:32:...|[[], [[newborn ph...|            []|             |              | english|            0|2018-01-22T06:32:...|  null|By Sharon Wagner ...|[US,,, 1, 0, 2018...|Tips For Newborn ...|http://omgili.com...|f4eae633665cbd519...|\n",
       "+--------------------+--------------------+--------------------+--------------+-------------+--------------+--------+-------------+--------------------+------+--------------------+--------------------+--------------------+--------------------+--------------------+"
      ]
     },
     "execution_count": 6,
     "metadata": {},
     "output_type": "execute_result"
    }
   ],
   "source": [
    "articles_spark.limit(5)"
   ]
  },
  {
   "cell_type": "markdown",
   "metadata": {},
   "source": [
    "Take just the title column, since that is the bit of text that we will be using for our similarity analysis."
   ]
  },
  {
   "cell_type": "code",
   "execution_count": 6,
   "metadata": {},
   "outputs": [
    {
     "name": "stdout",
     "output_type": "stream",
     "text": [
      "root\n",
      " |-- text: string (nullable = true)\n",
      "\n"
     ]
    }
   ],
   "source": [
    "titles_df_raw = articles_spark.select([\"title\"]).withColumnRenamed('title', 'text')\n",
    "titles_df_raw.printSchema()"
   ]
  },
  {
   "cell_type": "markdown",
   "metadata": {},
   "source": [
    "### Process text data: filter out empty values, tokenize (remove stopwords, non-alphanumeric characters, short words)"
   ]
  },
  {
   "cell_type": "code",
   "execution_count": 8,
   "metadata": {},
   "outputs": [
    {
     "data": {
      "text/html": [
       "<table border='1'>\n",
       "<tr><th>text</th></tr>\n",
       "<tr><td>FREE public plane...</td></tr>\n",
       "<tr><td>A computer Scienc...</td></tr>\n",
       "<tr><td>Whos the Greatest...</td></tr>\n",
       "<tr><td>FULL HD VIDEO || ...</td></tr>\n",
       "<tr><td>Tips For Newborn ...</td></tr>\n",
       "</table>\n"
      ],
      "text/plain": [
       "+--------------------+\n",
       "|                text|\n",
       "+--------------------+\n",
       "|FREE public plane...|\n",
       "|A computer Scienc...|\n",
       "|Whos the Greatest...|\n",
       "|FULL HD VIDEO || ...|\n",
       "|Tips For Newborn ...|\n",
       "+--------------------+"
      ]
     },
     "execution_count": 8,
     "metadata": {},
     "output_type": "execute_result"
    }
   ],
   "source": [
    "titles_df_raw.limit(5)"
   ]
  },
  {
   "cell_type": "code",
   "execution_count": 9,
   "metadata": {},
   "outputs": [
    {
     "data": {
      "text/plain": [
       "0"
      ]
     },
     "execution_count": 9,
     "metadata": {},
     "output_type": "execute_result"
    }
   ],
   "source": [
    "titles_df_raw.filter(titles_df_raw.text.isNull()).count()"
   ]
  },
  {
   "cell_type": "code",
   "execution_count": 7,
   "metadata": {},
   "outputs": [],
   "source": [
    "# remove None values\n",
    "text = titles_df_raw.filter(titles_df_raw.text.isNotNull())\n",
    "\n",
    "text = titles_df_raw.rdd.map(lambda x : x['text']).filter(lambda x: x is not None)\n",
    "\n",
    "# store stop words\n",
    "StopWords = stopwords.words(\"english\")\n",
    "\n",
    "\n",
    "# tokenize data: \n",
    "# convert each title to lowercase, split it on whitespace \n",
    "# for each word in title: keep only alphanumeric characters, non-stop words, and tokens longer than 3 characters\n",
    "\n",
    "tokens = text\\\n",
    ".map( lambda document: document.strip().lower())\\\n",
    ".map( lambda document: re.split(\" \", document))\\\n",
    ".map( lambda word: [x for x in word if x.isalnum()])\\\n",
    ".map( lambda word: [x for x in word if x not in StopWords])\\\n",
    ".map( lambda word: [x for x in word if len(x) > 3] )\\\n",
    ".zipWithIndex()"
   ]
  },
  {
   "cell_type": "code",
   "execution_count": 8,
   "metadata": {},
   "outputs": [
    {
     "data": {
      "text/html": [
       "<table border='1'>\n",
       "<tr><th>text</th><th>id</th></tr>\n",
       "<tr><td>[FREE public plan...</td><td>0</td></tr>\n",
       "<tr><td>[A computer Scien...</td><td>1</td></tr>\n",
       "<tr><td>[Whos the Greates...</td><td>2</td></tr>\n",
       "<tr><td>[FULL HD VIDEO ||...</td><td>3</td></tr>\n",
       "<tr><td>[Tips For Newborn...</td><td>4</td></tr>\n",
       "</table>\n"
      ],
      "text/plain": [
       "+--------------------+---+\n",
       "|                text| id|\n",
       "+--------------------+---+\n",
       "|[FREE public plan...|  0|\n",
       "|[A computer Scien...|  1|\n",
       "|[Whos the Greates...|  2|\n",
       "|[FULL HD VIDEO ||...|  3|\n",
       "|[Tips For Newborn...|  4|\n",
       "+--------------------+---+"
      ]
     },
     "execution_count": 8,
     "metadata": {},
     "output_type": "execute_result"
    }
   ],
   "source": [
    "# Row object from Spark DF\n",
    "row = Row('text')\n",
    "text_df = text.map(row).zipWithIndex().toDF(['text','id'])\n",
    "\n",
    "text_df.limit(5)"
   ]
  },
  {
   "cell_type": "code",
   "execution_count": 9,
   "metadata": {},
   "outputs": [
    {
     "name": "stdout",
     "output_type": "stream",
     "text": [
      "root\n",
      " |-- text: struct (nullable = true)\n",
      " |    |-- text: string (nullable = true)\n",
      " |-- id: long (nullable = true)\n",
      "\n"
     ]
    }
   ],
   "source": [
    "text_df.printSchema()"
   ]
  },
  {
   "cell_type": "markdown",
   "metadata": {},
   "source": [
    "Confirm size."
   ]
  },
  {
   "cell_type": "markdown",
   "metadata": {},
   "source": [
    "The original size of the frame is maintained, so we must not have had any null values.\n"
   ]
  },
  {
   "cell_type": "markdown",
   "metadata": {},
   "source": [
    "Create a dataframe with two columns: one whose values are arrays of individual tokens from each article title, and one who value is the index of the title."
   ]
  },
  {
   "cell_type": "code",
   "execution_count": 10,
   "metadata": {},
   "outputs": [
    {
     "data": {
      "text/html": [
       "<div>\n",
       "<style scoped>\n",
       "    .dataframe tbody tr th:only-of-type {\n",
       "        vertical-align: middle;\n",
       "    }\n",
       "\n",
       "    .dataframe tbody tr th {\n",
       "        vertical-align: top;\n",
       "    }\n",
       "\n",
       "    .dataframe thead th {\n",
       "        text-align: right;\n",
       "    }\n",
       "</style>\n",
       "<table border=\"1\" class=\"dataframe\">\n",
       "  <thead>\n",
       "    <tr style=\"text-align: right;\">\n",
       "      <th></th>\n",
       "      <th>list_of_words</th>\n",
       "      <th>id</th>\n",
       "    </tr>\n",
       "  </thead>\n",
       "  <tbody>\n",
       "    <tr>\n",
       "      <th>0</th>\n",
       "      <td>[free, public, planetarium, shows, wayne, state, university, planetarium, rsvp]</td>\n",
       "      <td>0</td>\n",
       "    </tr>\n",
       "    <tr>\n",
       "      <th>1</th>\n",
       "      <td>[computer, science, professor, university, sent, email]</td>\n",
       "      <td>1</td>\n",
       "    </tr>\n",
       "    <tr>\n",
       "      <th>2</th>\n",
       "      <td>[whos, greatest, college, football, team, ever]</td>\n",
       "      <td>2</td>\n",
       "    </tr>\n",
       "    <tr>\n",
       "      <th>3</th>\n",
       "      <td>[full, video, college, aabelu, vivek, dubey]</td>\n",
       "      <td>3</td>\n",
       "    </tr>\n",
       "    <tr>\n",
       "      <th>4</th>\n",
       "      <td>[tips, newborn, photography, college, station]</td>\n",
       "      <td>4</td>\n",
       "    </tr>\n",
       "  </tbody>\n",
       "</table>\n",
       "</div>"
      ],
      "text/plain": [
       "                                                                     list_of_words  \\\n",
       "0  [free, public, planetarium, shows, wayne, state, university, planetarium, rsvp]   \n",
       "1                          [computer, science, professor, university, sent, email]   \n",
       "2                                  [whos, greatest, college, football, team, ever]   \n",
       "3                                     [full, video, college, aabelu, vivek, dubey]   \n",
       "4                                   [tips, newborn, photography, college, station]   \n",
       "\n",
       "   id  \n",
       "0   0  \n",
       "1   1  \n",
       "2   2  \n",
       "3   3  \n",
       "4   4  "
      ]
     },
     "execution_count": 10,
     "metadata": {},
     "output_type": "execute_result"
    }
   ],
   "source": [
    "tokens_df = spark.createDataFrame(tokens, [\"list_of_words\",'id'])\n",
    "\n",
    "# drop records with no tokens\n",
    "tokens_df = tokens_df.where(col('list_of_words').getItem(0).isNotNull())\n",
    "\n",
    "# display first 5 rows as a pandas dataframe\n",
    "tokens_df.limit(5).toPandas()"
   ]
  },
  {
   "cell_type": "markdown",
   "metadata": {},
   "source": [
    "### Fit CountVectorizer to create word feature arrays for each title"
   ]
  },
  {
   "cell_type": "code",
   "execution_count": 11,
   "metadata": {},
   "outputs": [],
   "source": [
    "vectorize = CountVectorizer(inputCol=\"list_of_words\", outputCol=\"features\", minDF=1.0)\n",
    "\n",
    "df_vectorize = vectorize.fit(tokens_df).transform(tokens_df)"
   ]
  },
  {
   "cell_type": "code",
   "execution_count": 15,
   "metadata": {},
   "outputs": [
    {
     "data": {
      "text/html": [
       "<table border='1'>\n",
       "<tr><th>text</th><th>id</th></tr>\n",
       "<tr><td>[FREE public plan...</td><td>0</td></tr>\n",
       "<tr><td>[A computer Scien...</td><td>1</td></tr>\n",
       "<tr><td>[Whos the Greates...</td><td>2</td></tr>\n",
       "<tr><td>[FULL HD VIDEO ||...</td><td>3</td></tr>\n",
       "<tr><td>[Tips For Newborn...</td><td>4</td></tr>\n",
       "</table>\n"
      ],
      "text/plain": [
       "+--------------------+---+\n",
       "|                text| id|\n",
       "+--------------------+---+\n",
       "|[FREE public plan...|  0|\n",
       "|[A computer Scien...|  1|\n",
       "|[Whos the Greates...|  2|\n",
       "|[FULL HD VIDEO ||...|  3|\n",
       "|[Tips For Newborn...|  4|\n",
       "+--------------------+---+"
      ]
     },
     "execution_count": 15,
     "metadata": {},
     "output_type": "execute_result"
    }
   ],
   "source": [
    "text_df.limit(5)"
   ]
  },
  {
   "cell_type": "code",
   "execution_count": 12,
   "metadata": {},
   "outputs": [
    {
     "data": {
      "text/html": [
       "<div>\n",
       "<style scoped>\n",
       "    .dataframe tbody tr th:only-of-type {\n",
       "        vertical-align: middle;\n",
       "    }\n",
       "\n",
       "    .dataframe tbody tr th {\n",
       "        vertical-align: top;\n",
       "    }\n",
       "\n",
       "    .dataframe thead th {\n",
       "        text-align: right;\n",
       "    }\n",
       "</style>\n",
       "<table border=\"1\" class=\"dataframe\">\n",
       "  <thead>\n",
       "    <tr style=\"text-align: right;\">\n",
       "      <th></th>\n",
       "      <th>list_of_words</th>\n",
       "      <th>id</th>\n",
       "      <th>features</th>\n",
       "    </tr>\n",
       "  </thead>\n",
       "  <tbody>\n",
       "    <tr>\n",
       "      <th>0</th>\n",
       "      <td>[free, public, planetarium, shows, wayne, state, university, planetarium, rsvp]</td>\n",
       "      <td>0</td>\n",
       "      <td>(0.0, 1.0, 1.0, 0.0, 0.0, 0.0, 0.0, 0.0, 0.0, 0.0, 0.0, 0.0, 0.0, 0.0, 0.0, 0.0, 0.0, 0.0, 1.0, 0.0, 0.0, 0.0, 0.0, 0.0, 0.0, 0.0, 0.0, 0.0, 0.0, 0.0, 0.0, 0.0, 0.0, 0.0, 0.0, 0.0, 0.0, 0.0, 0.0, 0.0, 0.0, 0.0, 0.0, 0.0, 0.0, 0.0, 0.0, 0.0, 0.0, 0.0, 0.0, 0.0, 0.0, 0.0, 0.0, 0.0, 0.0, 0.0, 0.0, 0.0, 0.0, 0.0, 0.0, 0.0, 0.0, 0.0, 0.0, 0.0, 0.0, 0.0, 0.0, 0.0, 0.0, 0.0, 0.0, 0.0, 0.0, 0.0, 0.0, 0.0, 0.0, 0.0, 0.0, 0.0, 1.0, 0.0, 0.0, 0.0, 0.0, 0.0, 0.0, 0.0, 0.0, 0.0, 0.0, 0.0, 0.0, 0.0, 0.0, 0.0, ...)</td>\n",
       "    </tr>\n",
       "    <tr>\n",
       "      <th>1</th>\n",
       "      <td>[computer, science, professor, university, sent, email]</td>\n",
       "      <td>1</td>\n",
       "      <td>(0.0, 1.0, 0.0, 0.0, 0.0, 0.0, 0.0, 0.0, 0.0, 0.0, 0.0, 0.0, 0.0, 0.0, 0.0, 0.0, 0.0, 0.0, 0.0, 0.0, 0.0, 0.0, 0.0, 0.0, 0.0, 0.0, 0.0, 0.0, 0.0, 0.0, 0.0, 0.0, 0.0, 0.0, 0.0, 1.0, 0.0, 0.0, 0.0, 0.0, 0.0, 0.0, 0.0, 0.0, 0.0, 0.0, 0.0, 0.0, 0.0, 0.0, 0.0, 0.0, 0.0, 0.0, 0.0, 0.0, 0.0, 0.0, 0.0, 0.0, 0.0, 0.0, 0.0, 0.0, 0.0, 0.0, 0.0, 0.0, 0.0, 0.0, 0.0, 0.0, 0.0, 0.0, 0.0, 1.0, 0.0, 0.0, 0.0, 0.0, 0.0, 0.0, 0.0, 0.0, 0.0, 0.0, 0.0, 0.0, 0.0, 0.0, 0.0, 0.0, 0.0, 0.0, 0.0, 0.0, 0.0, 0.0, 0.0, 0.0, ...)</td>\n",
       "    </tr>\n",
       "    <tr>\n",
       "      <th>2</th>\n",
       "      <td>[whos, greatest, college, football, team, ever]</td>\n",
       "      <td>2</td>\n",
       "      <td>(1.0, 0.0, 0.0, 0.0, 0.0, 0.0, 0.0, 0.0, 0.0, 0.0, 0.0, 0.0, 1.0, 0.0, 0.0, 0.0, 0.0, 0.0, 0.0, 0.0, 0.0, 0.0, 0.0, 0.0, 0.0, 0.0, 0.0, 0.0, 0.0, 0.0, 0.0, 0.0, 0.0, 0.0, 0.0, 0.0, 0.0, 0.0, 0.0, 0.0, 0.0, 0.0, 0.0, 0.0, 0.0, 0.0, 0.0, 0.0, 0.0, 0.0, 0.0, 0.0, 0.0, 0.0, 0.0, 0.0, 0.0, 0.0, 0.0, 0.0, 0.0, 0.0, 0.0, 0.0, 0.0, 0.0, 0.0, 0.0, 0.0, 0.0, 0.0, 0.0, 0.0, 0.0, 0.0, 0.0, 1.0, 0.0, 0.0, 0.0, 0.0, 0.0, 0.0, 0.0, 0.0, 0.0, 0.0, 0.0, 0.0, 0.0, 0.0, 0.0, 0.0, 0.0, 0.0, 0.0, 0.0, 0.0, 0.0, 0.0, ...)</td>\n",
       "    </tr>\n",
       "    <tr>\n",
       "      <th>3</th>\n",
       "      <td>[full, video, college, aabelu, vivek, dubey]</td>\n",
       "      <td>3</td>\n",
       "      <td>(1.0, 0.0, 0.0, 0.0, 0.0, 0.0, 0.0, 0.0, 0.0, 0.0, 0.0, 0.0, 0.0, 0.0, 0.0, 0.0, 0.0, 0.0, 0.0, 0.0, 0.0, 0.0, 0.0, 0.0, 0.0, 0.0, 0.0, 0.0, 0.0, 0.0, 0.0, 0.0, 0.0, 0.0, 0.0, 0.0, 0.0, 0.0, 0.0, 0.0, 0.0, 0.0, 0.0, 0.0, 0.0, 0.0, 0.0, 0.0, 0.0, 0.0, 0.0, 0.0, 0.0, 0.0, 0.0, 0.0, 0.0, 0.0, 0.0, 0.0, 0.0, 0.0, 0.0, 0.0, 0.0, 0.0, 0.0, 0.0, 0.0, 0.0, 0.0, 0.0, 0.0, 0.0, 0.0, 0.0, 0.0, 0.0, 0.0, 0.0, 0.0, 0.0, 0.0, 0.0, 0.0, 0.0, 0.0, 0.0, 0.0, 0.0, 0.0, 0.0, 0.0, 0.0, 0.0, 0.0, 0.0, 0.0, 0.0, 0.0, ...)</td>\n",
       "    </tr>\n",
       "    <tr>\n",
       "      <th>4</th>\n",
       "      <td>[tips, newborn, photography, college, station]</td>\n",
       "      <td>4</td>\n",
       "      <td>(1.0, 0.0, 0.0, 0.0, 0.0, 0.0, 0.0, 0.0, 0.0, 0.0, 0.0, 0.0, 0.0, 0.0, 0.0, 0.0, 0.0, 0.0, 0.0, 0.0, 0.0, 0.0, 0.0, 0.0, 0.0, 0.0, 0.0, 0.0, 0.0, 0.0, 0.0, 0.0, 0.0, 0.0, 0.0, 0.0, 0.0, 0.0, 0.0, 0.0, 0.0, 0.0, 0.0, 0.0, 0.0, 0.0, 0.0, 0.0, 0.0, 0.0, 0.0, 0.0, 0.0, 0.0, 0.0, 0.0, 0.0, 0.0, 0.0, 0.0, 0.0, 0.0, 0.0, 0.0, 0.0, 0.0, 0.0, 0.0, 0.0, 0.0, 0.0, 0.0, 0.0, 0.0, 0.0, 0.0, 0.0, 0.0, 0.0, 0.0, 0.0, 0.0, 0.0, 0.0, 0.0, 0.0, 0.0, 0.0, 0.0, 0.0, 0.0, 0.0, 0.0, 0.0, 0.0, 0.0, 0.0, 0.0, 0.0, 0.0, ...)</td>\n",
       "    </tr>\n",
       "  </tbody>\n",
       "</table>\n",
       "</div>"
      ],
      "text/plain": [
       "                                                                     list_of_words  \\\n",
       "0  [free, public, planetarium, shows, wayne, state, university, planetarium, rsvp]   \n",
       "1                          [computer, science, professor, university, sent, email]   \n",
       "2                                  [whos, greatest, college, football, team, ever]   \n",
       "3                                     [full, video, college, aabelu, vivek, dubey]   \n",
       "4                                   [tips, newborn, photography, college, station]   \n",
       "\n",
       "   id  \\\n",
       "0   0   \n",
       "1   1   \n",
       "2   2   \n",
       "3   3   \n",
       "4   4   \n",
       "\n",
       "                                                                                                                                                                                                                                                                                                                                                                                                                                                                                                                    features  \n",
       "0  (0.0, 1.0, 1.0, 0.0, 0.0, 0.0, 0.0, 0.0, 0.0, 0.0, 0.0, 0.0, 0.0, 0.0, 0.0, 0.0, 0.0, 0.0, 1.0, 0.0, 0.0, 0.0, 0.0, 0.0, 0.0, 0.0, 0.0, 0.0, 0.0, 0.0, 0.0, 0.0, 0.0, 0.0, 0.0, 0.0, 0.0, 0.0, 0.0, 0.0, 0.0, 0.0, 0.0, 0.0, 0.0, 0.0, 0.0, 0.0, 0.0, 0.0, 0.0, 0.0, 0.0, 0.0, 0.0, 0.0, 0.0, 0.0, 0.0, 0.0, 0.0, 0.0, 0.0, 0.0, 0.0, 0.0, 0.0, 0.0, 0.0, 0.0, 0.0, 0.0, 0.0, 0.0, 0.0, 0.0, 0.0, 0.0, 0.0, 0.0, 0.0, 0.0, 0.0, 0.0, 1.0, 0.0, 0.0, 0.0, 0.0, 0.0, 0.0, 0.0, 0.0, 0.0, 0.0, 0.0, 0.0, 0.0, 0.0, 0.0, ...)  \n",
       "1  (0.0, 1.0, 0.0, 0.0, 0.0, 0.0, 0.0, 0.0, 0.0, 0.0, 0.0, 0.0, 0.0, 0.0, 0.0, 0.0, 0.0, 0.0, 0.0, 0.0, 0.0, 0.0, 0.0, 0.0, 0.0, 0.0, 0.0, 0.0, 0.0, 0.0, 0.0, 0.0, 0.0, 0.0, 0.0, 1.0, 0.0, 0.0, 0.0, 0.0, 0.0, 0.0, 0.0, 0.0, 0.0, 0.0, 0.0, 0.0, 0.0, 0.0, 0.0, 0.0, 0.0, 0.0, 0.0, 0.0, 0.0, 0.0, 0.0, 0.0, 0.0, 0.0, 0.0, 0.0, 0.0, 0.0, 0.0, 0.0, 0.0, 0.0, 0.0, 0.0, 0.0, 0.0, 0.0, 1.0, 0.0, 0.0, 0.0, 0.0, 0.0, 0.0, 0.0, 0.0, 0.0, 0.0, 0.0, 0.0, 0.0, 0.0, 0.0, 0.0, 0.0, 0.0, 0.0, 0.0, 0.0, 0.0, 0.0, 0.0, ...)  \n",
       "2  (1.0, 0.0, 0.0, 0.0, 0.0, 0.0, 0.0, 0.0, 0.0, 0.0, 0.0, 0.0, 1.0, 0.0, 0.0, 0.0, 0.0, 0.0, 0.0, 0.0, 0.0, 0.0, 0.0, 0.0, 0.0, 0.0, 0.0, 0.0, 0.0, 0.0, 0.0, 0.0, 0.0, 0.0, 0.0, 0.0, 0.0, 0.0, 0.0, 0.0, 0.0, 0.0, 0.0, 0.0, 0.0, 0.0, 0.0, 0.0, 0.0, 0.0, 0.0, 0.0, 0.0, 0.0, 0.0, 0.0, 0.0, 0.0, 0.0, 0.0, 0.0, 0.0, 0.0, 0.0, 0.0, 0.0, 0.0, 0.0, 0.0, 0.0, 0.0, 0.0, 0.0, 0.0, 0.0, 0.0, 1.0, 0.0, 0.0, 0.0, 0.0, 0.0, 0.0, 0.0, 0.0, 0.0, 0.0, 0.0, 0.0, 0.0, 0.0, 0.0, 0.0, 0.0, 0.0, 0.0, 0.0, 0.0, 0.0, 0.0, ...)  \n",
       "3  (1.0, 0.0, 0.0, 0.0, 0.0, 0.0, 0.0, 0.0, 0.0, 0.0, 0.0, 0.0, 0.0, 0.0, 0.0, 0.0, 0.0, 0.0, 0.0, 0.0, 0.0, 0.0, 0.0, 0.0, 0.0, 0.0, 0.0, 0.0, 0.0, 0.0, 0.0, 0.0, 0.0, 0.0, 0.0, 0.0, 0.0, 0.0, 0.0, 0.0, 0.0, 0.0, 0.0, 0.0, 0.0, 0.0, 0.0, 0.0, 0.0, 0.0, 0.0, 0.0, 0.0, 0.0, 0.0, 0.0, 0.0, 0.0, 0.0, 0.0, 0.0, 0.0, 0.0, 0.0, 0.0, 0.0, 0.0, 0.0, 0.0, 0.0, 0.0, 0.0, 0.0, 0.0, 0.0, 0.0, 0.0, 0.0, 0.0, 0.0, 0.0, 0.0, 0.0, 0.0, 0.0, 0.0, 0.0, 0.0, 0.0, 0.0, 0.0, 0.0, 0.0, 0.0, 0.0, 0.0, 0.0, 0.0, 0.0, 0.0, ...)  \n",
       "4  (1.0, 0.0, 0.0, 0.0, 0.0, 0.0, 0.0, 0.0, 0.0, 0.0, 0.0, 0.0, 0.0, 0.0, 0.0, 0.0, 0.0, 0.0, 0.0, 0.0, 0.0, 0.0, 0.0, 0.0, 0.0, 0.0, 0.0, 0.0, 0.0, 0.0, 0.0, 0.0, 0.0, 0.0, 0.0, 0.0, 0.0, 0.0, 0.0, 0.0, 0.0, 0.0, 0.0, 0.0, 0.0, 0.0, 0.0, 0.0, 0.0, 0.0, 0.0, 0.0, 0.0, 0.0, 0.0, 0.0, 0.0, 0.0, 0.0, 0.0, 0.0, 0.0, 0.0, 0.0, 0.0, 0.0, 0.0, 0.0, 0.0, 0.0, 0.0, 0.0, 0.0, 0.0, 0.0, 0.0, 0.0, 0.0, 0.0, 0.0, 0.0, 0.0, 0.0, 0.0, 0.0, 0.0, 0.0, 0.0, 0.0, 0.0, 0.0, 0.0, 0.0, 0.0, 0.0, 0.0, 0.0, 0.0, 0.0, 0.0, ...)  "
      ]
     },
     "execution_count": 12,
     "metadata": {},
     "output_type": "execute_result"
    }
   ],
   "source": [
    "df_vectorize.limit(5).toPandas()"
   ]
  },
  {
   "cell_type": "markdown",
   "metadata": {},
   "source": [
    "### Fit MinHashLSH to create hash table"
   ]
  },
  {
   "cell_type": "code",
   "execution_count": 13,
   "metadata": {},
   "outputs": [],
   "source": [
    "min_hash = MinHashLSH(inputCol=\"features\", outputCol=\"hashes\", numHashTables=3)\n",
    "model = min_hash.fit(df_vectorize)\n",
    "hashed_df = min_hash.fit(df_vectorize).transform(df_vectorize).cache()"
   ]
  },
  {
   "cell_type": "code",
   "execution_count": 18,
   "metadata": {},
   "outputs": [
    {
     "data": {
      "text/html": [
       "<table border='1'>\n",
       "<tr><th>list_of_words</th><th>id</th><th>features</th><th>hashes</th></tr>\n",
       "<tr><td>[free, public, pl...</td><td>0</td><td>(28959,[1,2,18,84...</td><td>[[4.08246304E8], ...</td></tr>\n",
       "<tr><td>[computer, scienc...</td><td>1</td><td>(28959,[1,35,75,4...</td><td>[[1.04460723E8], ...</td></tr>\n",
       "<tr><td>[whos, greatest, ...</td><td>2</td><td>(28959,[0,12,76,8...</td><td>[[4.7945584E7], [...</td></tr>\n",
       "<tr><td>[full, video, col...</td><td>3</td><td>(28959,[0,169,203...</td><td>[[4.7945584E7], [...</td></tr>\n",
       "<tr><td>[tips, newborn, p...</td><td>4</td><td>(28959,[0,300,305...</td><td>[[4.7945584E7], [...</td></tr>\n",
       "</table>\n"
      ],
      "text/plain": [
       "+--------------------+---+--------------------+--------------------+\n",
       "|       list_of_words| id|            features|              hashes|\n",
       "+--------------------+---+--------------------+--------------------+\n",
       "|[free, public, pl...|  0|(28959,[1,2,18,84...|[[4.08246304E8], ...|\n",
       "|[computer, scienc...|  1|(28959,[1,35,75,4...|[[1.04460723E8], ...|\n",
       "|[whos, greatest, ...|  2|(28959,[0,12,76,8...|[[4.7945584E7], [...|\n",
       "|[full, video, col...|  3|(28959,[0,169,203...|[[4.7945584E7], [...|\n",
       "|[tips, newborn, p...|  4|(28959,[0,300,305...|[[4.7945584E7], [...|\n",
       "+--------------------+---+--------------------+--------------------+"
      ]
     },
     "execution_count": 18,
     "metadata": {},
     "output_type": "execute_result"
    }
   ],
   "source": [
    "hashed_df.limit(5)"
   ]
  },
  {
   "cell_type": "code",
   "execution_count": 14,
   "metadata": {},
   "outputs": [],
   "source": [
    "hashed_text_df = text_df.join(hashed_df, on=\"id\", how = 'left')"
   ]
  },
  {
   "cell_type": "code",
   "execution_count": 15,
   "metadata": {},
   "outputs": [
    {
     "data": {
      "text/html": [
       "<table border='1'>\n",
       "<tr><th>id</th><th>text</th><th>list_of_words</th><th>features</th><th>hashes</th></tr>\n",
       "<tr><td>26</td><td>[New Headmaster J...</td><td>[headmaster, join...</td><td>(28959,[0,5,162,3...</td><td>[[4.7945584E7], [...</td></tr>\n",
       "<tr><td>29</td><td>[College track an...</td><td>[college, track, ...</td><td>(28959,[0,559,191...</td><td>[[4.7945584E7], [...</td></tr>\n",
       "<tr><td>474</td><td>[thirumurugan gan...</td><td>[thirumurugan, ga...</td><td>(28959,[0,127,154...</td><td>[[4.7945584E7], [...</td></tr>\n",
       "<tr><td>964</td><td>[Edward Waters Co...</td><td>[edward, waters, ...</td><td>(28959,[0,110,202...</td><td>[[4.7945584E7], [...</td></tr>\n",
       "<tr><td>1677</td><td>[Community colleg...</td><td>[community, colle...</td><td>(28959,[0,15,50,3...</td><td>[[4.7945584E7], [...</td></tr>\n",
       "<tr><td>1697</td><td>[[Once-great Brit...</td><td>[britain, explodi...</td><td>(28959,[42,86,133...</td><td>[[2.1725789E7], [...</td></tr>\n",
       "<tr><td>1806</td><td>[Measles case at ...</td><td>[measles, case, i...</td><td>(28959,[1,194,358...</td><td>[[2.44739512E8], ...</td></tr>\n",
       "<tr><td>1950</td><td>[Oregon college s...</td><td>[oregon, college,...</td><td>(28959,[0,278,393...</td><td>[[4.7945584E7], [...</td></tr>\n",
       "<tr><td>2040</td><td>[Gipson’s Career ...</td><td>[career, lifts, g...</td><td>(28959,[0,6,196,2...</td><td>[[4.7945584E7], [...</td></tr>\n",
       "<tr><td>2214</td><td>[e-Headlines – Co...</td><td>[community, colle...</td><td>(28959,[0,15,210]...</td><td>[[4.7945584E7], [...</td></tr>\n",
       "<tr><td>2250</td><td>[| Top Universities]</td><td>[universities]</td><td>(28959,[7],[1.0])</td><td>[[8.74478509E8], ...</td></tr>\n",
       "<tr><td>2453</td><td>[Embattled Missou...</td><td>[embattled, misso...</td><td>(28959,[8,270,375...</td><td>[[7.1157861E7], [...</td></tr>\n",
       "<tr><td>2509</td><td>[diphling comment...</td><td>[diphling, commen...</td><td>(28959,[0,4,28,50...</td><td>[[4.7945584E7], [...</td></tr>\n",
       "<tr><td>2529</td><td>[Embattled Missou...</td><td>[embattled, misso...</td><td>(28959,[8,270,375...</td><td>[[7.1157861E7], [...</td></tr>\n",
       "<tr><td>2927</td><td>[Oxford Universit...</td><td>[oxford, universi...</td><td>(28959,[1,54,60,1...</td><td>[[1.8678956E7], [...</td></tr>\n",
       "<tr><td>3091</td><td>[Dr. APJ Abdul Ka...</td><td>[abdul, kalam, te...</td><td>(28959,[238,4395,...</td><td>[[1.56947491E8], ...</td></tr>\n",
       "<tr><td>3506</td><td>[Johns Hopkins Un...</td><td>[johns, hopkins, ...</td><td>(28959,[1,42,509,...</td><td>[[6.61165E7], [3....</td></tr>\n",
       "<tr><td>3764</td><td>[how to write a p...</td><td>[write, personal,...</td><td>(28959,[0,27,113,...</td><td>[[3.331227E7], [1...</td></tr>\n",
       "<tr><td>4590</td><td>[Google Alert - c...</td><td>[google, alert, c...</td><td>(28959,[0,12,13,1...</td><td>[[4.7945584E7], [...</td></tr>\n",
       "<tr><td>4823</td><td>[College Looking ...</td><td>[college, looking...</td><td>(28959,[0,33,83,1...</td><td>[[4.1891233E7], [...</td></tr>\n",
       "</table>\n",
       "only showing top 20 rows\n"
      ],
      "text/plain": [
       "+----+--------------------+--------------------+--------------------+--------------------+\n",
       "|  id|                text|       list_of_words|            features|              hashes|\n",
       "+----+--------------------+--------------------+--------------------+--------------------+\n",
       "|  26|[New Headmaster J...|[headmaster, join...|(28959,[0,5,162,3...|[[4.7945584E7], [...|\n",
       "|  29|[College track an...|[college, track, ...|(28959,[0,559,191...|[[4.7945584E7], [...|\n",
       "| 474|[thirumurugan gan...|[thirumurugan, ga...|(28959,[0,127,154...|[[4.7945584E7], [...|\n",
       "| 964|[Edward Waters Co...|[edward, waters, ...|(28959,[0,110,202...|[[4.7945584E7], [...|\n",
       "|1677|[Community colleg...|[community, colle...|(28959,[0,15,50,3...|[[4.7945584E7], [...|\n",
       "|1697|[[Once-great Brit...|[britain, explodi...|(28959,[42,86,133...|[[2.1725789E7], [...|\n",
       "|1806|[Measles case at ...|[measles, case, i...|(28959,[1,194,358...|[[2.44739512E8], ...|\n",
       "|1950|[Oregon college s...|[oregon, college,...|(28959,[0,278,393...|[[4.7945584E7], [...|\n",
       "|2040|[Gipson’s Career ...|[career, lifts, g...|(28959,[0,6,196,2...|[[4.7945584E7], [...|\n",
       "|2214|[e-Headlines – Co...|[community, colle...|(28959,[0,15,210]...|[[4.7945584E7], [...|\n",
       "|2250|[| Top Universities]|      [universities]|   (28959,[7],[1.0])|[[8.74478509E8], ...|\n",
       "|2453|[Embattled Missou...|[embattled, misso...|(28959,[8,270,375...|[[7.1157861E7], [...|\n",
       "|2509|[diphling comment...|[diphling, commen...|(28959,[0,4,28,50...|[[4.7945584E7], [...|\n",
       "|2529|[Embattled Missou...|[embattled, misso...|(28959,[8,270,375...|[[7.1157861E7], [...|\n",
       "|2927|[Oxford Universit...|[oxford, universi...|(28959,[1,54,60,1...|[[1.8678956E7], [...|\n",
       "|3091|[Dr. APJ Abdul Ka...|[abdul, kalam, te...|(28959,[238,4395,...|[[1.56947491E8], ...|\n",
       "|3506|[Johns Hopkins Un...|[johns, hopkins, ...|(28959,[1,42,509,...|[[6.61165E7], [3....|\n",
       "|3764|[how to write a p...|[write, personal,...|(28959,[0,27,113,...|[[3.331227E7], [1...|\n",
       "|4590|[Google Alert - c...|[google, alert, c...|(28959,[0,12,13,1...|[[4.7945584E7], [...|\n",
       "|4823|[College Looking ...|[college, looking...|(28959,[0,33,83,1...|[[4.1891233E7], [...|\n",
       "+----+--------------------+--------------------+--------------------+--------------------+\n",
       "only showing top 20 rows"
      ]
     },
     "execution_count": 15,
     "metadata": {},
     "output_type": "execute_result"
    }
   ],
   "source": [
    "hashed_text_df.cache()"
   ]
  },
  {
   "cell_type": "code",
   "execution_count": 16,
   "metadata": {},
   "outputs": [
    {
     "data": {
      "text/html": [
       "<table border='1'>\n",
       "<tr><th>id</th><th>text</th><th>list_of_words</th><th>features</th><th>hashes</th></tr>\n",
       "<tr><td>26</td><td>[New Headmaster J...</td><td>[headmaster, join...</td><td>(28959,[0,5,162,3...</td><td>[[4.7945584E7], [...</td></tr>\n",
       "<tr><td>29</td><td>[College track an...</td><td>[college, track, ...</td><td>(28959,[0,559,191...</td><td>[[4.7945584E7], [...</td></tr>\n",
       "<tr><td>474</td><td>[thirumurugan gan...</td><td>[thirumurugan, ga...</td><td>(28959,[0,127,154...</td><td>[[4.7945584E7], [...</td></tr>\n",
       "<tr><td>964</td><td>[Edward Waters Co...</td><td>[edward, waters, ...</td><td>(28959,[0,110,202...</td><td>[[4.7945584E7], [...</td></tr>\n",
       "<tr><td>1677</td><td>[Community colleg...</td><td>[community, colle...</td><td>(28959,[0,15,50,3...</td><td>[[4.7945584E7], [...</td></tr>\n",
       "</table>\n"
      ],
      "text/plain": [
       "+----+--------------------+--------------------+--------------------+--------------------+\n",
       "|  id|                text|       list_of_words|            features|              hashes|\n",
       "+----+--------------------+--------------------+--------------------+--------------------+\n",
       "|  26|[New Headmaster J...|[headmaster, join...|(28959,[0,5,162,3...|[[4.7945584E7], [...|\n",
       "|  29|[College track an...|[college, track, ...|(28959,[0,559,191...|[[4.7945584E7], [...|\n",
       "| 474|[thirumurugan gan...|[thirumurugan, ga...|(28959,[0,127,154...|[[4.7945584E7], [...|\n",
       "| 964|[Edward Waters Co...|[edward, waters, ...|(28959,[0,110,202...|[[4.7945584E7], [...|\n",
       "|1677|[Community colleg...|[community, colle...|(28959,[0,15,50,3...|[[4.7945584E7], [...|\n",
       "+----+--------------------+--------------------+--------------------+--------------------+"
      ]
     },
     "execution_count": 16,
     "metadata": {},
     "output_type": "execute_result"
    }
   ],
   "source": [
    "hashed_text_df.limit(5)"
   ]
  },
  {
   "cell_type": "code",
   "execution_count": 17,
   "metadata": {},
   "outputs": [],
   "source": [
    "hashed_df.unpersist();"
   ]
  },
  {
   "cell_type": "markdown",
   "metadata": {},
   "source": [
    "### Try different Jaccard similarity thresholds, examine results"
   ]
  },
  {
   "cell_type": "markdown",
   "metadata": {},
   "source": [
    "#### Jaccard distance of 0.3 (similarity of at least 0.7)"
   ]
  },
  {
   "cell_type": "code",
   "execution_count": 30,
   "metadata": {},
   "outputs": [],
   "source": [
    "jaccard_distance = 0.3\n",
    "\n",
    "df_dups_text = model.approxSimilarityJoin(hashed_text_df, hashed_text_df, jaccard_distance).filter(\"datasetA.id < datasetB.id\").select(\n",
    "            col(\"distCol\").alias(\"jacc_distance\"),\n",
    "            col(\"datasetA.id\").alias(\"text_id_A\"),\n",
    "            col(\"datasetB.id\").alias(\"text_id_B\"),\n",
    "            col('datasetA.text').alias('text_A'),\n",
    "            col('datasetB.text').alias('text_B'),\n",
    "#             col('datasetA.list_of_words').alias('words_A'),\n",
    "#             col('datasetB.list_of_words').alias('words_B')\n",
    "            )"
   ]
  },
  {
   "cell_type": "code",
   "execution_count": 31,
   "metadata": {},
   "outputs": [
    {
     "data": {
      "text/html": [
       "<div>\n",
       "<style scoped>\n",
       "    .dataframe tbody tr th:only-of-type {\n",
       "        vertical-align: middle;\n",
       "    }\n",
       "\n",
       "    .dataframe tbody tr th {\n",
       "        vertical-align: top;\n",
       "    }\n",
       "\n",
       "    .dataframe thead th {\n",
       "        text-align: right;\n",
       "    }\n",
       "</style>\n",
       "<table border=\"1\" class=\"dataframe\">\n",
       "  <thead>\n",
       "    <tr style=\"text-align: right;\">\n",
       "      <th></th>\n",
       "      <th>jacc_distance</th>\n",
       "      <th>text_id_A</th>\n",
       "      <th>text_id_B</th>\n",
       "      <th>text_A</th>\n",
       "      <th>text_B</th>\n",
       "    </tr>\n",
       "  </thead>\n",
       "  <tbody>\n",
       "    <tr>\n",
       "      <th>0</th>\n",
       "      <td>0.00</td>\n",
       "      <td>1473</td>\n",
       "      <td>2482</td>\n",
       "      <td>(University of Kansas group wants school to sell jet,)</td>\n",
       "      <td>(University of Kansas Group Wants School to Sell Jet,)</td>\n",
       "    </tr>\n",
       "    <tr>\n",
       "      <th>1</th>\n",
       "      <td>0.00</td>\n",
       "      <td>16868</td>\n",
       "      <td>16989</td>\n",
       "      <td>(State AG: Michigan State University Under Investigation In Ongoing Nassar Fallout,)</td>\n",
       "      <td>(State AG: Michigan State University Under Investigation In Ongoing Nassar Fallout,)</td>\n",
       "    </tr>\n",
       "    <tr>\n",
       "      <th>2</th>\n",
       "      <td>0.25</td>\n",
       "      <td>17427</td>\n",
       "      <td>26976</td>\n",
       "      <td>(Google Alert - college,)</td>\n",
       "      <td>(Google Alert - college football,)</td>\n",
       "    </tr>\n",
       "    <tr>\n",
       "      <th>3</th>\n",
       "      <td>0.25</td>\n",
       "      <td>17427</td>\n",
       "      <td>53740</td>\n",
       "      <td>(Google Alert - college,)</td>\n",
       "      <td>(Google Alert - college football,)</td>\n",
       "    </tr>\n",
       "    <tr>\n",
       "      <th>4</th>\n",
       "      <td>0.25</td>\n",
       "      <td>17427</td>\n",
       "      <td>24809</td>\n",
       "      <td>(Google Alert - college,)</td>\n",
       "      <td>(Google Alert - college football,)</td>\n",
       "    </tr>\n",
       "  </tbody>\n",
       "</table>\n",
       "</div>"
      ],
      "text/plain": [
       "   jacc_distance  text_id_A  text_id_B  \\\n",
       "0           0.00       1473       2482   \n",
       "1           0.00      16868      16989   \n",
       "2           0.25      17427      26976   \n",
       "3           0.25      17427      53740   \n",
       "4           0.25      17427      24809   \n",
       "\n",
       "                                                                                 text_A  \\\n",
       "0                                (University of Kansas group wants school to sell jet,)   \n",
       "1  (State AG: Michigan State University Under Investigation In Ongoing Nassar Fallout,)   \n",
       "2                                                             (Google Alert - college,)   \n",
       "3                                                             (Google Alert - college,)   \n",
       "4                                                             (Google Alert - college,)   \n",
       "\n",
       "                                                                                 text_B  \n",
       "0                                (University of Kansas Group Wants School to Sell Jet,)  \n",
       "1  (State AG: Michigan State University Under Investigation In Ongoing Nassar Fallout,)  \n",
       "2                                                    (Google Alert - college football,)  \n",
       "3                                                    (Google Alert - college football,)  \n",
       "4                                                    (Google Alert - college football,)  "
      ]
     },
     "execution_count": 31,
     "metadata": {},
     "output_type": "execute_result"
    }
   ],
   "source": [
    "df_dups_30 = df_dups_text\n",
    "df_dups_text.cache()\n",
    "df_dups_text.limit(5).toPandas()"
   ]
  },
  {
   "cell_type": "markdown",
   "metadata": {},
   "source": [
    "Article titles with Jaccard distance of 0 are duplicates -- (their similarity is 1.0). The first few rows shown above are different articles (with unique IDs) but are actually duplicates of each other."
   ]
  },
  {
   "cell_type": "code",
   "execution_count": 32,
   "metadata": {},
   "outputs": [
    {
     "name": "stdout",
     "output_type": "stream",
     "text": [
      "Total records:  57500\n",
      "Duplicate titles based on { 0.3 } jaccard distance:  20113\n",
      "Unique titles based on { 0.3 } jaccard distance:  0.3 :  37387\n"
     ]
    }
   ],
   "source": [
    "records = hashed_text_df.count()\n",
    "dups = df_dups_text.select('text_id_A').distinct().count()\n",
    "uniques = records - dups\n",
    "\n",
    "print ('Total records: ', records)\n",
    "print ('Duplicate titles based on {', jaccard_distance, '} jaccard distance: ', dups)\n",
    "print ('Unique titles based on {', jaccard_distance, '} jaccard distance: ', jaccard_distance, ': ', uniques)"
   ]
  },
  {
   "cell_type": "markdown",
   "metadata": {},
   "source": [
    "Create bar chart showing values of unique versus near duplicates."
   ]
  },
  {
   "cell_type": "code",
   "execution_count": 34,
   "metadata": {},
   "outputs": [
    {
     "data": {
      "image/png": "[encoded data removed]",
      "text/plain": [
       "<Figure size 432x288 with 1 Axes>"
      ]
     },
     "metadata": {
      "needs_background": "light"
     },
     "output_type": "display_data"
    }
   ],
   "source": [
    "dups_df = pd.DataFrame.from_dict({'near_dups': [dups], 'unique': [uniques]})\n",
    "\n",
    "ax=dups_df.plot(kind ='bar', y=['near_dups', 'unique'], fontsize=10, color=['C0', 'C1'], align='center', width=0.8, xlabel=\"Duplicates vs. Unique\")\n",
    "ax.set_title('News title duplication analysis at Jaccard distance threshold of 0.3', fontsize=15)\n",
    "for p in ax.patches:\n",
    "       ax.annotate(format(p.get_height(), '.1f'), \n",
    "                   (p.get_x() + p.get_width() / 2., p.get_height()/2), \n",
    "                   ha = 'center', va = 'center', \n",
    "                   xytext = (0, 9), \n",
    "                   textcoords = 'offset points') "
   ]
  },
  {
   "cell_type": "markdown",
   "metadata": {},
   "source": [
    "**When the distance threshold is 0.3, we see nearly double the number of unique article pairs than duplicates.** At 0.3, we're saying that pairs have to have at least 0.7 similarity, which is fairly high so this result is not unsurprising."
   ]
  },
  {
   "cell_type": "markdown",
   "metadata": {},
   "source": [
    "Create histogram of near-duplication (I understood this to mean the following: a histogram showing distribution of Jaccard distance values for those pairs that were called dups by our algorithm)."
   ]
  },
  {
   "cell_type": "code",
   "execution_count": 39,
   "metadata": {},
   "outputs": [
    {
     "data": {
      "text/plain": [
       "20117"
      ]
     },
     "execution_count": 39,
     "metadata": {},
     "output_type": "execute_result"
    }
   ],
   "source": [
    "df_dups_text.select('jacc_distance', 'text_id_A').dropDuplicates(['text_id_A']).count()"
   ]
  },
  {
   "cell_type": "code",
   "execution_count": 40,
   "metadata": {},
   "outputs": [
    {
     "data": {
      "text/html": [
       "<div>\n",
       "<style scoped>\n",
       "    .dataframe tbody tr th:only-of-type {\n",
       "        vertical-align: middle;\n",
       "    }\n",
       "\n",
       "    .dataframe tbody tr th {\n",
       "        vertical-align: top;\n",
       "    }\n",
       "\n",
       "    .dataframe thead th {\n",
       "        text-align: right;\n",
       "    }\n",
       "</style>\n",
       "<table border=\"1\" class=\"dataframe\">\n",
       "  <thead>\n",
       "    <tr style=\"text-align: right;\">\n",
       "      <th></th>\n",
       "      <th>jacc_distance</th>\n",
       "      <th>text_id_A</th>\n",
       "    </tr>\n",
       "  </thead>\n",
       "  <tbody>\n",
       "    <tr>\n",
       "      <th>0</th>\n",
       "      <td>0.00</td>\n",
       "      <td>2214</td>\n",
       "    </tr>\n",
       "    <tr>\n",
       "      <th>1</th>\n",
       "      <td>0.00</td>\n",
       "      <td>4590</td>\n",
       "    </tr>\n",
       "    <tr>\n",
       "      <th>2</th>\n",
       "      <td>0.00</td>\n",
       "      <td>7225</td>\n",
       "    </tr>\n",
       "    <tr>\n",
       "      <th>3</th>\n",
       "      <td>0.00</td>\n",
       "      <td>32571</td>\n",
       "    </tr>\n",
       "    <tr>\n",
       "      <th>4</th>\n",
       "      <td>0.25</td>\n",
       "      <td>32954</td>\n",
       "    </tr>\n",
       "  </tbody>\n",
       "</table>\n",
       "</div>"
      ],
      "text/plain": [
       "   jacc_distance  text_id_A\n",
       "0           0.00       2214\n",
       "1           0.00       4590\n",
       "2           0.00       7225\n",
       "3           0.00      32571\n",
       "4           0.25      32954"
      ]
     },
     "execution_count": 40,
     "metadata": {},
     "output_type": "execute_result"
    }
   ],
   "source": [
    "jacc_dist_scores = df_dups_text.select('jacc_distance', 'text_id_A').dropDuplicates(['text_id_A']).toPandas()\n",
    "jacc_dist_scores.head()"
   ]
  },
  {
   "cell_type": "code",
   "execution_count": 41,
   "metadata": {},
   "outputs": [
    {
     "data": {
      "text/plain": [
       "(20117, 2)"
      ]
     },
     "execution_count": 41,
     "metadata": {},
     "output_type": "execute_result"
    }
   ],
   "source": [
    "jacc_dist_scores.shape"
   ]
  },
  {
   "cell_type": "code",
   "execution_count": 42,
   "metadata": {},
   "outputs": [
    {
     "data": {
      "text/html": [
       "<div>\n",
       "<style scoped>\n",
       "    .dataframe tbody tr th:only-of-type {\n",
       "        vertical-align: middle;\n",
       "    }\n",
       "\n",
       "    .dataframe tbody tr th {\n",
       "        vertical-align: top;\n",
       "    }\n",
       "\n",
       "    .dataframe thead th {\n",
       "        text-align: right;\n",
       "    }\n",
       "</style>\n",
       "<table border=\"1\" class=\"dataframe\">\n",
       "  <thead>\n",
       "    <tr style=\"text-align: right;\">\n",
       "      <th></th>\n",
       "      <th>jacc_distance</th>\n",
       "      <th>text_id_A</th>\n",
       "    </tr>\n",
       "  </thead>\n",
       "  <tbody>\n",
       "    <tr>\n",
       "      <th>count</th>\n",
       "      <td>20117.000000</td>\n",
       "      <td>20117.000000</td>\n",
       "    </tr>\n",
       "    <tr>\n",
       "      <th>mean</th>\n",
       "      <td>0.067858</td>\n",
       "      <td>27422.828404</td>\n",
       "    </tr>\n",
       "    <tr>\n",
       "      <th>std</th>\n",
       "      <td>0.103882</td>\n",
       "      <td>16042.881814</td>\n",
       "    </tr>\n",
       "    <tr>\n",
       "      <th>min</th>\n",
       "      <td>0.000000</td>\n",
       "      <td>4.000000</td>\n",
       "    </tr>\n",
       "    <tr>\n",
       "      <th>25%</th>\n",
       "      <td>0.000000</td>\n",
       "      <td>13588.000000</td>\n",
       "    </tr>\n",
       "    <tr>\n",
       "      <th>50%</th>\n",
       "      <td>0.000000</td>\n",
       "      <td>26919.000000</td>\n",
       "    </tr>\n",
       "    <tr>\n",
       "      <th>75%</th>\n",
       "      <td>0.166667</td>\n",
       "      <td>40894.000000</td>\n",
       "    </tr>\n",
       "    <tr>\n",
       "      <th>max</th>\n",
       "      <td>0.294118</td>\n",
       "      <td>57471.000000</td>\n",
       "    </tr>\n",
       "  </tbody>\n",
       "</table>\n",
       "</div>"
      ],
      "text/plain": [
       "       jacc_distance     text_id_A\n",
       "count   20117.000000  20117.000000\n",
       "mean        0.067858  27422.828404\n",
       "std         0.103882  16042.881814\n",
       "min         0.000000      4.000000\n",
       "25%         0.000000  13588.000000\n",
       "50%         0.000000  26919.000000\n",
       "75%         0.166667  40894.000000\n",
       "max         0.294118  57471.000000"
      ]
     },
     "execution_count": 42,
     "metadata": {},
     "output_type": "execute_result"
    }
   ],
   "source": [
    "jacc_dist_scores.describe()"
   ]
  },
  {
   "cell_type": "code",
   "execution_count": 47,
   "metadata": {},
   "outputs": [
    {
     "data": {
      "text/plain": [
       "<seaborn.axisgrid.FacetGrid at 0x7f4f35f799d0>"
      ]
     },
     "execution_count": 47,
     "metadata": {},
     "output_type": "execute_result"
    },
    {
     "data": {
      "image/png": "[encoded data removed]",
      "text/plain": [
       "<Figure size 360x360 with 1 Axes>"
      ]
     },
     "metadata": {
      "needs_background": "light"
     },
     "output_type": "display_data"
    }
   ],
   "source": [
    "sns.displot(jacc_dist_scores, x='jacc_distance', bins=6)"
   ]
  },
  {
   "cell_type": "markdown",
   "metadata": {},
   "source": [
    "We can see that of the duplicate pairs, the overwhelming majority of them have very low distance scores between 0.00 and 0.05 (again, meaning that they're very similar to each other). It's therefore **unlikely that raising the threshold, say from 0.3 to 0.5, will do too much to impact the counts of duplicates versus unique.**\n",
    "\n",
    "We can try 0.5 just to confirm, however. Additionally, since the text we're comparing is the titles of the news articles, not the full articles, and are therefore shorter documents (in number of word tokens), I think it **makes sense to keep the threshold for similarity fairly high (at 0.3).**"
   ]
  },
  {
   "cell_type": "markdown",
   "metadata": {},
   "source": [
    "#### Jaccard distance of 0.5 (similarity of at least 0.5)"
   ]
  },
  {
   "cell_type": "code",
   "execution_count": 18,
   "metadata": {},
   "outputs": [],
   "source": [
    "jaccard_distance = 0.5\n",
    "\n",
    "df_dups_text = model.approxSimilarityJoin(hashed_text_df, hashed_text_df, jaccard_distance).filter(\"datasetA.id < datasetB.id\").select(\n",
    "            col(\"distCol\").alias(\"jacc_distance\"),\n",
    "            col(\"datasetA.id\").alias(\"text_id_A\"),\n",
    "            col(\"datasetB.id\").alias(\"text_id_B\"),\n",
    "            col('datasetA.text').alias('text_A'),\n",
    "            col('datasetB.text').alias('text_B'),\n",
    "#             col('datasetA.list_of_words').alias('words_A'),\n",
    "#             col('datasetB.list_of_words').alias('words_B')\n",
    "            )"
   ]
  },
  {
   "cell_type": "code",
   "execution_count": 49,
   "metadata": {},
   "outputs": [],
   "source": [
    "df_dups_text.unpersist();"
   ]
  },
  {
   "cell_type": "code",
   "execution_count": 19,
   "metadata": {},
   "outputs": [
    {
     "data": {
      "text/html": [
       "<div>\n",
       "<style scoped>\n",
       "    .dataframe tbody tr th:only-of-type {\n",
       "        vertical-align: middle;\n",
       "    }\n",
       "\n",
       "    .dataframe tbody tr th {\n",
       "        vertical-align: top;\n",
       "    }\n",
       "\n",
       "    .dataframe thead th {\n",
       "        text-align: right;\n",
       "    }\n",
       "</style>\n",
       "<table border=\"1\" class=\"dataframe\">\n",
       "  <thead>\n",
       "    <tr style=\"text-align: right;\">\n",
       "      <th></th>\n",
       "      <th>jacc_distance</th>\n",
       "      <th>text_id_A</th>\n",
       "      <th>text_id_B</th>\n",
       "      <th>text_A</th>\n",
       "      <th>text_B</th>\n",
       "    </tr>\n",
       "  </thead>\n",
       "  <tbody>\n",
       "    <tr>\n",
       "      <th>0</th>\n",
       "      <td>0.00</td>\n",
       "      <td>7350</td>\n",
       "      <td>7760</td>\n",
       "      <td>(Google Alert - university,)</td>\n",
       "      <td>(Google Alert - university,)</td>\n",
       "    </tr>\n",
       "    <tr>\n",
       "      <th>1</th>\n",
       "      <td>0.40</td>\n",
       "      <td>8368</td>\n",
       "      <td>9249</td>\n",
       "      <td>(Michigan State University president resigns after Nassar sentencing,)</td>\n",
       "      <td>(Michigan State University president resigns amid Larry Nassar scandal,)</td>\n",
       "    </tr>\n",
       "    <tr>\n",
       "      <th>2</th>\n",
       "      <td>0.25</td>\n",
       "      <td>8485</td>\n",
       "      <td>42288</td>\n",
       "      <td>(Google Alert - college,)</td>\n",
       "      <td>(Google Alert - college football,)</td>\n",
       "    </tr>\n",
       "    <tr>\n",
       "      <th>3</th>\n",
       "      <td>0.25</td>\n",
       "      <td>8485</td>\n",
       "      <td>40864</td>\n",
       "      <td>(Google Alert - college,)</td>\n",
       "      <td>(Google Alert - college football,)</td>\n",
       "    </tr>\n",
       "    <tr>\n",
       "      <th>4</th>\n",
       "      <td>0.25</td>\n",
       "      <td>8485</td>\n",
       "      <td>50197</td>\n",
       "      <td>(Google Alert - college,)</td>\n",
       "      <td>(Google Alert - college football,)</td>\n",
       "    </tr>\n",
       "  </tbody>\n",
       "</table>\n",
       "</div>"
      ],
      "text/plain": [
       "   jacc_distance  text_id_A  text_id_B  \\\n",
       "0           0.00       7350       7760   \n",
       "1           0.40       8368       9249   \n",
       "2           0.25       8485      42288   \n",
       "3           0.25       8485      40864   \n",
       "4           0.25       8485      50197   \n",
       "\n",
       "                                                                   text_A  \\\n",
       "0                                            (Google Alert - university,)   \n",
       "1  (Michigan State University president resigns after Nassar sentencing,)   \n",
       "2                                               (Google Alert - college,)   \n",
       "3                                               (Google Alert - college,)   \n",
       "4                                               (Google Alert - college,)   \n",
       "\n",
       "                                                                     text_B  \n",
       "0                                              (Google Alert - university,)  \n",
       "1  (Michigan State University president resigns amid Larry Nassar scandal,)  \n",
       "2                                        (Google Alert - college football,)  \n",
       "3                                        (Google Alert - college football,)  \n",
       "4                                        (Google Alert - college football,)  "
      ]
     },
     "execution_count": 19,
     "metadata": {},
     "output_type": "execute_result"
    }
   ],
   "source": [
    "df_dups_50 = df_dups_text\n",
    "df_dups_text.cache()\n",
    "df_dups_text.limit(5).toPandas()"
   ]
  },
  {
   "cell_type": "code",
   "execution_count": 20,
   "metadata": {},
   "outputs": [
    {
     "name": "stdout",
     "output_type": "stream",
     "text": [
      "Total records:  57500\n",
      "Duplicate titles based on { 0.5 } jaccard distance:  25100\n",
      "Unique titles based on { 0.5 } jaccard distance:  0.5 :  32400\n"
     ]
    }
   ],
   "source": [
    "records = hashed_text_df.count()\n",
    "dups = df_dups_text.select('text_id_A').distinct().count()\n",
    "uniques = records - dups\n",
    "\n",
    "print ('Total records: ', records)\n",
    "print ('Duplicate titles based on {', jaccard_distance, '} jaccard distance: ', dups)\n",
    "print ('Unique titles based on {', jaccard_distance, '} jaccard distance: ', jaccard_distance, ': ', uniques)"
   ]
  },
  {
   "cell_type": "markdown",
   "metadata": {},
   "source": [
    "Create bar chart showing values of unique versus near duplicates."
   ]
  },
  {
   "cell_type": "code",
   "execution_count": 22,
   "metadata": {},
   "outputs": [
    {
     "data": {
      "image/png": "[encoded data removed]",
      "text/plain": [
       "<Figure size 432x288 with 1 Axes>"
      ]
     },
     "metadata": {
      "needs_background": "light"
     },
     "output_type": "display_data"
    }
   ],
   "source": [
    "dups_df = pd.DataFrame.from_dict({'near_dups': [dups], 'unique': [uniques]})\n",
    "\n",
    "ax=dups_df.plot(kind ='bar', y=['near_dups', 'unique'], fontsize=10, color=['C0', 'C1'], align='center', width=0.8, xlabel=\"Duplicates vs. Unique\")\n",
    "ax.set_title('News title duplication analysis at Jaccard distance threshold of 0.5', fontsize=15)\n",
    "for p in ax.patches:\n",
    "       ax.annotate(format(p.get_height(), '.1f'), \n",
    "                   (p.get_x() + p.get_width() / 2., p.get_height()/2), \n",
    "                   ha = 'center', va = 'center', \n",
    "                   xytext = (0, 9), \n",
    "                   textcoords = 'offset points') "
   ]
  },
  {
   "cell_type": "markdown",
   "metadata": {},
   "source": [
    "Increasing the distance threshold to 0.5 (any pair of titles with a lower value are considered duplicates) has raised the number of duplicates from just over 20,000 (out of approximately 57,000) to 25,100. This isn't surprising, since we've made it harder to a pair of titles to be considered unique from each other. Still, the change in the split is not that siginificant."
   ]
  },
  {
   "cell_type": "markdown",
   "metadata": {},
   "source": [
    "Re-create histogram of near-duplication (I understood this to mean the following: a histogram showing distribution of Jaccard distance values for those pairs that were called dups by our algorithm)."
   ]
  },
  {
   "cell_type": "code",
   "execution_count": 23,
   "metadata": {},
   "outputs": [
    {
     "data": {
      "text/plain": [
       "25100"
      ]
     },
     "execution_count": 23,
     "metadata": {},
     "output_type": "execute_result"
    }
   ],
   "source": [
    "df_dups_text.select('jacc_distance', 'text_id_A').dropDuplicates(['text_id_A']).count()"
   ]
  },
  {
   "cell_type": "code",
   "execution_count": 24,
   "metadata": {},
   "outputs": [
    {
     "data": {
      "text/html": [
       "<div>\n",
       "<style scoped>\n",
       "    .dataframe tbody tr th:only-of-type {\n",
       "        vertical-align: middle;\n",
       "    }\n",
       "\n",
       "    .dataframe tbody tr th {\n",
       "        vertical-align: top;\n",
       "    }\n",
       "\n",
       "    .dataframe thead th {\n",
       "        text-align: right;\n",
       "    }\n",
       "</style>\n",
       "<table border=\"1\" class=\"dataframe\">\n",
       "  <thead>\n",
       "    <tr style=\"text-align: right;\">\n",
       "      <th></th>\n",
       "      <th>jacc_distance</th>\n",
       "      <th>text_id_A</th>\n",
       "    </tr>\n",
       "  </thead>\n",
       "  <tbody>\n",
       "    <tr>\n",
       "      <th>0</th>\n",
       "      <td>0.0</td>\n",
       "      <td>2214</td>\n",
       "    </tr>\n",
       "    <tr>\n",
       "      <th>1</th>\n",
       "      <td>0.0</td>\n",
       "      <td>2453</td>\n",
       "    </tr>\n",
       "    <tr>\n",
       "      <th>2</th>\n",
       "      <td>0.0</td>\n",
       "      <td>4590</td>\n",
       "    </tr>\n",
       "    <tr>\n",
       "      <th>3</th>\n",
       "      <td>0.0</td>\n",
       "      <td>7225</td>\n",
       "    </tr>\n",
       "    <tr>\n",
       "      <th>4</th>\n",
       "      <td>0.0</td>\n",
       "      <td>16896</td>\n",
       "    </tr>\n",
       "  </tbody>\n",
       "</table>\n",
       "</div>"
      ],
      "text/plain": [
       "   jacc_distance  text_id_A\n",
       "0            0.0       2214\n",
       "1            0.0       2453\n",
       "2            0.0       4590\n",
       "3            0.0       7225\n",
       "4            0.0      16896"
      ]
     },
     "execution_count": 24,
     "metadata": {},
     "output_type": "execute_result"
    }
   ],
   "source": [
    "jacc_dist_scores = df_dups_text.select('jacc_distance', 'text_id_A').dropDuplicates(['text_id_A']).toPandas()\n",
    "jacc_dist_scores.head()"
   ]
  },
  {
   "cell_type": "code",
   "execution_count": 25,
   "metadata": {},
   "outputs": [
    {
     "data": {
      "text/plain": [
       "(25100, 2)"
      ]
     },
     "execution_count": 25,
     "metadata": {},
     "output_type": "execute_result"
    }
   ],
   "source": [
    "jacc_dist_scores.shape"
   ]
  },
  {
   "cell_type": "code",
   "execution_count": 29,
   "metadata": {},
   "outputs": [
    {
     "data": {
      "text/plain": [
       "count    25100.000000\n",
       "mean         0.161818\n",
       "std          0.173889\n",
       "min          0.000000\n",
       "25%          0.000000\n",
       "50%          0.111111\n",
       "75%          0.333333\n",
       "max          0.481481\n",
       "Name: jacc_distance, dtype: float64"
      ]
     },
     "execution_count": 29,
     "metadata": {},
     "output_type": "execute_result"
    }
   ],
   "source": [
    "jacc_dist_scores.jacc_distance.describe()"
   ]
  },
  {
   "cell_type": "code",
   "execution_count": 28,
   "metadata": {},
   "outputs": [
    {
     "data": {
      "text/plain": [
       "<seaborn.axisgrid.FacetGrid at 0x7fb9e17f19d0>"
      ]
     },
     "execution_count": 28,
     "metadata": {},
     "output_type": "execute_result"
    },
    {
     "data": {
      "image/png": "[encoded data removed]",
      "text/plain": [
       "<Figure size 360x360 with 1 Axes>"
      ]
     },
     "metadata": {
      "needs_background": "light"
     },
     "output_type": "display_data"
    }
   ],
   "source": [
    "sns.displot(jacc_dist_scores, x='jacc_distance', binwidth=0.05)"
   ]
  },
  {
   "cell_type": "markdown",
   "metadata": {},
   "source": [
    "Again, there are quite a few (almost half the total duplicate pairs) that have between 0.00 and 0.05 similarity score, meaning that they are or are very close to identical."
   ]
  }
 ],
 "metadata": {
  "kernelspec": {
   "display_name": "Python 3",
   "language": "python",
   "name": "python3"
  },
  "language_info": {
   "codemirror_mode": {
    "name": "ipython",
    "version": 3
   },
   "file_extension": ".py",
   "mimetype": "text/x-python",
   "name": "python",
   "nbconvert_exporter": "python",
   "pygments_lexer": "ipython3",
   "version": "3.7.4"
  }
 },
 "nbformat": 4,
 "nbformat_minor": 4
}
