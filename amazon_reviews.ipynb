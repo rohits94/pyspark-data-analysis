{
 "cells": [
  {
   "cell_type": "markdown",
   "metadata": {},
   "source": [
    "### MSCA 31013: Big Data Platforms\n",
    "### Assignment 9\n",
    "#### 2/21/2021"
   ]
  },
  {
   "cell_type": "code",
   "execution_count": 1,
   "metadata": {},
   "outputs": [
    {
     "name": "stdout",
     "output_type": "stream",
     "text": [
      "3.0.1\n"
     ]
    }
   ],
   "source": [
    "print (sc.version)"
   ]
  },
  {
   "cell_type": "code",
   "execution_count": 2,
   "metadata": {},
   "outputs": [],
   "source": [
    "from google.cloud import storage\n",
    "\n",
    "from pyspark.sql.functions import *\n",
    "from pyspark.sql.types import *\n",
    "\n",
    "%matplotlib inline\n",
    "import pandas as pd\n",
    "import matplotlib.pyplot as plt\n",
    "import seaborn as sns"
   ]
  },
  {
   "cell_type": "markdown",
   "metadata": {},
   "source": [
    "Set-up Cloud Object Storage (COS) functions for GCS."
   ]
  },
  {
   "cell_type": "code",
   "execution_count": 3,
   "metadata": {},
   "outputs": [],
   "source": [
    "# List all files in given COS directory\n",
    "def list_blobs(bucket_name, folder_name):\n",
    "    gcs_client = storage.Client()\n",
    "    bucket = gcs_client.bucket(bucket_name)\n",
    "    blobs = list(bucket.list_blobs(prefix=folder_name))\n",
    "\n",
    "    for blob in blobs:\n",
    "        print(blob.name + '\\t' + str(blob.size))\n",
    "\n",
    "        \n",
    "# Delete folder from COS bucket\n",
    "def delete_folder(bucket_name, folder_name):\n",
    "    gcs_client = storage.Client()\n",
    "    bucket = gcs_client.bucket(bucket_name)\n",
    "    blobs = list(bucket.list_blobs(prefix=folder_name))\n",
    "\n",
    "    for blob in blobs:\n",
    "        blob.delete()"
   ]
  },
  {
   "cell_type": "code",
   "execution_count": 14,
   "metadata": {},
   "outputs": [
    {
     "name": "stdout",
     "output_type": "stream",
     "text": [
      "amazon_reviews/\t0\n",
      "amazon_reviews/amazon_reviews_us_Apparel_v1_00.tsv\t1971061630\n",
      "amazon_reviews/amazon_reviews_us_Automotive_v1_00.tsv\t1350294084\n",
      "amazon_reviews/amazon_reviews_us_Baby_v1_00.tsv\t872274720\n",
      "amazon_reviews/amazon_reviews_us_Beauty_v1_00.tsv\t2152186111\n",
      "amazon_reviews/amazon_reviews_us_Books_v1_00.tsv\t6699171766\n",
      "amazon_reviews/amazon_reviews_us_Books_v1_01.tsv\t6703921864\n",
      "amazon_reviews/amazon_reviews_us_Books_v1_02.tsv\t3238702530\n",
      "amazon_reviews/amazon_reviews_us_Camera_v1_00.tsv\t1100169988\n",
      "amazon_reviews/amazon_reviews_us_Digital_Ebook_Purchase_v1_00.tsv\t6696964946\n",
      "amazon_reviews/amazon_reviews_us_Digital_Ebook_Purchase_v1_01.tsv\t3224038446\n",
      "amazon_reviews/amazon_reviews_us_Digital_Music_Purchase_v1_00.tsv\t628880453\n",
      "amazon_reviews/amazon_reviews_us_Digital_Software_v1_00.tsv\t53855391\n",
      "amazon_reviews/amazon_reviews_us_Digital_Video_Download_v1_00.tsv\t1288048833\n",
      "amazon_reviews/amazon_reviews_us_Digital_Video_Games_v1_00.tsv\t73154460\n",
      "amazon_reviews/amazon_reviews_us_Electronics_v1_00.tsv\t1725988504\n",
      "amazon_reviews/amazon_reviews_us_Furniture_v1_00.tsv\t366979553\n",
      "amazon_reviews/amazon_reviews_us_Gift_Card_v1_00.tsv\t39977611\n",
      "amazon_reviews/amazon_reviews_us_Grocery_v1_00.tsv\t956224754\n",
      "amazon_reviews/amazon_reviews_us_Health_Personal_Care_v1_00.tsv\t2422088742\n",
      "amazon_reviews/amazon_reviews_us_Home_Entertainment_v1_00.tsv\t500303241\n",
      "amazon_reviews/amazon_reviews_us_Home_Improvement_v1_00.tsv\t1202422006\n",
      "amazon_reviews/amazon_reviews_us_Home_v1_00.tsv\t2496148207\n",
      "amazon_reviews/amazon_reviews_us_Jewelry_v1_00.tsv\t617809191\n",
      "amazon_reviews/amazon_reviews_us_Kitchen_v1_00.tsv\t2218102275\n",
      "amazon_reviews/amazon_reviews_us_Lawn_and_Garden_v1_00.tsv\t1148784380\n",
      "amazon_reviews/amazon_reviews_us_Luggage_v1_00.tsv\t150519467\n",
      "amazon_reviews/amazon_reviews_us_Major_Appliances_v1_00.tsv\t62977388\n",
      "amazon_reviews/amazon_reviews_us_Mobile_Apps_v1_00.tsv\t1384889812\n",
      "amazon_reviews/amazon_reviews_us_Mobile_Electronics_v1_00.tsv\t58221236\n",
      "amazon_reviews/amazon_reviews_us_Music_v1_00.tsv\t3671037159\n",
      "amazon_reviews/amazon_reviews_us_Musical_Instruments_v1_00.tsv\t475220114\n",
      "amazon_reviews/amazon_reviews_us_Office_Products_v1_00.tsv\t1243069057\n",
      "amazon_reviews/amazon_reviews_us_Outdoors_v1_00.tsv\t1061801717\n",
      "amazon_reviews/amazon_reviews_us_PC_v1_00.tsv\t3648888910\n",
      "amazon_reviews/amazon_reviews_us_Personal_Care_Appliances_v1_00.tsv\t44891575\n",
      "amazon_reviews/amazon_reviews_us_Pet_Products_v1_00.tsv\t1227951681\n",
      "amazon_reviews/amazon_reviews_us_Shoes_v1_00.tsv\t1570176560\n",
      "amazon_reviews/amazon_reviews_us_Software_v1_00.tsv\t249565371\n",
      "amazon_reviews/amazon_reviews_us_Sports_v1_00.tsv\t2007024927\n",
      "amazon_reviews/amazon_reviews_us_Tools_v1_00.tsv\t788203941\n",
      "amazon_reviews/amazon_reviews_us_Toys_v1_00.tsv\t1962834272\n",
      "amazon_reviews/amazon_reviews_us_Video_DVD_v1_00.tsv\t3708889477\n",
      "amazon_reviews/amazon_reviews_us_Video_Games_v1_00.tsv\t1204902329\n",
      "amazon_reviews/amazon_reviews_us_Video_v1_00.tsv\t337970606\n",
      "amazon_reviews/amazon_reviews_us_Watches_v1_00.tsv\t412542975\n",
      "amazon_reviews/amazon_reviews_us_Wireless_v1_00.tsv\t4198056580\n"
     ]
    }
   ],
   "source": [
    "list_blobs(\"msca-bdp-amazon\", \"amazon_reviews\")"
   ]
  },
  {
   "cell_type": "markdown",
   "metadata": {},
   "source": [
    "**Load the TSV files into a single Spark DataFrame**. \n",
    "<br>\n",
    "<br>\n",
    "The DataFrame object is preferred to RDD because it offers several optimization modules to improve performance of Spark workloads. For example, since the PySpark DataFrame internally stores data in binary there is no need for expensive serialization/deserialization operations (converting data to bytes and back)."
   ]
  },
  {
   "cell_type": "code",
   "execution_count": 4,
   "metadata": {},
   "outputs": [],
   "source": [
    "spark.conf.set(\"spark.sql.repl.eagerEval.enabled\",True)"
   ]
  },
  {
   "cell_type": "code",
   "execution_count": 5,
   "metadata": {},
   "outputs": [],
   "source": [
    "reviews_df = spark.read.format('com.databricks.spark.csv').\\\n",
    "options(header='true', inferschema='true', delimiter='\\t', quote='\"').\\\n",
    "load(\"gs://msca-bdp-amazon/amazon_reviews/amazon_reviews_us*.tsv\")"
   ]
  },
  {
   "cell_type": "code",
   "execution_count": 6,
   "metadata": {},
   "outputs": [
    {
     "data": {
      "text/plain": [
       "pyspark.sql.dataframe.DataFrame"
      ]
     },
     "execution_count": 6,
     "metadata": {},
     "output_type": "execute_result"
    }
   ],
   "source": [
    "type(reviews_df)"
   ]
  },
  {
   "cell_type": "code",
   "execution_count": 46,
   "metadata": {},
   "outputs": [
    {
     "data": {
      "text/plain": [
       "150962278"
      ]
     },
     "execution_count": 46,
     "metadata": {},
     "output_type": "execute_result"
    }
   ],
   "source": [
    "reviews_df.count()"
   ]
  },
  {
   "cell_type": "code",
   "execution_count": 10,
   "metadata": {},
   "outputs": [
    {
     "data": {
      "text/html": [
       "<table border='1'>\n",
       "<tr><th>marketplace</th><th>customer_id</th><th>review_id</th><th>product_id</th><th>product_parent</th><th>product_title</th><th>product_category</th><th>star_rating</th><th>helpful_votes</th><th>total_votes</th><th>vine</th><th>verified_purchase</th><th>review_headline</th><th>review_body</th><th>review_date</th></tr>\n",
       "<tr><td>US</td><td>45291649</td><td>R1RJCC5E6CWCW8</td><td>1844164241</td><td>790448850</td><td>The Horus Heresy:...</td><td>Books</td><td>4</td><td>4</td><td>4</td><td>N</td><td>N</td><td>Great Visual Guid...</td><td>I&#x27;ve been eagerly...</td><td>2007-07-03</td></tr>\n",
       "<tr><td>US</td><td>24321386</td><td>R9BUAQP9W72UV</td><td>0307339114</td><td>846671883</td><td>Cholesterol Down:...</td><td>Books</td><td>5</td><td>2</td><td>2</td><td>N</td><td>N</td><td>Must read for any...</td><td>Dr. Brill&#x27;s book ...</td><td>2007-07-03</td></tr>\n",
       "<tr><td>US</td><td>20217705</td><td>R3SJR8DRXNHKWU</td><td>0393328627</td><td>511808231</td><td>The History of Love</td><td>Books</td><td>4</td><td>1</td><td>1</td><td>N</td><td>N</td><td>A great, easy read</td><td>Krauss has a beau...</td><td>2007-07-03</td></tr>\n",
       "<tr><td>US</td><td>51141638</td><td>RA7B88C040N74</td><td>0449208672</td><td>120535270</td><td>The Cater Street ...</td><td>Books</td><td>5</td><td>0</td><td>0</td><td>N</td><td>Y</td><td>A great beginning!</td><td>For anyone who lo...</td><td>2007-07-03</td></tr>\n",
       "<tr><td>US</td><td>14423468</td><td>RU2PY8NYYWJ6L</td><td>0899578713</td><td>321150395</td><td>Enoch&#x27;s Ghost (Or...</td><td>Books</td><td>5</td><td>8</td><td>8</td><td>N</td><td>N</td><td>Outstanding!</td><td>I thoroughly enjo...</td><td>2007-07-03</td></tr>\n",
       "</table>\n"
      ],
      "text/plain": [
       "+-----------+-----------+--------------+----------+--------------+--------------------+----------------+-----------+-------------+-----------+----+-----------------+--------------------+--------------------+-----------+\n",
       "|marketplace|customer_id|     review_id|product_id|product_parent|       product_title|product_category|star_rating|helpful_votes|total_votes|vine|verified_purchase|     review_headline|         review_body|review_date|\n",
       "+-----------+-----------+--------------+----------+--------------+--------------------+----------------+-----------+-------------+-----------+----+-----------------+--------------------+--------------------+-----------+\n",
       "|         US|   22873041|R3ARRMDEGED8RD|B00KJWQIIC|     335625766|Plemo 14-Inch Lap...|              PC|          5|            0|          0|   N|                Y|Pleasantly surprised|I was very surpri...| 2015-08-31|\n",
       "|         US|   30088427| RQ28TSA020Y6J|B013ALA9LA|     671157305|TP-Link OnHub AC1...|              PC|          5|           24|         31|   N|                N|OnHub is a pretty...|I am a Google emp...| 2015-08-31|\n",
       "|         US|   20329786| RUXJRZCT6953M|B00PML2GQ8|     982036237|AmazonBasics USB ...|              PC|          1|            2|          2|   N|                N|None of them work...|Bought cables in ...| 2015-08-31|\n",
       "|         US|   14215710| R7EO0UO6BPB71|B001NS0OZ4|     576587596|Transcend P8 15-i...|              PC|          1|            0|          0|   N|                Y|just keep searching.|nope, cheap and slow| 2015-08-31|\n",
       "|         US|   38264512|R39NJY2YJ1JFSV|B00AQMTND2|     964759214|Aleratec SATA Dat...|              PC|          5|            0|          0|   N|                Y|          Five Stars|Excellent! Great ...| 2015-08-31|\n",
       "+-----------+-----------+--------------+----------+--------------+--------------------+----------------+-----------+-------------+-----------+----+-----------------+--------------------+--------------------+-----------+"
      ]
     },
     "execution_count": 10,
     "metadata": {},
     "output_type": "execute_result"
    }
   ],
   "source": [
    "reviews_df.limit(5)"
   ]
  },
  {
   "cell_type": "markdown",
   "metadata": {},
   "source": [
    "### Question 1\n",
    "\n",
    "<br>\n",
    "For this question, we want to determine which product category gets the most reviews. Since the next two questions (regarding star rating and seasonality) also require us to group the reviews by product category, will select only the columns we need, namely review_id, product_category, star_rating, votes, & review_date, and cache the result. This should reduce the time needed to group the records, and execute aggregation and sorting operations."
   ]
  },
  {
   "cell_type": "code",
   "execution_count": 7,
   "metadata": {},
   "outputs": [],
   "source": [
    "reviews_subset_df = reviews_df.\\\n",
    "select([\"review_id\", \"product_category\", \"star_rating\", \"helpful_votes\", \"total_votes\", \"review_date\"]).\\\n",
    "filter((reviews_df.product_category.isNotNull()) & (reviews_df.review_date.isNotNull()))"
   ]
  },
  {
   "cell_type": "code",
   "execution_count": 8,
   "metadata": {},
   "outputs": [
    {
     "data": {
      "text/html": [
       "<table border='1'>\n",
       "<tr><th>review_id</th><th>product_category</th><th>star_rating</th><th>helpful_votes</th><th>total_votes</th><th>review_date</th></tr>\n",
       "<tr><td>R1KKOXHNI8MSXU</td><td>Apparel</td><td>4</td><td>0</td><td>0</td><td>2013-01-14</td></tr>\n",
       "<tr><td>R26SP2OPDK4HT7</td><td>Apparel</td><td>5</td><td>1</td><td>2</td><td>2014-03-04</td></tr>\n",
       "<tr><td>RWQEDYAX373I1</td><td>Apparel</td><td>5</td><td>0</td><td>0</td><td>2015-07-12</td></tr>\n",
       "<tr><td>R231YI7R4GPF6J</td><td>Apparel</td><td>5</td><td>0</td><td>0</td><td>2015-06-03</td></tr>\n",
       "<tr><td>R3KO3W45DD0L1K</td><td>Apparel</td><td>5</td><td>0</td><td>0</td><td>2015-06-12</td></tr>\n",
       "<tr><td>R1C4QH63NFL5NJ</td><td>Apparel</td><td>5</td><td>0</td><td>0</td><td>2014-04-22</td></tr>\n",
       "<tr><td>R2GP65O1U9N7BP</td><td>Apparel</td><td>5</td><td>0</td><td>0</td><td>2015-07-28</td></tr>\n",
       "<tr><td>R3O29CT5MQQ3XQ</td><td>Apparel</td><td>4</td><td>0</td><td>0</td><td>2015-07-10</td></tr>\n",
       "<tr><td>R1ZECD2AA8QFF6</td><td>Apparel</td><td>5</td><td>0</td><td>0</td><td>2015-08-09</td></tr>\n",
       "<tr><td>R2S79GCF6J89OA</td><td>Apparel</td><td>3</td><td>0</td><td>0</td><td>2014-05-24</td></tr>\n",
       "<tr><td>R1CBCUGNP37MPK</td><td>Apparel</td><td>5</td><td>0</td><td>0</td><td>2015-06-10</td></tr>\n",
       "<tr><td>R3NU4WUR5ZNV1V</td><td>Apparel</td><td>5</td><td>0</td><td>0</td><td>2013-09-06</td></tr>\n",
       "<tr><td>R32EPCJ3XF8LGE</td><td>Apparel</td><td>5</td><td>0</td><td>0</td><td>2014-11-17</td></tr>\n",
       "<tr><td>R1XIBC6WQBW31M</td><td>Apparel</td><td>5</td><td>0</td><td>0</td><td>2013-05-12</td></tr>\n",
       "<tr><td>R1P11MVDZ65LMH</td><td>Apparel</td><td>5</td><td>0</td><td>0</td><td>2014-02-14</td></tr>\n",
       "<tr><td>R1OJA3DJL0VDDK</td><td>Apparel</td><td>5</td><td>0</td><td>0</td><td>2014-10-20</td></tr>\n",
       "<tr><td>R1THWA5YRJLOOF</td><td>Apparel</td><td>4</td><td>0</td><td>0</td><td>2015-07-05</td></tr>\n",
       "<tr><td>R738LCNRSJVXP</td><td>Apparel</td><td>5</td><td>6</td><td>7</td><td>2015-07-29</td></tr>\n",
       "<tr><td>R1N3Z13931J3O9</td><td>Apparel</td><td>2</td><td>0</td><td>0</td><td>2015-01-01</td></tr>\n",
       "<tr><td>R1LBNTP7E8N89Z</td><td>Apparel</td><td>1</td><td>0</td><td>0</td><td>2015-02-12</td></tr>\n",
       "</table>\n",
       "only showing top 20 rows\n"
      ],
      "text/plain": [
       "+--------------+----------------+-----------+-------------+-----------+-----------+\n",
       "|     review_id|product_category|star_rating|helpful_votes|total_votes|review_date|\n",
       "+--------------+----------------+-----------+-------------+-----------+-----------+\n",
       "|R1KKOXHNI8MSXU|         Apparel|          4|            0|          0| 2013-01-14|\n",
       "|R26SP2OPDK4HT7|         Apparel|          5|            1|          2| 2014-03-04|\n",
       "| RWQEDYAX373I1|         Apparel|          5|            0|          0| 2015-07-12|\n",
       "|R231YI7R4GPF6J|         Apparel|          5|            0|          0| 2015-06-03|\n",
       "|R3KO3W45DD0L1K|         Apparel|          5|            0|          0| 2015-06-12|\n",
       "|R1C4QH63NFL5NJ|         Apparel|          5|            0|          0| 2014-04-22|\n",
       "|R2GP65O1U9N7BP|         Apparel|          5|            0|          0| 2015-07-28|\n",
       "|R3O29CT5MQQ3XQ|         Apparel|          4|            0|          0| 2015-07-10|\n",
       "|R1ZECD2AA8QFF6|         Apparel|          5|            0|          0| 2015-08-09|\n",
       "|R2S79GCF6J89OA|         Apparel|          3|            0|          0| 2014-05-24|\n",
       "|R1CBCUGNP37MPK|         Apparel|          5|            0|          0| 2015-06-10|\n",
       "|R3NU4WUR5ZNV1V|         Apparel|          5|            0|          0| 2013-09-06|\n",
       "|R32EPCJ3XF8LGE|         Apparel|          5|            0|          0| 2014-11-17|\n",
       "|R1XIBC6WQBW31M|         Apparel|          5|            0|          0| 2013-05-12|\n",
       "|R1P11MVDZ65LMH|         Apparel|          5|            0|          0| 2014-02-14|\n",
       "|R1OJA3DJL0VDDK|         Apparel|          5|            0|          0| 2014-10-20|\n",
       "|R1THWA5YRJLOOF|         Apparel|          4|            0|          0| 2015-07-05|\n",
       "| R738LCNRSJVXP|         Apparel|          5|            6|          7| 2015-07-29|\n",
       "|R1N3Z13931J3O9|         Apparel|          2|            0|          0| 2015-01-01|\n",
       "|R1LBNTP7E8N89Z|         Apparel|          1|            0|          0| 2015-02-12|\n",
       "+--------------+----------------+-----------+-------------+-----------+-----------+\n",
       "only showing top 20 rows"
      ]
     },
     "execution_count": 8,
     "metadata": {},
     "output_type": "execute_result"
    }
   ],
   "source": [
    "reviews_subset_df.cache()"
   ]
  },
  {
   "cell_type": "code",
   "execution_count": 25,
   "metadata": {},
   "outputs": [
    {
     "name": "stdout",
     "output_type": "stream",
     "text": [
      "root\n",
      " |-- review_id: string (nullable = true)\n",
      " |-- product_category: string (nullable = true)\n",
      " |-- star_rating: string (nullable = true)\n",
      " |-- helpful_votes: integer (nullable = true)\n",
      " |-- total_votes: integer (nullable = true)\n",
      " |-- review_date: string (nullable = true)\n",
      "\n"
     ]
    }
   ],
   "source": [
    "reviews_subset_df.printSchema()"
   ]
  },
  {
   "cell_type": "code",
   "execution_count": null,
   "metadata": {},
   "outputs": [],
   "source": [
    "reviews_subset_df.limit(5)"
   ]
  },
  {
   "cell_type": "code",
   "execution_count": 8,
   "metadata": {},
   "outputs": [],
   "source": [
    "reviews_by_category_df = reviews_subset_df.\\\n",
    "groupby(\"product_category\").agg(count('*').alias('num_reviews'))\n",
    "\n",
    "top_categories_df = reviews_by_category_df.orderBy(\"num_reviews\", ascending=False)"
   ]
  },
  {
   "cell_type": "code",
   "execution_count": 9,
   "metadata": {},
   "outputs": [
    {
     "data": {
      "text/html": [
       "<table border='1'>\n",
       "<tr><th>product_category</th><th>num_reviews</th></tr>\n",
       "<tr><td>Books</td><td>19528208</td></tr>\n",
       "<tr><td>Digital_Ebook_Pur...</td><td>17620261</td></tr>\n",
       "<tr><td>Wireless</td><td>9001591</td></tr>\n",
       "<tr><td>PC</td><td>6908340</td></tr>\n",
       "<tr><td>Home</td><td>6221157</td></tr>\n",
       "<tr><td>Apparel</td><td>5906046</td></tr>\n",
       "<tr><td>Health &amp; Personal...</td><td>5330869</td></tr>\n",
       "<tr><td>Beauty</td><td>5115103</td></tr>\n",
       "<tr><td>Video DVD</td><td>5068473</td></tr>\n",
       "<tr><td>Mobile_Apps</td><td>5033305</td></tr>\n",
       "</table>\n"
      ],
      "text/plain": [
       "+--------------------+-----------+\n",
       "|    product_category|num_reviews|\n",
       "+--------------------+-----------+\n",
       "|               Books|   19528208|\n",
       "|Digital_Ebook_Pur...|   17620261|\n",
       "|            Wireless|    9001591|\n",
       "|                  PC|    6908340|\n",
       "|                Home|    6221157|\n",
       "|             Apparel|    5906046|\n",
       "|Health & Personal...|    5330869|\n",
       "|              Beauty|    5115103|\n",
       "|           Video DVD|    5068473|\n",
       "|         Mobile_Apps|    5033305|\n",
       "+--------------------+-----------+"
      ]
     },
     "execution_count": 9,
     "metadata": {},
     "output_type": "execute_result"
    }
   ],
   "source": [
    "top_categories_df.limit(10)"
   ]
  },
  {
   "cell_type": "markdown",
   "metadata": {},
   "source": [
    "Create a Pandas DataFrame from the PySpark df with our grouped results."
   ]
  },
  {
   "cell_type": "code",
   "execution_count": 10,
   "metadata": {},
   "outputs": [],
   "source": [
    "top_categories_df_pd = top_categories_df.toPandas()"
   ]
  },
  {
   "cell_type": "code",
   "execution_count": 28,
   "metadata": {},
   "outputs": [
    {
     "data": {
      "text/plain": [
       "(43, 2)"
      ]
     },
     "execution_count": 28,
     "metadata": {},
     "output_type": "execute_result"
    }
   ],
   "source": [
    "top_categories_df_pd.shape"
   ]
  },
  {
   "cell_type": "code",
   "execution_count": 11,
   "metadata": {},
   "outputs": [
    {
     "data": {
      "text/html": [
       "<div>\n",
       "<style scoped>\n",
       "    .dataframe tbody tr th:only-of-type {\n",
       "        vertical-align: middle;\n",
       "    }\n",
       "\n",
       "    .dataframe tbody tr th {\n",
       "        vertical-align: top;\n",
       "    }\n",
       "\n",
       "    .dataframe thead th {\n",
       "        text-align: right;\n",
       "    }\n",
       "</style>\n",
       "<table border=\"1\" class=\"dataframe\">\n",
       "  <thead>\n",
       "    <tr style=\"text-align: right;\">\n",
       "      <th></th>\n",
       "      <th>product_category</th>\n",
       "      <th>num_reviews</th>\n",
       "    </tr>\n",
       "  </thead>\n",
       "  <tbody>\n",
       "    <tr>\n",
       "      <th>0</th>\n",
       "      <td>Books</td>\n",
       "      <td>19528208</td>\n",
       "    </tr>\n",
       "    <tr>\n",
       "      <th>1</th>\n",
       "      <td>Digital_Ebook_Purchase</td>\n",
       "      <td>17620261</td>\n",
       "    </tr>\n",
       "    <tr>\n",
       "      <th>2</th>\n",
       "      <td>Wireless</td>\n",
       "      <td>9001591</td>\n",
       "    </tr>\n",
       "    <tr>\n",
       "      <th>3</th>\n",
       "      <td>PC</td>\n",
       "      <td>6908340</td>\n",
       "    </tr>\n",
       "    <tr>\n",
       "      <th>4</th>\n",
       "      <td>Home</td>\n",
       "      <td>6221157</td>\n",
       "    </tr>\n",
       "  </tbody>\n",
       "</table>\n",
       "</div>"
      ],
      "text/plain": [
       "         product_category  num_reviews\n",
       "0                   Books     19528208\n",
       "1  Digital_Ebook_Purchase     17620261\n",
       "2                Wireless      9001591\n",
       "3                      PC      6908340\n",
       "4                    Home      6221157"
      ]
     },
     "execution_count": 11,
     "metadata": {},
     "output_type": "execute_result"
    }
   ],
   "source": [
    "top_categories_df_pd.head()"
   ]
  },
  {
   "cell_type": "code",
   "execution_count": 12,
   "metadata": {},
   "outputs": [
    {
     "data": {
      "text/html": [
       "<div>\n",
       "<style scoped>\n",
       "    .dataframe tbody tr th:only-of-type {\n",
       "        vertical-align: middle;\n",
       "    }\n",
       "\n",
       "    .dataframe tbody tr th {\n",
       "        vertical-align: top;\n",
       "    }\n",
       "\n",
       "    .dataframe thead th {\n",
       "        text-align: right;\n",
       "    }\n",
       "</style>\n",
       "<table border=\"1\" class=\"dataframe\">\n",
       "  <thead>\n",
       "    <tr style=\"text-align: right;\">\n",
       "      <th></th>\n",
       "      <th>product_category</th>\n",
       "      <th>num_reviews</th>\n",
       "    </tr>\n",
       "  </thead>\n",
       "  <tbody>\n",
       "    <tr>\n",
       "      <th>38</th>\n",
       "      <td>Digital_Video_Games</td>\n",
       "      <td>145427</td>\n",
       "    </tr>\n",
       "    <tr>\n",
       "      <th>39</th>\n",
       "      <td>Mobile_Electronics</td>\n",
       "      <td>104973</td>\n",
       "    </tr>\n",
       "    <tr>\n",
       "      <th>40</th>\n",
       "      <td>Digital_Software</td>\n",
       "      <td>102077</td>\n",
       "    </tr>\n",
       "    <tr>\n",
       "      <th>41</th>\n",
       "      <td>Major Appliances</td>\n",
       "      <td>96895</td>\n",
       "    </tr>\n",
       "    <tr>\n",
       "      <th>42</th>\n",
       "      <td>Personal_Care_Appliances</td>\n",
       "      <td>85978</td>\n",
       "    </tr>\n",
       "  </tbody>\n",
       "</table>\n",
       "</div>"
      ],
      "text/plain": [
       "            product_category  num_reviews\n",
       "38       Digital_Video_Games       145427\n",
       "39        Mobile_Electronics       104973\n",
       "40          Digital_Software       102077\n",
       "41          Major Appliances        96895\n",
       "42  Personal_Care_Appliances        85978"
      ]
     },
     "execution_count": 12,
     "metadata": {},
     "output_type": "execute_result"
    }
   ],
   "source": [
    "top_categories_df_pd.tail()"
   ]
  },
  {
   "cell_type": "markdown",
   "metadata": {},
   "source": [
    "Create a barchart showing top 10 product categories by number of reviews."
   ]
  },
  {
   "cell_type": "code",
   "execution_count": 19,
   "metadata": {},
   "outputs": [
    {
     "data": {
      "text/plain": [
       "Text(0, 0.5, 'Number of Reviews')"
      ]
     },
     "execution_count": 19,
     "metadata": {},
     "output_type": "execute_result"
    },
    {
     "data": {
      "image/png": "[encoded data removed]",
      "text/plain": [
       "<Figure size 864x576 with 1 Axes>"
      ]
     },
     "metadata": {
      "needs_background": "light"
     },
     "output_type": "display_data"
    }
   ],
   "source": [
    "plt.figure(figsize=(12,8))\n",
    "plt.title(\"Number of Product Reviews by Category\", fontsize=16)\n",
    "plt.xticks(rotation=60)\n",
    "plt.ylim(0, 20000000)\n",
    "\n",
    "sns.barplot(x=\"product_category\",\n",
    "            y=\"num_reviews\",\n",
    "            data=top_categories_df_pd.loc[:9, :],\n",
    "            orient=\"v\",\n",
    "            color=\"royalblue\")\n",
    "\n",
    "plt.xlabel(\"Product Category\", fontsize=14)\n",
    "plt.ylabel(\"Number of Reviews\", fontsize=14)"
   ]
  },
  {
   "cell_type": "markdown",
   "metadata": {},
   "source": [
    "Books (both in print and digital format) are by far the most reviewed product category, with each of these categories having approximately double the number of reviews as the next largest category, Wireless. Kind of cool, considering Amazon started off as an online bookseller. "
   ]
  },
  {
   "cell_type": "markdown",
   "metadata": {},
   "source": [
    "### Question 2 \n",
    "<br>\n",
    "For this question, we want to determine which product category gets the highest and lowest star rating. Like we did in the previous question, we can group the reviews by category, and compute the mean star ratings."
   ]
  },
  {
   "cell_type": "code",
   "execution_count": 13,
   "metadata": {},
   "outputs": [
    {
     "data": {
      "text/plain": [
       "0"
      ]
     },
     "execution_count": 13,
     "metadata": {},
     "output_type": "execute_result"
    }
   ],
   "source": [
    "# check if null values are present in the star_rating column\n",
    "reviews_subset_df.filter((reviews_subset_df.star_rating.isNull())).count()"
   ]
  },
  {
   "cell_type": "markdown",
   "metadata": {},
   "source": [
    "We group the records we cached in Question 1 by product category again, and then compute the mean star_rating. Round the values to two decimal places."
   ]
  },
  {
   "cell_type": "code",
   "execution_count": 14,
   "metadata": {},
   "outputs": [],
   "source": [
    "star_ratings_by_category = reviews_subset_df.\\\n",
    "groupby(\"product_category\").\\\n",
    "agg(mean('star_rating').alias('avg_star_rating'))\n",
    "\n",
    "star_ratings_by_category = star_ratings_by_category\\\n",
    ".withColumn(\"avg_star_rating\", round(star_ratings_by_category[\"avg_star_rating\"], 2))"
   ]
  },
  {
   "cell_type": "code",
   "execution_count": 15,
   "metadata": {},
   "outputs": [
    {
     "data": {
      "text/html": [
       "<table border='1'>\n",
       "<tr><th>product_category</th><th>avg_star_rating</th></tr>\n",
       "<tr><td>Gift Card</td><td>4.73</td></tr>\n",
       "<tr><td>Digital_Music_Pur...</td><td>4.64</td></tr>\n",
       "<tr><td>Music</td><td>4.44</td></tr>\n",
       "<tr><td>Books</td><td>4.34</td></tr>\n",
       "<tr><td>Grocery</td><td>4.31</td></tr>\n",
       "<tr><td>Digital_Ebook_Pur...</td><td>4.31</td></tr>\n",
       "<tr><td>Video DVD</td><td>4.3</td></tr>\n",
       "<tr><td>Tools</td><td>4.26</td></tr>\n",
       "<tr><td>Automotive</td><td>4.25</td></tr>\n",
       "<tr><td>Musical Instruments</td><td>4.25</td></tr>\n",
       "</table>\n"
      ],
      "text/plain": [
       "+--------------------+---------------+\n",
       "|    product_category|avg_star_rating|\n",
       "+--------------------+---------------+\n",
       "|           Gift Card|           4.73|\n",
       "|Digital_Music_Pur...|           4.64|\n",
       "|               Music|           4.44|\n",
       "|               Books|           4.34|\n",
       "|Digital_Ebook_Pur...|           4.31|\n",
       "|             Grocery|           4.31|\n",
       "|           Video DVD|            4.3|\n",
       "|               Tools|           4.26|\n",
       "|          Automotive|           4.25|\n",
       "| Musical Instruments|           4.25|\n",
       "+--------------------+---------------+"
      ]
     },
     "execution_count": 15,
     "metadata": {},
     "output_type": "execute_result"
    }
   ],
   "source": [
    "star_ratings_df = star_ratings_by_category.orderBy(\"avg_star_rating\", ascending=False)\n",
    "\n",
    "star_ratings_df.limit(10)"
   ]
  },
  {
   "cell_type": "code",
   "execution_count": 16,
   "metadata": {},
   "outputs": [],
   "source": [
    "# convert to Pandas df\n",
    "star_ratings_pd = star_ratings_df.toPandas()"
   ]
  },
  {
   "cell_type": "code",
   "execution_count": 27,
   "metadata": {},
   "outputs": [
    {
     "data": {
      "text/plain": [
       "(43, 2)"
      ]
     },
     "execution_count": 27,
     "metadata": {},
     "output_type": "execute_result"
    }
   ],
   "source": [
    "star_ratings_pd.shape"
   ]
  },
  {
   "cell_type": "code",
   "execution_count": 22,
   "metadata": {},
   "outputs": [
    {
     "data": {
      "text/html": [
       "<div>\n",
       "<style scoped>\n",
       "    .dataframe tbody tr th:only-of-type {\n",
       "        vertical-align: middle;\n",
       "    }\n",
       "\n",
       "    .dataframe tbody tr th {\n",
       "        vertical-align: top;\n",
       "    }\n",
       "\n",
       "    .dataframe thead th {\n",
       "        text-align: right;\n",
       "    }\n",
       "</style>\n",
       "<table border=\"1\" class=\"dataframe\">\n",
       "  <thead>\n",
       "    <tr style=\"text-align: right;\">\n",
       "      <th></th>\n",
       "      <th>product_category</th>\n",
       "      <th>avg_star_rating</th>\n",
       "    </tr>\n",
       "  </thead>\n",
       "  <tbody>\n",
       "    <tr>\n",
       "      <th>0</th>\n",
       "      <td>Gift Card</td>\n",
       "      <td>4.73</td>\n",
       "    </tr>\n",
       "    <tr>\n",
       "      <th>1</th>\n",
       "      <td>Digital_Music_Purchase</td>\n",
       "      <td>4.64</td>\n",
       "    </tr>\n",
       "    <tr>\n",
       "      <th>2</th>\n",
       "      <td>Music</td>\n",
       "      <td>4.44</td>\n",
       "    </tr>\n",
       "    <tr>\n",
       "      <th>3</th>\n",
       "      <td>Books</td>\n",
       "      <td>4.34</td>\n",
       "    </tr>\n",
       "    <tr>\n",
       "      <th>4</th>\n",
       "      <td>Grocery</td>\n",
       "      <td>4.31</td>\n",
       "    </tr>\n",
       "    <tr>\n",
       "      <th>5</th>\n",
       "      <td>Digital_Ebook_Purchase</td>\n",
       "      <td>4.31</td>\n",
       "    </tr>\n",
       "    <tr>\n",
       "      <th>6</th>\n",
       "      <td>Video DVD</td>\n",
       "      <td>4.30</td>\n",
       "    </tr>\n",
       "    <tr>\n",
       "      <th>7</th>\n",
       "      <td>Tools</td>\n",
       "      <td>4.26</td>\n",
       "    </tr>\n",
       "    <tr>\n",
       "      <th>8</th>\n",
       "      <td>Automotive</td>\n",
       "      <td>4.25</td>\n",
       "    </tr>\n",
       "    <tr>\n",
       "      <th>9</th>\n",
       "      <td>Musical Instruments</td>\n",
       "      <td>4.25</td>\n",
       "    </tr>\n",
       "  </tbody>\n",
       "</table>\n",
       "</div>"
      ],
      "text/plain": [
       "         product_category  avg_star_rating\n",
       "0               Gift Card             4.73\n",
       "1  Digital_Music_Purchase             4.64\n",
       "2                   Music             4.44\n",
       "3                   Books             4.34\n",
       "4                 Grocery             4.31\n",
       "5  Digital_Ebook_Purchase             4.31\n",
       "6               Video DVD             4.30\n",
       "7                   Tools             4.26\n",
       "8              Automotive             4.25\n",
       "9     Musical Instruments             4.25"
      ]
     },
     "execution_count": 22,
     "metadata": {},
     "output_type": "execute_result"
    }
   ],
   "source": [
    "star_ratings_pd.head(10)"
   ]
  },
  {
   "cell_type": "code",
   "execution_count": 24,
   "metadata": {},
   "outputs": [
    {
     "data": {
      "text/html": [
       "<div>\n",
       "<style scoped>\n",
       "    .dataframe tbody tr th:only-of-type {\n",
       "        vertical-align: middle;\n",
       "    }\n",
       "\n",
       "    .dataframe tbody tr th {\n",
       "        vertical-align: top;\n",
       "    }\n",
       "\n",
       "    .dataframe thead th {\n",
       "        text-align: right;\n",
       "    }\n",
       "</style>\n",
       "<table border=\"1\" class=\"dataframe\">\n",
       "  <thead>\n",
       "    <tr style=\"text-align: right;\">\n",
       "      <th></th>\n",
       "      <th>product_category</th>\n",
       "      <th>avg_star_rating</th>\n",
       "    </tr>\n",
       "  </thead>\n",
       "  <tbody>\n",
       "    <tr>\n",
       "      <th>33</th>\n",
       "      <td>Electronics</td>\n",
       "      <td>4.04</td>\n",
       "    </tr>\n",
       "    <tr>\n",
       "      <th>34</th>\n",
       "      <td>Personal_Care_Appliances</td>\n",
       "      <td>3.98</td>\n",
       "    </tr>\n",
       "    <tr>\n",
       "      <th>35</th>\n",
       "      <td>Mobile_Apps</td>\n",
       "      <td>3.98</td>\n",
       "    </tr>\n",
       "    <tr>\n",
       "      <th>36</th>\n",
       "      <td>Home Entertainment</td>\n",
       "      <td>3.90</td>\n",
       "    </tr>\n",
       "    <tr>\n",
       "      <th>37</th>\n",
       "      <td>Wireless</td>\n",
       "      <td>3.89</td>\n",
       "    </tr>\n",
       "    <tr>\n",
       "      <th>38</th>\n",
       "      <td>Digital_Video_Games</td>\n",
       "      <td>3.85</td>\n",
       "    </tr>\n",
       "    <tr>\n",
       "      <th>39</th>\n",
       "      <td>Mobile_Electronics</td>\n",
       "      <td>3.76</td>\n",
       "    </tr>\n",
       "    <tr>\n",
       "      <th>40</th>\n",
       "      <td>Major Appliances</td>\n",
       "      <td>3.72</td>\n",
       "    </tr>\n",
       "    <tr>\n",
       "      <th>41</th>\n",
       "      <td>Software</td>\n",
       "      <td>3.57</td>\n",
       "    </tr>\n",
       "    <tr>\n",
       "      <th>42</th>\n",
       "      <td>Digital_Software</td>\n",
       "      <td>3.54</td>\n",
       "    </tr>\n",
       "  </tbody>\n",
       "</table>\n",
       "</div>"
      ],
      "text/plain": [
       "            product_category  avg_star_rating\n",
       "33               Electronics             4.04\n",
       "34  Personal_Care_Appliances             3.98\n",
       "35               Mobile_Apps             3.98\n",
       "36        Home Entertainment             3.90\n",
       "37                  Wireless             3.89\n",
       "38       Digital_Video_Games             3.85\n",
       "39        Mobile_Electronics             3.76\n",
       "40          Major Appliances             3.72\n",
       "41                  Software             3.57\n",
       "42          Digital_Software             3.54"
      ]
     },
     "execution_count": 24,
     "metadata": {},
     "output_type": "execute_result"
    }
   ],
   "source": [
    "star_ratings_pd.tail(10)"
   ]
  },
  {
   "cell_type": "code",
   "execution_count": 21,
   "metadata": {},
   "outputs": [
    {
     "data": {
      "text/plain": [
       "Text(0, 0.5, 'Average Star Rating')"
      ]
     },
     "execution_count": 21,
     "metadata": {},
     "output_type": "execute_result"
    },
    {
     "data": {
      "image/png": "[encoded data removed]",
      "text/plain": [
       "<Figure size 864x576 with 1 Axes>"
      ]
     },
     "metadata": {
      "needs_background": "light"
     },
     "output_type": "display_data"
    }
   ],
   "source": [
    "plt.figure(figsize=(12,8))\n",
    "plt.title(\"Average Star Rating in Reviews, by Product Category\", fontsize=16)\n",
    "plt.xticks(rotation=60)\n",
    "plt.ylim(4, 5)\n",
    "\n",
    "sns.barplot(x=\"product_category\",\n",
    "            y=\"avg_star_rating\",\n",
    "            data=star_ratings_pd.loc[:9, :],\n",
    "            orient=\"v\",\n",
    "            color=\"darkturquoise\")\n",
    "\n",
    "plt.xlabel(\"Product Category\", fontsize=14)\n",
    "plt.ylabel(\"Average Star Rating\", fontsize=14)"
   ]
  },
  {
   "cell_type": "markdown",
   "metadata": {},
   "source": [
    "Gift card is the product category with the highest average star rating (4.73). Each of the categories in the top 10 have an average star rating greater than 4. Five out of the top 10 are related to media (books, digital books, music, digital music, DVDs).\n",
    "<br>\n",
    "<br>\n",
    "Software and digital software (unclear what differentiates these two categories) are the two lowest product categories with respect to average star rating. But even here, the rating is not that low (3.57 for the former and 3.54 for the latter). Only 0.75 \"stars\" separate these bottom two from the 10th highest product category."
   ]
  },
  {
   "cell_type": "markdown",
   "metadata": {},
   "source": [
    "### Question 3 \n",
    "<br>\n",
    "For this question, we want to determine whether there is any seasonal effect (annual) on the number of product reviews."
   ]
  },
  {
   "cell_type": "markdown",
   "metadata": {},
   "source": [
    "The review_date column is stored as a string, so we need to convert to a DateType format."
   ]
  },
  {
   "cell_type": "code",
   "execution_count": 9,
   "metadata": {},
   "outputs": [],
   "source": [
    "reviews_w_dates = reviews_subset_df.\\\n",
    "select([\"review_id\", \"product_category\", \"review_date\"]).\\\n",
    "withColumn('date', to_date(reviews_subset_df.review_date, format = \"yyyy-MM-dd\"))"
   ]
  },
  {
   "cell_type": "code",
   "execution_count": 10,
   "metadata": {},
   "outputs": [
    {
     "name": "stdout",
     "output_type": "stream",
     "text": [
      "root\n",
      " |-- review_id: string (nullable = true)\n",
      " |-- product_category: string (nullable = true)\n",
      " |-- review_date: string (nullable = true)\n",
      " |-- date: date (nullable = true)\n",
      "\n"
     ]
    }
   ],
   "source": [
    "reviews_w_dates.printSchema()"
   ]
  },
  {
   "cell_type": "code",
   "execution_count": 31,
   "metadata": {},
   "outputs": [
    {
     "data": {
      "text/html": [
       "<table border='1'>\n",
       "<tr><th>review_id</th><th>product_category</th><th>review_date</th><th>date</th></tr>\n",
       "<tr><td>RNRWRW58LZBJC</td><td>Home</td><td>2013-12-16</td><td>2013-12-16</td></tr>\n",
       "<tr><td>R3MVIMMSBW93UC</td><td>Home</td><td>2013-12-16</td><td>2013-12-16</td></tr>\n",
       "<tr><td>R3D710QBZ0OX1R</td><td>Home</td><td>2013-12-16</td><td>2013-12-16</td></tr>\n",
       "<tr><td>R3391ZL3JZC0PA</td><td>Home</td><td>2013-12-16</td><td>2013-12-16</td></tr>\n",
       "<tr><td>RJTQJ95Y4XANP</td><td>Home</td><td>2013-12-16</td><td>2013-12-16</td></tr>\n",
       "<tr><td>R29VER3SO8AD0A</td><td>Home</td><td>2013-12-16</td><td>2013-12-16</td></tr>\n",
       "<tr><td>RV5ULSDNJMSP1</td><td>Home</td><td>2013-12-16</td><td>2013-12-16</td></tr>\n",
       "<tr><td>R3AMIERN69IGOP</td><td>Home</td><td>2013-12-16</td><td>2013-12-16</td></tr>\n",
       "<tr><td>R2Q8JK1W9XD3QV</td><td>Home</td><td>2013-12-16</td><td>2013-12-16</td></tr>\n",
       "<tr><td>R3PXSSHOQMKNDB</td><td>Home</td><td>2013-12-16</td><td>2013-12-16</td></tr>\n",
       "</table>\n"
      ],
      "text/plain": [
       "+--------------+----------------+-----------+----------+\n",
       "|     review_id|product_category|review_date|      date|\n",
       "+--------------+----------------+-----------+----------+\n",
       "| R3ZLSRNKFBIN0|         Apparel| 2014-10-10|2014-10-10|\n",
       "|R1V9K2C00OTOP9|         Apparel| 2015-07-05|2015-07-05|\n",
       "|R2D8D3A6UK2GFR|         Apparel| 2014-11-07|2014-11-07|\n",
       "|R3HK3G8UXACFB7|         Apparel| 2013-03-12|2013-03-12|\n",
       "|R2MO22K2NXFGO7|         Apparel| 2014-11-25|2014-11-25|\n",
       "|R164HSIRHEXGXC|         Apparel| 2014-05-18|2014-05-18|\n",
       "| R6QQ185X6NI0S|         Apparel| 2013-01-04|2013-01-04|\n",
       "| RX3FQWPA17ECY|         Apparel| 2013-02-20|2013-02-20|\n",
       "|R2CVCO21N279XZ|         Apparel| 2012-11-20|2012-11-20|\n",
       "|R1IP7SVX2PL7UA|         Apparel| 2012-12-09|2012-12-09|\n",
       "+--------------+----------------+-----------+----------+"
      ]
     },
     "execution_count": 31,
     "metadata": {},
     "output_type": "execute_result"
    }
   ],
   "source": [
    "reviews_w_dates.limit(10)"
   ]
  },
  {
   "cell_type": "markdown",
   "metadata": {},
   "source": [
    "Since we don't need the other columns we have in our cached data, we can release it. However, before we do any grouping according to category or date, it would make sense to select the  columns we need and cache that."
   ]
  },
  {
   "cell_type": "code",
   "execution_count": 11,
   "metadata": {},
   "outputs": [],
   "source": [
    "reviews_w_dates = reviews_w_dates.\\\n",
    "select([\"review_id\", \"product_category\", \"date\"])\n",
    "\n",
    "reviews_subset_df.unpersist();"
   ]
  },
  {
   "cell_type": "code",
   "execution_count": 12,
   "metadata": {},
   "outputs": [
    {
     "data": {
      "text/html": [
       "<table border='1'>\n",
       "<tr><th>review_id</th><th>product_category</th><th>date</th></tr>\n",
       "<tr><td>R1KKOXHNI8MSXU</td><td>Apparel</td><td>2013-01-14</td></tr>\n",
       "<tr><td>R26SP2OPDK4HT7</td><td>Apparel</td><td>2014-03-04</td></tr>\n",
       "<tr><td>RWQEDYAX373I1</td><td>Apparel</td><td>2015-07-12</td></tr>\n",
       "<tr><td>R231YI7R4GPF6J</td><td>Apparel</td><td>2015-06-03</td></tr>\n",
       "<tr><td>R3KO3W45DD0L1K</td><td>Apparel</td><td>2015-06-12</td></tr>\n",
       "<tr><td>R1C4QH63NFL5NJ</td><td>Apparel</td><td>2014-04-22</td></tr>\n",
       "<tr><td>R2GP65O1U9N7BP</td><td>Apparel</td><td>2015-07-28</td></tr>\n",
       "<tr><td>R3O29CT5MQQ3XQ</td><td>Apparel</td><td>2015-07-10</td></tr>\n",
       "<tr><td>R1ZECD2AA8QFF6</td><td>Apparel</td><td>2015-08-09</td></tr>\n",
       "<tr><td>R2S79GCF6J89OA</td><td>Apparel</td><td>2014-05-24</td></tr>\n",
       "<tr><td>R1CBCUGNP37MPK</td><td>Apparel</td><td>2015-06-10</td></tr>\n",
       "<tr><td>R3NU4WUR5ZNV1V</td><td>Apparel</td><td>2013-09-06</td></tr>\n",
       "<tr><td>R32EPCJ3XF8LGE</td><td>Apparel</td><td>2014-11-17</td></tr>\n",
       "<tr><td>R1XIBC6WQBW31M</td><td>Apparel</td><td>2013-05-12</td></tr>\n",
       "<tr><td>R1P11MVDZ65LMH</td><td>Apparel</td><td>2014-02-14</td></tr>\n",
       "<tr><td>R1OJA3DJL0VDDK</td><td>Apparel</td><td>2014-10-20</td></tr>\n",
       "<tr><td>R1THWA5YRJLOOF</td><td>Apparel</td><td>2015-07-05</td></tr>\n",
       "<tr><td>R738LCNRSJVXP</td><td>Apparel</td><td>2015-07-29</td></tr>\n",
       "<tr><td>R1N3Z13931J3O9</td><td>Apparel</td><td>2015-01-01</td></tr>\n",
       "<tr><td>R1LBNTP7E8N89Z</td><td>Apparel</td><td>2015-02-12</td></tr>\n",
       "</table>\n",
       "only showing top 20 rows\n"
      ],
      "text/plain": [
       "+--------------+----------------+----------+\n",
       "|     review_id|product_category|      date|\n",
       "+--------------+----------------+----------+\n",
       "|R1KKOXHNI8MSXU|         Apparel|2013-01-14|\n",
       "|R26SP2OPDK4HT7|         Apparel|2014-03-04|\n",
       "| RWQEDYAX373I1|         Apparel|2015-07-12|\n",
       "|R231YI7R4GPF6J|         Apparel|2015-06-03|\n",
       "|R3KO3W45DD0L1K|         Apparel|2015-06-12|\n",
       "|R1C4QH63NFL5NJ|         Apparel|2014-04-22|\n",
       "|R2GP65O1U9N7BP|         Apparel|2015-07-28|\n",
       "|R3O29CT5MQQ3XQ|         Apparel|2015-07-10|\n",
       "|R1ZECD2AA8QFF6|         Apparel|2015-08-09|\n",
       "|R2S79GCF6J89OA|         Apparel|2014-05-24|\n",
       "|R1CBCUGNP37MPK|         Apparel|2015-06-10|\n",
       "|R3NU4WUR5ZNV1V|         Apparel|2013-09-06|\n",
       "|R32EPCJ3XF8LGE|         Apparel|2014-11-17|\n",
       "|R1XIBC6WQBW31M|         Apparel|2013-05-12|\n",
       "|R1P11MVDZ65LMH|         Apparel|2014-02-14|\n",
       "|R1OJA3DJL0VDDK|         Apparel|2014-10-20|\n",
       "|R1THWA5YRJLOOF|         Apparel|2015-07-05|\n",
       "| R738LCNRSJVXP|         Apparel|2015-07-29|\n",
       "|R1N3Z13931J3O9|         Apparel|2015-01-01|\n",
       "|R1LBNTP7E8N89Z|         Apparel|2015-02-12|\n",
       "+--------------+----------------+----------+\n",
       "only showing top 20 rows"
      ]
     },
     "execution_count": 12,
     "metadata": {},
     "output_type": "execute_result"
    }
   ],
   "source": [
    "reviews_w_dates.cache()"
   ]
  },
  {
   "cell_type": "markdown",
   "metadata": {},
   "source": [
    "Separate year and month values from the full date value, so that we can group according to these and compute a count of reviews per category, per year, per month."
   ]
  },
  {
   "cell_type": "code",
   "execution_count": 13,
   "metadata": {},
   "outputs": [
    {
     "data": {
      "text/html": [
       "<table border='1'>\n",
       "<tr><th>review_id</th><th>product_category</th><th>date</th><th>month</th><th>year</th></tr>\n",
       "<tr><td>R2SXDSOZLHMQQW</td><td>Kitchen</td><td>2013-10-21</td><td>10</td><td>2013</td></tr>\n",
       "<tr><td>R1GCT7I6K8TW0S</td><td>Kitchen</td><td>2013-10-21</td><td>10</td><td>2013</td></tr>\n",
       "<tr><td>R26WEHPZEQPPFR</td><td>Kitchen</td><td>2013-10-21</td><td>10</td><td>2013</td></tr>\n",
       "<tr><td>R21WQX9CJLCW0Y</td><td>Kitchen</td><td>2013-10-21</td><td>10</td><td>2013</td></tr>\n",
       "<tr><td>R312S37XOQTMB1</td><td>Kitchen</td><td>2013-10-21</td><td>10</td><td>2013</td></tr>\n",
       "</table>\n"
      ],
      "text/plain": [
       "+--------------+----------------+----------+-----+----+\n",
       "|     review_id|product_category|      date|month|year|\n",
       "+--------------+----------------+----------+-----+----+\n",
       "|R122UMFKGN0YY3|       Video DVD|2003-11-27|   11|2003|\n",
       "|R2XNVJTSQXKUNI|       Video DVD|2003-11-27|   11|2003|\n",
       "| RHDLEDU5YVCQZ|       Video DVD|2003-11-27|   11|2003|\n",
       "| RQGZ6E5IZUZ0E|       Video DVD|2003-11-27|   11|2003|\n",
       "| ROO33KS67J414|       Video DVD|2003-11-27|   11|2003|\n",
       "+--------------+----------------+----------+-----+----+"
      ]
     },
     "execution_count": 13,
     "metadata": {},
     "output_type": "execute_result"
    }
   ],
   "source": [
    "reviews_w_dates = reviews_w_dates.\\\n",
    "withColumn('month', month(\"date\")).\\\n",
    "withColumn('year', year(\"date\"))\n",
    "\n",
    "reviews_w_dates.limit(5)"
   ]
  },
  {
   "cell_type": "code",
   "execution_count": 14,
   "metadata": {},
   "outputs": [
    {
     "data": {
      "text/html": [
       "<table border='1'>\n",
       "<tr><th>product_category</th><th>year</th><th>month</th><th>num_reviews</th></tr>\n",
       "<tr><td>Apparel</td><td>2000</td><td>9</td><td>1</td></tr>\n",
       "<tr><td>Apparel</td><td>2000</td><td>10</td><td>4</td></tr>\n",
       "<tr><td>Apparel</td><td>2000</td><td>11</td><td>1</td></tr>\n",
       "<tr><td>Apparel</td><td>2001</td><td>10</td><td>4</td></tr>\n",
       "<tr><td>Apparel</td><td>2001</td><td>12</td><td>1</td></tr>\n",
       "<tr><td>Apparel</td><td>2002</td><td>1</td><td>8</td></tr>\n",
       "<tr><td>Apparel</td><td>2002</td><td>2</td><td>20</td></tr>\n",
       "<tr><td>Apparel</td><td>2002</td><td>3</td><td>2</td></tr>\n",
       "<tr><td>Apparel</td><td>2002</td><td>4</td><td>1</td></tr>\n",
       "<tr><td>Apparel</td><td>2002</td><td>5</td><td>1</td></tr>\n",
       "<tr><td>Apparel</td><td>2002</td><td>6</td><td>1</td></tr>\n",
       "<tr><td>Apparel</td><td>2002</td><td>8</td><td>10</td></tr>\n",
       "</table>\n"
      ],
      "text/plain": [
       "+----------------+----+-----+-----------+\n",
       "|product_category|year|month|num_reviews|\n",
       "+----------------+----+-----+-----------+\n",
       "|         Apparel|2000|    9|          1|\n",
       "|         Apparel|2000|   10|          4|\n",
       "|         Apparel|2000|   11|          1|\n",
       "|         Apparel|2001|   10|          4|\n",
       "|         Apparel|2001|   12|          1|\n",
       "|         Apparel|2002|    1|          8|\n",
       "|         Apparel|2002|    2|         20|\n",
       "|         Apparel|2002|    3|          2|\n",
       "|         Apparel|2002|    4|          1|\n",
       "|         Apparel|2002|    5|          1|\n",
       "|         Apparel|2002|    6|          1|\n",
       "|         Apparel|2002|    8|         10|\n",
       "+----------------+----+-----+-----------+"
      ]
     },
     "execution_count": 14,
     "metadata": {},
     "output_type": "execute_result"
    }
   ],
   "source": [
    "reviews_by_category_and_date = reviews_w_dates.\\\n",
    "groupby('product_category', 'year', 'month').\\\n",
    "agg(count('review_id').alias('num_reviews')).\\\n",
    "orderBy('product_category', 'year', 'month')\n",
    "\n",
    "reviews_by_category_and_date.limit(12)"
   ]
  },
  {
   "cell_type": "markdown",
   "metadata": {},
   "source": [
    "Use the Arrow optimization to convert the PySpark DataFrame above to a pandas DataFrame. https://docs.databricks.com/spark/latest/spark-sql/spark-pandas.html"
   ]
  },
  {
   "cell_type": "code",
   "execution_count": 15,
   "metadata": {},
   "outputs": [],
   "source": [
    "spark.conf.set(\"spark.sql.execution.arrow.enabled\", \"true\")\n",
    "\n",
    "reviews_by_category_and_date_pd = reviews_by_category_and_date.toPandas()"
   ]
  },
  {
   "cell_type": "code",
   "execution_count": 16,
   "metadata": {},
   "outputs": [
    {
     "data": {
      "text/plain": [
       "(7593, 4)"
      ]
     },
     "execution_count": 16,
     "metadata": {},
     "output_type": "execute_result"
    }
   ],
   "source": [
    "reviews_by_category_and_date_pd.shape"
   ]
  },
  {
   "cell_type": "code",
   "execution_count": 17,
   "metadata": {},
   "outputs": [
    {
     "name": "stdout",
     "output_type": "stream",
     "text": [
      "2015\n",
      "1995\n"
     ]
    }
   ],
   "source": [
    "print(reviews_by_category_and_date_pd['year'].max())\n",
    "print(reviews_by_category_and_date_pd['year'].min())"
   ]
  },
  {
   "cell_type": "code",
   "execution_count": 46,
   "metadata": {},
   "outputs": [
    {
     "data": {
      "text/plain": [
       "2006    12\n",
       "2000    12\n",
       "2013    12\n",
       "2012    12\n",
       "2011    12\n",
       "2010    12\n",
       "2009    12\n",
       "2008    12\n",
       "2007    12\n",
       "2014    12\n",
       "2005    12\n",
       "2004    12\n",
       "2003    12\n",
       "2002    12\n",
       "2001    12\n",
       "2015     8\n",
       "1999     7\n",
       "1998     7\n",
       "1997     2\n",
       "Name: year, dtype: int64"
      ]
     },
     "execution_count": 46,
     "metadata": {},
     "output_type": "execute_result"
    }
   ],
   "source": [
    "reviews_by_category_and_date_pd[reviews_by_category_and_date_pd['product_category'] == 'Video Games']['year'].value_counts()"
   ]
  },
  {
   "cell_type": "markdown",
   "metadata": {},
   "source": [
    "We are working with a **20 year span of reviews**, and it's likely from some cursory visual inspection that **not all categories have reviews from each year, or each month within a given year**. So visualizing all of this will be difficult.\n",
    "\n",
    "We can start by picking a year, maybe one of the more recent years, since it's possible that reviews will exist for categories in all months for this year. "
   ]
  },
  {
   "cell_type": "code",
   "execution_count": 18,
   "metadata": {},
   "outputs": [
    {
     "data": {
      "text/plain": [
       "(344, 4)"
      ]
     },
     "execution_count": 18,
     "metadata": {},
     "output_type": "execute_result"
    }
   ],
   "source": [
    "reviews_2015 = reviews_by_category_and_date_pd[reviews_by_category_and_date_pd['year'] == 2015]\n",
    "\n",
    "reviews_2015.shape"
   ]
  },
  {
   "cell_type": "markdown",
   "metadata": {},
   "source": [
    "344 rows means that we don't have 12 months' worth of data for all 43 categories."
   ]
  },
  {
   "cell_type": "code",
   "execution_count": 19,
   "metadata": {},
   "outputs": [],
   "source": [
    "reviews_2014 = reviews_by_category_and_date_pd[reviews_by_category_and_date_pd['year'] == 2014]"
   ]
  },
  {
   "cell_type": "code",
   "execution_count": 20,
   "metadata": {},
   "outputs": [
    {
     "data": {
      "text/plain": [
       "(516, 4)"
      ]
     },
     "execution_count": 20,
     "metadata": {},
     "output_type": "execute_result"
    }
   ],
   "source": [
    "reviews_2014.shape"
   ]
  },
  {
   "cell_type": "markdown",
   "metadata": {},
   "source": [
    "516 rows means that we have 12 months worth of data for all 43 product categories!"
   ]
  },
  {
   "cell_type": "code",
   "execution_count": 57,
   "metadata": {},
   "outputs": [
    {
     "data": {
      "text/plain": [
       "12    43\n",
       "11    43\n",
       "10    43\n",
       "9     43\n",
       "8     43\n",
       "7     43\n",
       "6     43\n",
       "5     43\n",
       "4     43\n",
       "3     43\n",
       "2     43\n",
       "1     43\n",
       "Name: month, dtype: int64"
      ]
     },
     "execution_count": 57,
     "metadata": {},
     "output_type": "execute_result"
    }
   ],
   "source": [
    "reviews_2014['month'].value_counts()"
   ]
  },
  {
   "cell_type": "code",
   "execution_count": 21,
   "metadata": {},
   "outputs": [
    {
     "data": {
      "text/html": [
       "<div>\n",
       "<style scoped>\n",
       "    .dataframe tbody tr th:only-of-type {\n",
       "        vertical-align: middle;\n",
       "    }\n",
       "\n",
       "    .dataframe tbody tr th {\n",
       "        vertical-align: top;\n",
       "    }\n",
       "\n",
       "    .dataframe thead th {\n",
       "        text-align: right;\n",
       "    }\n",
       "</style>\n",
       "<table border=\"1\" class=\"dataframe\">\n",
       "  <thead>\n",
       "    <tr style=\"text-align: right;\">\n",
       "      <th></th>\n",
       "      <th>product_category</th>\n",
       "      <th>year</th>\n",
       "      <th>month</th>\n",
       "      <th>num_reviews</th>\n",
       "    </tr>\n",
       "  </thead>\n",
       "  <tbody>\n",
       "    <tr>\n",
       "      <th>0</th>\n",
       "      <td>Apparel</td>\n",
       "      <td>2014</td>\n",
       "      <td>1</td>\n",
       "      <td>136023</td>\n",
       "    </tr>\n",
       "    <tr>\n",
       "      <th>1</th>\n",
       "      <td>Apparel</td>\n",
       "      <td>2014</td>\n",
       "      <td>2</td>\n",
       "      <td>106562</td>\n",
       "    </tr>\n",
       "    <tr>\n",
       "      <th>2</th>\n",
       "      <td>Apparel</td>\n",
       "      <td>2014</td>\n",
       "      <td>3</td>\n",
       "      <td>125216</td>\n",
       "    </tr>\n",
       "    <tr>\n",
       "      <th>3</th>\n",
       "      <td>Apparel</td>\n",
       "      <td>2014</td>\n",
       "      <td>4</td>\n",
       "      <td>108049</td>\n",
       "    </tr>\n",
       "    <tr>\n",
       "      <th>4</th>\n",
       "      <td>Apparel</td>\n",
       "      <td>2014</td>\n",
       "      <td>5</td>\n",
       "      <td>109211</td>\n",
       "    </tr>\n",
       "    <tr>\n",
       "      <th>5</th>\n",
       "      <td>Apparel</td>\n",
       "      <td>2014</td>\n",
       "      <td>6</td>\n",
       "      <td>111738</td>\n",
       "    </tr>\n",
       "    <tr>\n",
       "      <th>6</th>\n",
       "      <td>Apparel</td>\n",
       "      <td>2014</td>\n",
       "      <td>7</td>\n",
       "      <td>184672</td>\n",
       "    </tr>\n",
       "    <tr>\n",
       "      <th>7</th>\n",
       "      <td>Apparel</td>\n",
       "      <td>2014</td>\n",
       "      <td>8</td>\n",
       "      <td>182097</td>\n",
       "    </tr>\n",
       "    <tr>\n",
       "      <th>8</th>\n",
       "      <td>Apparel</td>\n",
       "      <td>2014</td>\n",
       "      <td>9</td>\n",
       "      <td>201924</td>\n",
       "    </tr>\n",
       "    <tr>\n",
       "      <th>9</th>\n",
       "      <td>Apparel</td>\n",
       "      <td>2014</td>\n",
       "      <td>10</td>\n",
       "      <td>247549</td>\n",
       "    </tr>\n",
       "  </tbody>\n",
       "</table>\n",
       "</div>"
      ],
      "text/plain": [
       "  product_category  year  month  num_reviews\n",
       "0          Apparel  2014      1       136023\n",
       "1          Apparel  2014      2       106562\n",
       "2          Apparel  2014      3       125216\n",
       "3          Apparel  2014      4       108049\n",
       "4          Apparel  2014      5       109211\n",
       "5          Apparel  2014      6       111738\n",
       "6          Apparel  2014      7       184672\n",
       "7          Apparel  2014      8       182097\n",
       "8          Apparel  2014      9       201924\n",
       "9          Apparel  2014     10       247549"
      ]
     },
     "execution_count": 21,
     "metadata": {},
     "output_type": "execute_result"
    }
   ],
   "source": [
    "reviews_2014.reset_index(drop=True, inplace=True)\n",
    "\n",
    "reviews_2014.head(10)"
   ]
  },
  {
   "cell_type": "code",
   "execution_count": 37,
   "metadata": {},
   "outputs": [],
   "source": [
    "categories = ['Digital_Ebook_Purchase', 'Books', 'Wireless', 'Apparel',\n",
    "              'Home', 'PC', 'Health & Personal Care', 'Beauty',\n",
    "              'Mobile_Apps', 'Digital_Video_Download', 'Shoes', 'Sports']\n",
    "\n",
    "reviews_2014_subset = reviews_2014[reviews_2014['product_category'].isin(categories)]"
   ]
  },
  {
   "cell_type": "code",
   "execution_count": 38,
   "metadata": {},
   "outputs": [
    {
     "data": {
      "text/plain": [
       "(144, 4)"
      ]
     },
     "execution_count": 38,
     "metadata": {},
     "output_type": "execute_result"
    }
   ],
   "source": [
    "reviews_2014_subset.shape"
   ]
  },
  {
   "cell_type": "code",
   "execution_count": 22,
   "metadata": {},
   "outputs": [
    {
     "data": {
      "text/html": [
       "<div>\n",
       "<style scoped>\n",
       "    .dataframe tbody tr th:only-of-type {\n",
       "        vertical-align: middle;\n",
       "    }\n",
       "\n",
       "    .dataframe tbody tr th {\n",
       "        vertical-align: top;\n",
       "    }\n",
       "\n",
       "    .dataframe thead th {\n",
       "        text-align: right;\n",
       "    }\n",
       "</style>\n",
       "<table border=\"1\" class=\"dataframe\">\n",
       "  <thead>\n",
       "    <tr style=\"text-align: right;\">\n",
       "      <th>month</th>\n",
       "      <th>1</th>\n",
       "      <th>2</th>\n",
       "      <th>3</th>\n",
       "      <th>4</th>\n",
       "      <th>5</th>\n",
       "      <th>6</th>\n",
       "      <th>7</th>\n",
       "      <th>8</th>\n",
       "      <th>9</th>\n",
       "      <th>10</th>\n",
       "      <th>11</th>\n",
       "      <th>12</th>\n",
       "    </tr>\n",
       "    <tr>\n",
       "      <th>product_category</th>\n",
       "      <th></th>\n",
       "      <th></th>\n",
       "      <th></th>\n",
       "      <th></th>\n",
       "      <th></th>\n",
       "      <th></th>\n",
       "      <th></th>\n",
       "      <th></th>\n",
       "      <th></th>\n",
       "      <th></th>\n",
       "      <th></th>\n",
       "      <th></th>\n",
       "    </tr>\n",
       "  </thead>\n",
       "  <tbody>\n",
       "    <tr>\n",
       "      <th>Apparel</th>\n",
       "      <td>136023</td>\n",
       "      <td>106562</td>\n",
       "      <td>125216</td>\n",
       "      <td>108049</td>\n",
       "      <td>109211</td>\n",
       "      <td>111738</td>\n",
       "      <td>184672</td>\n",
       "      <td>182097</td>\n",
       "      <td>201924</td>\n",
       "      <td>247549</td>\n",
       "      <td>262961</td>\n",
       "      <td>346359</td>\n",
       "    </tr>\n",
       "    <tr>\n",
       "      <th>Automotive</th>\n",
       "      <td>67778</td>\n",
       "      <td>57596</td>\n",
       "      <td>67677</td>\n",
       "      <td>64163</td>\n",
       "      <td>67120</td>\n",
       "      <td>71975</td>\n",
       "      <td>126882</td>\n",
       "      <td>133450</td>\n",
       "      <td>125668</td>\n",
       "      <td>129213</td>\n",
       "      <td>119847</td>\n",
       "      <td>143628</td>\n",
       "    </tr>\n",
       "    <tr>\n",
       "      <th>Baby</th>\n",
       "      <td>35434</td>\n",
       "      <td>28339</td>\n",
       "      <td>32727</td>\n",
       "      <td>29145</td>\n",
       "      <td>28498</td>\n",
       "      <td>29449</td>\n",
       "      <td>45004</td>\n",
       "      <td>47486</td>\n",
       "      <td>46374</td>\n",
       "      <td>47821</td>\n",
       "      <td>46651</td>\n",
       "      <td>59307</td>\n",
       "    </tr>\n",
       "    <tr>\n",
       "      <th>Beauty</th>\n",
       "      <td>110862</td>\n",
       "      <td>96530</td>\n",
       "      <td>108289</td>\n",
       "      <td>96470</td>\n",
       "      <td>95597</td>\n",
       "      <td>99278</td>\n",
       "      <td>158192</td>\n",
       "      <td>162422</td>\n",
       "      <td>154147</td>\n",
       "      <td>165882</td>\n",
       "      <td>163200</td>\n",
       "      <td>199918</td>\n",
       "    </tr>\n",
       "    <tr>\n",
       "      <th>Books</th>\n",
       "      <td>298346</td>\n",
       "      <td>248314</td>\n",
       "      <td>253392</td>\n",
       "      <td>224304</td>\n",
       "      <td>216873</td>\n",
       "      <td>218339</td>\n",
       "      <td>330355</td>\n",
       "      <td>333685</td>\n",
       "      <td>331385</td>\n",
       "      <td>335804</td>\n",
       "      <td>304856</td>\n",
       "      <td>376040</td>\n",
       "    </tr>\n",
       "  </tbody>\n",
       "</table>\n",
       "</div>"
      ],
      "text/plain": [
       "month                 1       2       3       4       5       6       7   \\\n",
       "product_category                                                           \n",
       "Apparel           136023  106562  125216  108049  109211  111738  184672   \n",
       "Automotive         67778   57596   67677   64163   67120   71975  126882   \n",
       "Baby               35434   28339   32727   29145   28498   29449   45004   \n",
       "Beauty            110862   96530  108289   96470   95597   99278  158192   \n",
       "Books             298346  248314  253392  224304  216873  218339  330355   \n",
       "\n",
       "month                 8       9       10      11      12  \n",
       "product_category                                          \n",
       "Apparel           182097  201924  247549  262961  346359  \n",
       "Automotive        133450  125668  129213  119847  143628  \n",
       "Baby               47486   46374   47821   46651   59307  \n",
       "Beauty            162422  154147  165882  163200  199918  \n",
       "Books             333685  331385  335804  304856  376040  "
      ]
     },
     "execution_count": 22,
     "metadata": {},
     "output_type": "execute_result"
    }
   ],
   "source": [
    "reviews_2014_wide = reviews_2014.pivot(index='product_category', columns='month', values='num_reviews')\n",
    "reviews_2014_wide.head()"
   ]
  },
  {
   "cell_type": "code",
   "execution_count": 23,
   "metadata": {},
   "outputs": [],
   "source": [
    "reviews_2014_wide['annual_total'] = reviews_2014_wide.sum(axis=1)"
   ]
  },
  {
   "cell_type": "code",
   "execution_count": 27,
   "metadata": {},
   "outputs": [],
   "source": [
    "reviews_2014_wide_top = reviews_2014_wide.sort_values(by='annual_total', ascending=False).head(12)"
   ]
  },
  {
   "cell_type": "code",
   "execution_count": 35,
   "metadata": {},
   "outputs": [
    {
     "data": {
      "text/html": [
       "<div>\n",
       "<style scoped>\n",
       "    .dataframe tbody tr th:only-of-type {\n",
       "        vertical-align: middle;\n",
       "    }\n",
       "\n",
       "    .dataframe tbody tr th {\n",
       "        vertical-align: top;\n",
       "    }\n",
       "\n",
       "    .dataframe thead th {\n",
       "        text-align: right;\n",
       "    }\n",
       "</style>\n",
       "<table border=\"1\" class=\"dataframe\">\n",
       "  <thead>\n",
       "    <tr style=\"text-align: right;\">\n",
       "      <th>month</th>\n",
       "      <th>1</th>\n",
       "      <th>2</th>\n",
       "      <th>3</th>\n",
       "      <th>4</th>\n",
       "      <th>5</th>\n",
       "      <th>6</th>\n",
       "      <th>7</th>\n",
       "      <th>8</th>\n",
       "      <th>9</th>\n",
       "      <th>10</th>\n",
       "      <th>11</th>\n",
       "      <th>12</th>\n",
       "      <th>annual_total</th>\n",
       "    </tr>\n",
       "    <tr>\n",
       "      <th>product_category</th>\n",
       "      <th></th>\n",
       "      <th></th>\n",
       "      <th></th>\n",
       "      <th></th>\n",
       "      <th></th>\n",
       "      <th></th>\n",
       "      <th></th>\n",
       "      <th></th>\n",
       "      <th></th>\n",
       "      <th></th>\n",
       "      <th></th>\n",
       "      <th></th>\n",
       "      <th></th>\n",
       "    </tr>\n",
       "  </thead>\n",
       "  <tbody>\n",
       "    <tr>\n",
       "      <th>Digital_Ebook_Purchase</th>\n",
       "      <td>550504</td>\n",
       "      <td>442524</td>\n",
       "      <td>523158</td>\n",
       "      <td>509022</td>\n",
       "      <td>513129</td>\n",
       "      <td>508211</td>\n",
       "      <td>623630</td>\n",
       "      <td>623598</td>\n",
       "      <td>537751</td>\n",
       "      <td>606597</td>\n",
       "      <td>564273</td>\n",
       "      <td>612619</td>\n",
       "      <td>6615016</td>\n",
       "    </tr>\n",
       "    <tr>\n",
       "      <th>Books</th>\n",
       "      <td>298346</td>\n",
       "      <td>248314</td>\n",
       "      <td>253392</td>\n",
       "      <td>224304</td>\n",
       "      <td>216873</td>\n",
       "      <td>218339</td>\n",
       "      <td>330355</td>\n",
       "      <td>333685</td>\n",
       "      <td>331385</td>\n",
       "      <td>335804</td>\n",
       "      <td>304856</td>\n",
       "      <td>376040</td>\n",
       "      <td>3471693</td>\n",
       "    </tr>\n",
       "    <tr>\n",
       "      <th>Wireless</th>\n",
       "      <td>206548</td>\n",
       "      <td>164691</td>\n",
       "      <td>175017</td>\n",
       "      <td>156760</td>\n",
       "      <td>151356</td>\n",
       "      <td>160964</td>\n",
       "      <td>276025</td>\n",
       "      <td>288900</td>\n",
       "      <td>280614</td>\n",
       "      <td>308103</td>\n",
       "      <td>294339</td>\n",
       "      <td>367054</td>\n",
       "      <td>2830371</td>\n",
       "    </tr>\n",
       "    <tr>\n",
       "      <th>Apparel</th>\n",
       "      <td>136023</td>\n",
       "      <td>106562</td>\n",
       "      <td>125216</td>\n",
       "      <td>108049</td>\n",
       "      <td>109211</td>\n",
       "      <td>111738</td>\n",
       "      <td>184672</td>\n",
       "      <td>182097</td>\n",
       "      <td>201924</td>\n",
       "      <td>247549</td>\n",
       "      <td>262961</td>\n",
       "      <td>346359</td>\n",
       "      <td>2122361</td>\n",
       "    </tr>\n",
       "    <tr>\n",
       "      <th>Home</th>\n",
       "      <td>168070</td>\n",
       "      <td>125526</td>\n",
       "      <td>129186</td>\n",
       "      <td>110182</td>\n",
       "      <td>107697</td>\n",
       "      <td>111732</td>\n",
       "      <td>179138</td>\n",
       "      <td>188421</td>\n",
       "      <td>184780</td>\n",
       "      <td>196064</td>\n",
       "      <td>204977</td>\n",
       "      <td>293517</td>\n",
       "      <td>1999290</td>\n",
       "    </tr>\n",
       "    <tr>\n",
       "      <th>PC</th>\n",
       "      <td>192505</td>\n",
       "      <td>141366</td>\n",
       "      <td>140257</td>\n",
       "      <td>119098</td>\n",
       "      <td>112672</td>\n",
       "      <td>112501</td>\n",
       "      <td>181457</td>\n",
       "      <td>189732</td>\n",
       "      <td>183078</td>\n",
       "      <td>185483</td>\n",
       "      <td>181381</td>\n",
       "      <td>257740</td>\n",
       "      <td>1997270</td>\n",
       "    </tr>\n",
       "    <tr>\n",
       "      <th>Health &amp; Personal Care</th>\n",
       "      <td>110658</td>\n",
       "      <td>101610</td>\n",
       "      <td>112441</td>\n",
       "      <td>101965</td>\n",
       "      <td>100526</td>\n",
       "      <td>104871</td>\n",
       "      <td>163094</td>\n",
       "      <td>171154</td>\n",
       "      <td>165158</td>\n",
       "      <td>175835</td>\n",
       "      <td>170306</td>\n",
       "      <td>204641</td>\n",
       "      <td>1682259</td>\n",
       "    </tr>\n",
       "    <tr>\n",
       "      <th>Beauty</th>\n",
       "      <td>110862</td>\n",
       "      <td>96530</td>\n",
       "      <td>108289</td>\n",
       "      <td>96470</td>\n",
       "      <td>95597</td>\n",
       "      <td>99278</td>\n",
       "      <td>158192</td>\n",
       "      <td>162422</td>\n",
       "      <td>154147</td>\n",
       "      <td>165882</td>\n",
       "      <td>163200</td>\n",
       "      <td>199918</td>\n",
       "      <td>1610787</td>\n",
       "    </tr>\n",
       "    <tr>\n",
       "      <th>Mobile_Apps</th>\n",
       "      <td>163373</td>\n",
       "      <td>139244</td>\n",
       "      <td>129657</td>\n",
       "      <td>104992</td>\n",
       "      <td>95049</td>\n",
       "      <td>103365</td>\n",
       "      <td>137233</td>\n",
       "      <td>129043</td>\n",
       "      <td>123654</td>\n",
       "      <td>145026</td>\n",
       "      <td>155808</td>\n",
       "      <td>182643</td>\n",
       "      <td>1609087</td>\n",
       "    </tr>\n",
       "    <tr>\n",
       "      <th>Digital_Video_Download</th>\n",
       "      <td>137695</td>\n",
       "      <td>136646</td>\n",
       "      <td>120945</td>\n",
       "      <td>95526</td>\n",
       "      <td>86566</td>\n",
       "      <td>88730</td>\n",
       "      <td>130582</td>\n",
       "      <td>141763</td>\n",
       "      <td>122584</td>\n",
       "      <td>145996</td>\n",
       "      <td>146305</td>\n",
       "      <td>208954</td>\n",
       "      <td>1562292</td>\n",
       "    </tr>\n",
       "    <tr>\n",
       "      <th>Shoes</th>\n",
       "      <td>98106</td>\n",
       "      <td>79631</td>\n",
       "      <td>103310</td>\n",
       "      <td>92298</td>\n",
       "      <td>91846</td>\n",
       "      <td>94213</td>\n",
       "      <td>147711</td>\n",
       "      <td>141820</td>\n",
       "      <td>156446</td>\n",
       "      <td>157411</td>\n",
       "      <td>159996</td>\n",
       "      <td>206073</td>\n",
       "      <td>1528861</td>\n",
       "    </tr>\n",
       "    <tr>\n",
       "      <th>Sports</th>\n",
       "      <td>125036</td>\n",
       "      <td>91800</td>\n",
       "      <td>94577</td>\n",
       "      <td>84564</td>\n",
       "      <td>82980</td>\n",
       "      <td>87542</td>\n",
       "      <td>145827</td>\n",
       "      <td>152222</td>\n",
       "      <td>147314</td>\n",
       "      <td>152576</td>\n",
       "      <td>145600</td>\n",
       "      <td>201713</td>\n",
       "      <td>1511751</td>\n",
       "    </tr>\n",
       "  </tbody>\n",
       "</table>\n",
       "</div>"
      ],
      "text/plain": [
       "month                        1       2       3       4       5       6  \\\n",
       "product_category                                                         \n",
       "Digital_Ebook_Purchase  550504  442524  523158  509022  513129  508211   \n",
       "Books                   298346  248314  253392  224304  216873  218339   \n",
       "Wireless                206548  164691  175017  156760  151356  160964   \n",
       "Apparel                 136023  106562  125216  108049  109211  111738   \n",
       "Home                    168070  125526  129186  110182  107697  111732   \n",
       "PC                      192505  141366  140257  119098  112672  112501   \n",
       "Health & Personal Care  110658  101610  112441  101965  100526  104871   \n",
       "Beauty                  110862   96530  108289   96470   95597   99278   \n",
       "Mobile_Apps             163373  139244  129657  104992   95049  103365   \n",
       "Digital_Video_Download  137695  136646  120945   95526   86566   88730   \n",
       "Shoes                    98106   79631  103310   92298   91846   94213   \n",
       "Sports                  125036   91800   94577   84564   82980   87542   \n",
       "\n",
       "month                        7       8       9      10      11      12  \\\n",
       "product_category                                                         \n",
       "Digital_Ebook_Purchase  623630  623598  537751  606597  564273  612619   \n",
       "Books                   330355  333685  331385  335804  304856  376040   \n",
       "Wireless                276025  288900  280614  308103  294339  367054   \n",
       "Apparel                 184672  182097  201924  247549  262961  346359   \n",
       "Home                    179138  188421  184780  196064  204977  293517   \n",
       "PC                      181457  189732  183078  185483  181381  257740   \n",
       "Health & Personal Care  163094  171154  165158  175835  170306  204641   \n",
       "Beauty                  158192  162422  154147  165882  163200  199918   \n",
       "Mobile_Apps             137233  129043  123654  145026  155808  182643   \n",
       "Digital_Video_Download  130582  141763  122584  145996  146305  208954   \n",
       "Shoes                   147711  141820  156446  157411  159996  206073   \n",
       "Sports                  145827  152222  147314  152576  145600  201713   \n",
       "\n",
       "month                   annual_total  \n",
       "product_category                      \n",
       "Digital_Ebook_Purchase       6615016  \n",
       "Books                        3471693  \n",
       "Wireless                     2830371  \n",
       "Apparel                      2122361  \n",
       "Home                         1999290  \n",
       "PC                           1997270  \n",
       "Health & Personal Care       1682259  \n",
       "Beauty                       1610787  \n",
       "Mobile_Apps                  1609087  \n",
       "Digital_Video_Download       1562292  \n",
       "Shoes                        1528861  \n",
       "Sports                       1511751  "
      ]
     },
     "execution_count": 35,
     "metadata": {},
     "output_type": "execute_result"
    }
   ],
   "source": [
    "reviews_2014_wide_top"
   ]
  },
  {
   "cell_type": "markdown",
   "metadata": {},
   "source": [
    "I tried to feed the wide format dataframe directly into the sns.lineplot() function, per this [documention](https://seaborn.pydata.org/generated/seaborn.lineplot.html#seaborn.lineplot), but it didn't really work out. I want month on the x axis, not as a color differentiator."
   ]
  },
  {
   "cell_type": "code",
   "execution_count": 42,
   "metadata": {},
   "outputs": [
    {
     "data": {
      "text/plain": [
       "<AxesSubplot:xlabel='product_category'>"
      ]
     },
     "execution_count": 42,
     "metadata": {},
     "output_type": "execute_result"
    },
    {
     "data": {
      "image/png": "[encoded data removed]",
      "text/plain": [
       "<Figure size 432x288 with 1 Axes>"
      ]
     },
     "metadata": {
      "needs_background": "light"
     },
     "output_type": "display_data"
    }
   ],
   "source": [
    "sns.lineplot(data=reviews_2014_wide_top)"
   ]
  },
  {
   "cell_type": "code",
   "execution_count": 40,
   "metadata": {},
   "outputs": [
    {
     "data": {
      "text/plain": [
       "Text(0, 0.5, 'Number of Reviews')"
      ]
     },
     "execution_count": 40,
     "metadata": {},
     "output_type": "execute_result"
    },
    {
     "data": {
      "image/png": "[encoded data removed]",
      "text/plain": [
       "<Figure size 864x576 with 1 Axes>"
      ]
     },
     "metadata": {
      "needs_background": "light"
     },
     "output_type": "display_data"
    }
   ],
   "source": [
    "plt.figure(figsize=(12,8))\n",
    "plt.title(\"Review Count by Month, by Product Category\", fontsize=16)\n",
    "#plt.xticks(rotation=60)\n",
    "\n",
    "sns.lineplot(x=\"month\",\n",
    "            y=\"num_reviews\",\n",
    "            hue=\"product_category\",\n",
    "            data=reviews_2014_subset)\n",
    "\n",
    "plt.legend(loc='best')\n",
    "plt.xlabel(\"Month\", fontsize=14)\n",
    "plt.ylabel(\"Number of Reviews\", fontsize=14)"
   ]
  },
  {
   "cell_type": "markdown",
   "metadata": {},
   "source": [
    "I selected the top 12 product categories according to total number of reviews for the year 2014. I did this because including all 43 categories in the chart made it very hard to distinguish which line belonged to which category, and the legend was huge. \n",
    "<br>\n",
    "<br>\n",
    "Digital E-Books and print Books are the top 2 categories for this year.\n",
    "<br>\n",
    "<br>\n",
    "We can observe the following general pattern for most categories. Gradually decreasing trend for the first halg of the year, followed by an increase in the period between June and July, fairly consistent level throughtout remaining summer and autumn months, following by sharp uptick in last months of the year."
   ]
  },
  {
   "cell_type": "markdown",
   "metadata": {},
   "source": [
    "### Question 4\n",
    "<br>\n",
    "For this question, we want to examine the helpfulness of the product reviews. We can define helpfulness as the ratio of the helpful votes to total votes given to a review. We also want to look correlation between helpfulness and the length of the review headline and/or review body."
   ]
  },
  {
   "cell_type": "code",
   "execution_count": 44,
   "metadata": {},
   "outputs": [],
   "source": [
    "reviews_w_dates.unpersist();"
   ]
  },
  {
   "cell_type": "code",
   "execution_count": 58,
   "metadata": {},
   "outputs": [],
   "source": [
    "reviews_subset = reviews_df.\\\n",
    "withColumn('helpfulness', round(reviews_df.helpful_votes / reviews_df.total_votes, 2)).\\\n",
    "withColumn('review_headline_word_ct', size(split(col('review_headline'), ' '))).\\\n",
    "withColumn('review_body_word_ct', size(split(col('review_body'), ' '))).\\\n",
    "select('customer_id', 'product_id', 'review_id', 'product_title', 'helpful_votes', 'total_votes', 'helpfulness', 'review_headline', 'review_headline_word_ct','review_body', 'review_body_word_ct')"
   ]
  },
  {
   "cell_type": "code",
   "execution_count": 57,
   "metadata": {},
   "outputs": [],
   "source": [
    "reviews_subset.unpersist();"
   ]
  },
  {
   "cell_type": "code",
   "execution_count": 59,
   "metadata": {},
   "outputs": [
    {
     "data": {
      "text/html": [
       "<table border='1'>\n",
       "<tr><th>customer_id</th><th>product_id</th><th>review_id</th><th>product_title</th><th>helpful_votes</th><th>total_votes</th><th>helpfulness</th><th>review_headline</th><th>review_headline_word_ct</th><th>review_body</th><th>review_body_word_ct</th></tr>\n",
       "<tr><td>32158956</td><td>B01KL6O72Y</td><td>R1KKOXHNI8MSXU</td><td>Easy Tool Stainle...</td><td>0</td><td>0</td><td>null</td><td>★ THESE REALLY DO...</td><td>10</td><td>These Really Do W...</td><td>573</td></tr>\n",
       "<tr><td>2714559</td><td>B01ID3ZS5W</td><td>R26SP2OPDK4HT7</td><td>V28 Women Cowl Ne...</td><td>1</td><td>2</td><td>0.5</td><td>Favorite for wint...</td><td>5</td><td>I love this dress...</td><td>70</td></tr>\n",
       "<tr><td>12608825</td><td>B01I497BGY</td><td>RWQEDYAX373I1</td><td>James Fiallo Men&#x27;...</td><td>0</td><td>0</td><td>null</td><td>Great Socks for t...</td><td>5</td><td>Nice socks, great...</td><td>15</td></tr>\n",
       "<tr><td>25482800</td><td>B01HDXFZK6</td><td>R231YI7R4GPF6J</td><td>Belfry Gangster 1...</td><td>0</td><td>0</td><td>null</td><td>Slick hat!</td><td>2</td><td>I bought this for...</td><td>31</td></tr>\n",
       "<tr><td>9310286</td><td>B01G6MBEBY</td><td>R3KO3W45DD0L1K</td><td>JAEDEN Women&#x27;s Be...</td><td>0</td><td>0</td><td>null</td><td>I would do it again!</td><td>5</td><td>Perfect dress and...</td><td>8</td></tr>\n",
       "<tr><td>26631939</td><td>B01FWRXN0Y</td><td>R1C4QH63NFL5NJ</td><td>Levi&#x27;s Boys&#x27; 514 ...</td><td>0</td><td>0</td><td>null</td><td>Five Stars</td><td>2</td><td>Excellent for my ...</td><td>10</td></tr>\n",
       "<tr><td>48785098</td><td>B01EXNH1HE</td><td>R2GP65O1U9N7BP</td><td>Minimalist Wallet...</td><td>0</td><td>0</td><td>null</td><td>Love it!</td><td>2</td><td>Raw is the only w...</td><td>19</td></tr>\n",
       "<tr><td>39548589</td><td>B01E7OL09O</td><td>R3O29CT5MQQ3XQ</td><td>Harriton Men&#x27;s Ba...</td><td>0</td><td>0</td><td>null</td><td>Three Stars</td><td>2</td><td>A bit large.</td><td>3</td></tr>\n",
       "<tr><td>29355866</td><td>B01DXHX81O</td><td>R1ZECD2AA8QFF6</td><td>Jockey Women&#x27;s Un...</td><td>0</td><td>0</td><td>null</td><td>Five Stars</td><td>2</td><td>Great fit!</td><td>2</td></tr>\n",
       "<tr><td>27477484</td><td>B01DDULIJK</td><td>R2S79GCF6J89OA</td><td>Alexander Del Ros...</td><td>0</td><td>0</td><td>null</td><td>Not my favorite.</td><td>3</td><td>Shirt a bit too l...</td><td>38</td></tr>\n",
       "<tr><td>17685865</td><td>B01BOKOL4A</td><td>R1CBCUGNP37MPK</td><td>Jockey Women&#x27;s Un...</td><td>0</td><td>0</td><td>null</td><td>The Jockey Women&#x27;...</td><td>10</td><td>The Jockey Women&#x27;...</td><td>25</td></tr>\n",
       "<tr><td>19787539</td><td>B01B3Q4Q0O</td><td>R3NU4WUR5ZNV1V</td><td>Bali Passion For ...</td><td>0</td><td>0</td><td>null</td><td>Five Stars</td><td>2</td><td>cup size is just ...</td><td>21</td></tr>\n",
       "<tr><td>44196725</td><td>B01ADDSL9U</td><td>R32EPCJ3XF8LGE</td><td>Lilyette Women&#x27;s ...</td><td>0</td><td>0</td><td>null</td><td>Five Stars</td><td>2</td><td>Perfect...</td><td>1</td></tr>\n",
       "<tr><td>45510794</td><td>B019P1X5XI</td><td>R1XIBC6WQBW31M</td><td>Vanity Fair Women...</td><td>0</td><td>0</td><td>null</td><td>best ever4 for me...</td><td>9</td><td>best  ever4 for m...</td><td>60</td></tr>\n",
       "<tr><td>42025740</td><td>B019MDXIXG</td><td>R1P11MVDZ65LMH</td><td>Warner&#x27;s Women&#x27;s ...</td><td>0</td><td>0</td><td>null</td><td>Five Stars</td><td>2</td><td>Great fit.</td><td>2</td></tr>\n",
       "<tr><td>27097189</td><td>B019438FEG</td><td>R1OJA3DJL0VDDK</td><td>Columbia Women&#x27;s ...</td><td>0</td><td>0</td><td>null</td><td>Five Stars</td><td>2</td><td>I have this Colum...</td><td>13</td></tr>\n",
       "<tr><td>13808904</td><td>B0178HGNIA</td><td>R1THWA5YRJLOOF</td><td>Robes King RK Cla...</td><td>0</td><td>0</td><td>null</td><td>Four Stars</td><td>2</td><td>My husband found ...</td><td>12</td></tr>\n",
       "<tr><td>30225894</td><td>B016VIU0QI</td><td>R738LCNRSJVXP</td><td>VIV Collection Be...</td><td>6</td><td>7</td><td>0.86</td><td>Awesome leggings!</td><td>2</td><td>Awesome leggings!...</td><td>71</td></tr>\n",
       "<tr><td>45223824</td><td>B016PUU3VO</td><td>R1N3Z13931J3O9</td><td>Fruit of the Loom...</td><td>0</td><td>0</td><td>null</td><td>Sizes not correct...</td><td>10</td><td>I ordered the sam...</td><td>42</td></tr>\n",
       "<tr><td>22300783</td><td>B016AQNDM4</td><td>R1LBNTP7E8N89Z</td><td>Jockey Scrubs Wom...</td><td>0</td><td>0</td><td>null</td><td>One Star</td><td>2</td><td>not exact in sizing</td><td>4</td></tr>\n",
       "</table>\n",
       "only showing top 20 rows\n"
      ],
      "text/plain": [
       "+-----------+----------+--------------+--------------------+-------------+-----------+-----------+--------------------+-----------------------+--------------------+-------------------+\n",
       "|customer_id|product_id|     review_id|       product_title|helpful_votes|total_votes|helpfulness|     review_headline|review_headline_word_ct|         review_body|review_body_word_ct|\n",
       "+-----------+----------+--------------+--------------------+-------------+-----------+-----------+--------------------+-----------------------+--------------------+-------------------+\n",
       "|   32158956|B01KL6O72Y|R1KKOXHNI8MSXU|Easy Tool Stainle...|            0|          0|       null|★ THESE REALLY DO...|                     10|These Really Do W...|                573|\n",
       "|    2714559|B01ID3ZS5W|R26SP2OPDK4HT7|V28 Women Cowl Ne...|            1|          2|        0.5|Favorite for wint...|                      5|I love this dress...|                 70|\n",
       "|   12608825|B01I497BGY| RWQEDYAX373I1|James Fiallo Men'...|            0|          0|       null|Great Socks for t...|                      5|Nice socks, great...|                 15|\n",
       "|   25482800|B01HDXFZK6|R231YI7R4GPF6J|Belfry Gangster 1...|            0|          0|       null|          Slick hat!|                      2|I bought this for...|                 31|\n",
       "|    9310286|B01G6MBEBY|R3KO3W45DD0L1K|JAEDEN Women's Be...|            0|          0|       null|I would do it again!|                      5|Perfect dress and...|                  8|\n",
       "|   26631939|B01FWRXN0Y|R1C4QH63NFL5NJ|Levi's Boys' 514 ...|            0|          0|       null|          Five Stars|                      2|Excellent for my ...|                 10|\n",
       "|   48785098|B01EXNH1HE|R2GP65O1U9N7BP|Minimalist Wallet...|            0|          0|       null|            Love it!|                      2|Raw is the only w...|                 19|\n",
       "|   39548589|B01E7OL09O|R3O29CT5MQQ3XQ|Harriton Men's Ba...|            0|          0|       null|         Three Stars|                      2|        A bit large.|                  3|\n",
       "|   29355866|B01DXHX81O|R1ZECD2AA8QFF6|Jockey Women's Un...|            0|          0|       null|          Five Stars|                      2|          Great fit!|                  2|\n",
       "|   27477484|B01DDULIJK|R2S79GCF6J89OA|Alexander Del Ros...|            0|          0|       null|    Not my favorite.|                      3|Shirt a bit too l...|                 38|\n",
       "|   17685865|B01BOKOL4A|R1CBCUGNP37MPK|Jockey Women's Un...|            0|          0|       null|The Jockey Women'...|                     10|The Jockey Women'...|                 25|\n",
       "|   19787539|B01B3Q4Q0O|R3NU4WUR5ZNV1V|Bali Passion For ...|            0|          0|       null|          Five Stars|                      2|cup size is just ...|                 21|\n",
       "|   44196725|B01ADDSL9U|R32EPCJ3XF8LGE|Lilyette Women's ...|            0|          0|       null|          Five Stars|                      2|          Perfect...|                  1|\n",
       "|   45510794|B019P1X5XI|R1XIBC6WQBW31M|Vanity Fair Women...|            0|          0|       null|best ever4 for me...|                      9|best  ever4 for m...|                 60|\n",
       "|   42025740|B019MDXIXG|R1P11MVDZ65LMH|Warner's Women's ...|            0|          0|       null|          Five Stars|                      2|          Great fit.|                  2|\n",
       "|   27097189|B019438FEG|R1OJA3DJL0VDDK|Columbia Women's ...|            0|          0|       null|          Five Stars|                      2|I have this Colum...|                 13|\n",
       "|   13808904|B0178HGNIA|R1THWA5YRJLOOF|Robes King RK Cla...|            0|          0|       null|          Four Stars|                      2|My husband found ...|                 12|\n",
       "|   30225894|B016VIU0QI| R738LCNRSJVXP|VIV Collection Be...|            6|          7|       0.86|   Awesome leggings!|                      2|Awesome leggings!...|                 71|\n",
       "|   45223824|B016PUU3VO|R1N3Z13931J3O9|Fruit of the Loom...|            0|          0|       null|Sizes not correct...|                     10|I ordered the sam...|                 42|\n",
       "|   22300783|B016AQNDM4|R1LBNTP7E8N89Z|Jockey Scrubs Wom...|            0|          0|       null|            One Star|                      2| not exact in sizing|                  4|\n",
       "+-----------+----------+--------------+--------------------+-------------+-----------+-----------+--------------------+-----------------------+--------------------+-------------------+\n",
       "only showing top 20 rows"
      ]
     },
     "execution_count": 59,
     "metadata": {},
     "output_type": "execute_result"
    }
   ],
   "source": [
    "reviews_subset.cache()"
   ]
  },
  {
   "cell_type": "markdown",
   "metadata": {},
   "source": [
    "**Top 10 reviews in terms of number of helpful votes.**"
   ]
  },
  {
   "cell_type": "code",
   "execution_count": null,
   "metadata": {},
   "outputs": [
    {
     "data": {
      "text/html": [
       "<table border='1'>\n",
       "<tr><th>review_id</th><th>product_title</th><th>helpful_votes</th><th>total_votes</th><th>helpfulness</th></tr>\n",
       "<tr><td>R3R24QH3CDS83N</td><td>Kindle: Amazon&#x27;s ...</td><td>47524</td><td>48362</td><td>0.98</td></tr>\n",
       "<tr><td>R19XO9PS38WRWO</td><td>BIC Cristal For H...</td><td>41393</td><td>41866</td><td>0.99</td></tr>\n",
       "<tr><td>R2XKMDXZHQ26YX</td><td>The Mountain Kids...</td><td>41278</td><td>41889</td><td>0.99</td></tr>\n",
       "<tr><td>R2YVZNKUMWGYJ4</td><td>Kindle Keyboard 3...</td><td>31924</td><td>32373</td><td>0.99</td></tr>\n",
       "<tr><td>R1PL1U31XQG8KG</td><td>Kindle Fire HD 7&quot;...</td><td>31417</td><td>32166</td><td>0.98</td></tr>\n",
       "<tr><td>RBUNL9QWDYTD7</td><td>Kindle Fire (Prev...</td><td>28611</td><td>29433</td><td>0.97</td></tr>\n",
       "<tr><td>R2JF7E91JJVHAT</td><td>Fifty Shades of G...</td><td>27550</td><td>28727</td><td>0.96</td></tr>\n",
       "<tr><td>R3PG4OX6C5KVN4</td><td>Wheelmate Laptop ...</td><td>26132</td><td>26382</td><td>0.99</td></tr>\n",
       "<tr><td>RV0R3AODMRNJZ</td><td>Kindle Wireless R...</td><td>24714</td><td>26143</td><td>0.95</td></tr>\n",
       "<tr><td>RXXPVOUH9NLL3</td><td>Tuscan Dairy Whol...</td><td>23755</td><td>24170</td><td>0.98</td></tr>\n",
       "</table>\n"
      ],
      "text/plain": [
       "+--------------+--------------------+-------------+-----------+-----------+\n",
       "|     review_id|       product_title|helpful_votes|total_votes|helpfulness|\n",
       "+--------------+--------------------+-------------+-----------+-----------+\n",
       "|R3R24QH3CDS83N|Kindle: Amazon's ...|        47524|      48362|       0.98|\n",
       "|R19XO9PS38WRWO|BIC Cristal For H...|        41393|      41866|       0.99|\n",
       "|R2XKMDXZHQ26YX|The Mountain Kids...|        41278|      41889|       0.99|\n",
       "|R2YVZNKUMWGYJ4|Kindle Keyboard 3...|        31924|      32373|       0.99|\n",
       "|R1PL1U31XQG8KG|Kindle Fire HD 7\"...|        31417|      32166|       0.98|\n",
       "| RBUNL9QWDYTD7|Kindle Fire (Prev...|        28611|      29433|       0.97|\n",
       "|R2JF7E91JJVHAT|Fifty Shades of G...|        27550|      28727|       0.96|\n",
       "|R3PG4OX6C5KVN4|Wheelmate Laptop ...|        26132|      26382|       0.99|\n",
       "| RV0R3AODMRNJZ|Kindle Wireless R...|        24714|      26143|       0.95|\n",
       "| RXXPVOUH9NLL3|Tuscan Dairy Whol...|        23755|      24170|       0.98|\n",
       "+--------------+--------------------+-------------+-----------+-----------+"
      ]
     },
     "execution_count": 60,
     "metadata": {},
     "output_type": "execute_result"
    }
   ],
   "source": [
    "reviews_subset.select(['review_id', 'product_title', 'helpful_votes', 'total_votes', 'helpfulness']).orderBy('helpful_votes', ascending=False).limit(10)"
   ]
  },
  {
   "cell_type": "markdown",
   "metadata": {},
   "source": [
    "**Top 10 reviews in terms of number of total votes.**"
   ]
  },
  {
   "cell_type": "code",
   "execution_count": 61,
   "metadata": {},
   "outputs": [
    {
     "data": {
      "text/html": [
       "<table border='1'>\n",
       "<tr><th>review_id</th><th>product_title</th><th>helpful_votes</th><th>total_votes</th><th>helpfulness</th></tr>\n",
       "<tr><td>R3R24QH3CDS83N</td><td>Kindle: Amazon&#x27;s ...</td><td>47524</td><td>48362</td><td>0.98</td></tr>\n",
       "<tr><td>R2XKMDXZHQ26YX</td><td>The Mountain Kids...</td><td>41278</td><td>41889</td><td>0.99</td></tr>\n",
       "<tr><td>R19XO9PS38WRWO</td><td>BIC Cristal For H...</td><td>41393</td><td>41866</td><td>0.99</td></tr>\n",
       "<tr><td>R2YVZNKUMWGYJ4</td><td>Kindle Keyboard 3...</td><td>31924</td><td>32373</td><td>0.99</td></tr>\n",
       "<tr><td>R1PL1U31XQG8KG</td><td>Kindle Fire HD 7&quot;...</td><td>31417</td><td>32166</td><td>0.98</td></tr>\n",
       "<tr><td>RBUNL9QWDYTD7</td><td>Kindle Fire (Prev...</td><td>28611</td><td>29433</td><td>0.97</td></tr>\n",
       "<tr><td>R2JF7E91JJVHAT</td><td>Fifty Shades of G...</td><td>27550</td><td>28727</td><td>0.96</td></tr>\n",
       "<tr><td>R3PG4OX6C5KVN4</td><td>Wheelmate Laptop ...</td><td>26132</td><td>26382</td><td>0.99</td></tr>\n",
       "<tr><td>RV0R3AODMRNJZ</td><td>Kindle Wireless R...</td><td>24714</td><td>26143</td><td>0.95</td></tr>\n",
       "<tr><td>RXXPVOUH9NLL3</td><td>Tuscan Dairy Whol...</td><td>23755</td><td>24170</td><td>0.98</td></tr>\n",
       "</table>\n"
      ],
      "text/plain": [
       "+--------------+--------------------+-------------+-----------+-----------+\n",
       "|     review_id|       product_title|helpful_votes|total_votes|helpfulness|\n",
       "+--------------+--------------------+-------------+-----------+-----------+\n",
       "|R3R24QH3CDS83N|Kindle: Amazon's ...|        47524|      48362|       0.98|\n",
       "|R2XKMDXZHQ26YX|The Mountain Kids...|        41278|      41889|       0.99|\n",
       "|R19XO9PS38WRWO|BIC Cristal For H...|        41393|      41866|       0.99|\n",
       "|R2YVZNKUMWGYJ4|Kindle Keyboard 3...|        31924|      32373|       0.99|\n",
       "|R1PL1U31XQG8KG|Kindle Fire HD 7\"...|        31417|      32166|       0.98|\n",
       "| RBUNL9QWDYTD7|Kindle Fire (Prev...|        28611|      29433|       0.97|\n",
       "|R2JF7E91JJVHAT|Fifty Shades of G...|        27550|      28727|       0.96|\n",
       "|R3PG4OX6C5KVN4|Wheelmate Laptop ...|        26132|      26382|       0.99|\n",
       "| RV0R3AODMRNJZ|Kindle Wireless R...|        24714|      26143|       0.95|\n",
       "| RXXPVOUH9NLL3|Tuscan Dairy Whol...|        23755|      24170|       0.98|\n",
       "+--------------+--------------------+-------------+-----------+-----------+"
      ]
     },
     "execution_count": 61,
     "metadata": {},
     "output_type": "execute_result"
    }
   ],
   "source": [
    "reviews_subset.select(['review_id', 'product_title', 'helpful_votes', 'total_votes', 'helpfulness']).orderBy('total_votes', ascending=False).limit(10)"
   ]
  },
  {
   "cell_type": "markdown",
   "metadata": {},
   "source": [
    "The two lists above indicate that these reviews are also very helpful, because they all have greater than 95% helpful votes."
   ]
  },
  {
   "cell_type": "markdown",
   "metadata": {},
   "source": [
    "**Correlation analysis between helpfulness and word count.**"
   ]
  },
  {
   "cell_type": "code",
   "execution_count": 63,
   "metadata": {},
   "outputs": [],
   "source": [
    "reviews_subset_no_nulls = reviews_subset.\\\n",
    "filter(reviews_subset.helpfulness.isNotNull()).\\\n",
    "select(['helpful_votes', 'total_votes', 'helpfulness', 'review_headline_word_ct', 'review_body_word_ct'])"
   ]
  },
  {
   "cell_type": "code",
   "execution_count": 64,
   "metadata": {},
   "outputs": [],
   "source": [
    "reviews_subset.unpersist();"
   ]
  },
  {
   "cell_type": "code",
   "execution_count": 65,
   "metadata": {},
   "outputs": [
    {
     "data": {
      "text/html": [
       "<table border='1'>\n",
       "<tr><th>helpful_votes</th><th>total_votes</th><th>helpfulness</th><th>review_headline_word_ct</th><th>review_body_word_ct</th></tr>\n",
       "<tr><td>1</td><td>2</td><td>0.5</td><td>5</td><td>70</td></tr>\n",
       "<tr><td>6</td><td>7</td><td>0.86</td><td>2</td><td>71</td></tr>\n",
       "<tr><td>3</td><td>5</td><td>0.6</td><td>3</td><td>164</td></tr>\n",
       "<tr><td>3</td><td>4</td><td>0.75</td><td>2</td><td>10</td></tr>\n",
       "<tr><td>1</td><td>1</td><td>1.0</td><td>6</td><td>199</td></tr>\n",
       "<tr><td>1</td><td>1</td><td>1.0</td><td>2</td><td>6</td></tr>\n",
       "<tr><td>1</td><td>1</td><td>1.0</td><td>1</td><td>38</td></tr>\n",
       "<tr><td>2</td><td>3</td><td>0.67</td><td>2</td><td>12</td></tr>\n",
       "<tr><td>1</td><td>2</td><td>0.5</td><td>2</td><td>11</td></tr>\n",
       "<tr><td>1</td><td>1</td><td>1.0</td><td>10</td><td>53</td></tr>\n",
       "<tr><td>3</td><td>3</td><td>1.0</td><td>5</td><td>40</td></tr>\n",
       "<tr><td>3</td><td>3</td><td>1.0</td><td>2</td><td>17</td></tr>\n",
       "<tr><td>1</td><td>1</td><td>1.0</td><td>10</td><td>22</td></tr>\n",
       "<tr><td>0</td><td>1</td><td>0.0</td><td>2</td><td>2</td></tr>\n",
       "<tr><td>7</td><td>7</td><td>1.0</td><td>6</td><td>10</td></tr>\n",
       "<tr><td>1</td><td>1</td><td>1.0</td><td>4</td><td>35</td></tr>\n",
       "<tr><td>4</td><td>4</td><td>1.0</td><td>2</td><td>6</td></tr>\n",
       "<tr><td>1</td><td>1</td><td>1.0</td><td>8</td><td>82</td></tr>\n",
       "<tr><td>2</td><td>3</td><td>0.67</td><td>2</td><td>59</td></tr>\n",
       "<tr><td>3</td><td>4</td><td>0.75</td><td>5</td><td>91</td></tr>\n",
       "</table>\n",
       "only showing top 20 rows\n"
      ],
      "text/plain": [
       "+-------------+-----------+-----------+-----------------------+-------------------+\n",
       "|helpful_votes|total_votes|helpfulness|review_headline_word_ct|review_body_word_ct|\n",
       "+-------------+-----------+-----------+-----------------------+-------------------+\n",
       "|            1|          2|        0.5|                      5|                 70|\n",
       "|            6|          7|       0.86|                      2|                 71|\n",
       "|            3|          5|        0.6|                      3|                164|\n",
       "|            3|          4|       0.75|                      2|                 10|\n",
       "|            1|          1|        1.0|                      6|                199|\n",
       "|            1|          1|        1.0|                      2|                  6|\n",
       "|            1|          1|        1.0|                      1|                 38|\n",
       "|            2|          3|       0.67|                      2|                 12|\n",
       "|            1|          2|        0.5|                      2|                 11|\n",
       "|            1|          1|        1.0|                     10|                 53|\n",
       "|            3|          3|        1.0|                      5|                 40|\n",
       "|            3|          3|        1.0|                      2|                 17|\n",
       "|            1|          1|        1.0|                     10|                 22|\n",
       "|            0|          1|        0.0|                      2|                  2|\n",
       "|            7|          7|        1.0|                      6|                 10|\n",
       "|            1|          1|        1.0|                      4|                 35|\n",
       "|            4|          4|        1.0|                      2|                  6|\n",
       "|            1|          1|        1.0|                      8|                 82|\n",
       "|            2|          3|       0.67|                      2|                 59|\n",
       "|            3|          4|       0.75|                      5|                 91|\n",
       "+-------------+-----------+-----------+-----------------------+-------------------+\n",
       "only showing top 20 rows"
      ]
     },
     "execution_count": 65,
     "metadata": {},
     "output_type": "execute_result"
    }
   ],
   "source": [
    "reviews_subset_no_nulls.cache()"
   ]
  },
  {
   "cell_type": "markdown",
   "metadata": {},
   "source": [
    "For the correlation between word length and helpfulness, I consulted the this [StackOverflow post](https://stackoverflow.com/questions/52214404/how-to-get-the-correlation-matrix-of-a-pyspark-data-frame) which suggested using the Correlation function from pyspark.ml.stat module."
   ]
  },
  {
   "cell_type": "code",
   "execution_count": 66,
   "metadata": {},
   "outputs": [],
   "source": [
    "from pyspark.ml.stat import Correlation\n",
    "from pyspark.ml.feature import VectorAssembler"
   ]
  },
  {
   "cell_type": "code",
   "execution_count": 67,
   "metadata": {},
   "outputs": [],
   "source": [
    "# convert to vector column first\n",
    "vector_col = \"corr_features\"\n",
    "assembler = VectorAssembler(inputCols=reviews_subset_no_nulls.columns, outputCol=vector_col)\n",
    "df_vector = assembler.transform(reviews_subset_no_nulls).select(vector_col)\n",
    "\n",
    "# get correlation matrix\n",
    "matrix = Correlation.corr(df_vector, vector_col)"
   ]
  },
  {
   "cell_type": "code",
   "execution_count": 69,
   "metadata": {},
   "outputs": [
    {
     "data": {
      "text/plain": [
       "array([1.        , 0.98460412, 0.06578821, 0.02054965, 0.12789176,\n",
       "       0.98460412, 1.        , 0.02384571, 0.02045696, 0.13097519,\n",
       "       0.06578821, 0.02384571, 1.        , 0.04768109, 0.11659838,\n",
       "       0.02054965, 0.02045696, 0.04768109, 1.        , 0.14198094,\n",
       "       0.12789176, 0.13097519, 0.11659838, 0.14198094, 1.        ])"
      ]
     },
     "execution_count": 69,
     "metadata": {},
     "output_type": "execute_result"
    }
   ],
   "source": [
    "matrix.collect()[0][\"pearson({})\".format(vector_col)].values"
   ]
  },
  {
   "cell_type": "markdown",
   "metadata": {},
   "source": [
    "column order: helpful_votes,total_votes,helpfulness,review_headline_word_ct,review_body_word_ct\n",
    "                       1        2           3             4                       5 "
   ]
  },
  {
   "cell_type": "markdown",
   "metadata": {},
   "source": [
    "Unsurprisingly, the number of helpful votes is strongly correlated with the number of total votes. Beyond this, however, the Pearson correlations are very low.\n",
    "<br>\n",
    "<br>\n",
    "If we look at rows 4 and 5 of the matrix, and the first 3 columns, we see that the correlations of vote tally and helpfulness metric with word count in the review headline is very low. In row 5, we see slightly higher correlation, but not larger than 0.13.\n",
    "<br>\n",
    "<br>\n",
    "The word count of review headline also does not appear to be strongly correlated with word count of review body. "
   ]
  },
  {
   "cell_type": "markdown",
   "metadata": {},
   "source": [
    "**Correlation between number of reviews per customer and helpfulness.**"
   ]
  },
  {
   "cell_type": "code",
   "execution_count": 70,
   "metadata": {},
   "outputs": [],
   "source": [
    "reviews_subset_no_nulls.unpersist();"
   ]
  },
  {
   "cell_type": "markdown",
   "metadata": {},
   "source": [
    "Let's restrict our consideration to only reviews where helpfulness score is not null and total votes is greater than 0."
   ]
  },
  {
   "cell_type": "code",
   "execution_count": 72,
   "metadata": {},
   "outputs": [],
   "source": [
    "reviews_by_customer.unpersist();"
   ]
  },
  {
   "cell_type": "code",
   "execution_count": 73,
   "metadata": {},
   "outputs": [
    {
     "data": {
      "text/html": [
       "<table border='1'>\n",
       "<tr><th>customer_id</th><th>review_id</th><th>helpful_votes</th><th>total_votes</th><th>helpfulness</th></tr>\n",
       "<tr><td>2714559</td><td>R26SP2OPDK4HT7</td><td>1</td><td>2</td><td>0.5</td></tr>\n",
       "<tr><td>30225894</td><td>R738LCNRSJVXP</td><td>6</td><td>7</td><td>0.86</td></tr>\n",
       "<tr><td>48401445</td><td>R23AXPXH0CUCTZ</td><td>3</td><td>5</td><td>0.6</td></tr>\n",
       "<tr><td>502031</td><td>R3DYA1XAAIV459</td><td>3</td><td>4</td><td>0.75</td></tr>\n",
       "<tr><td>10927125</td><td>R3J8AIC44NREJW</td><td>1</td><td>1</td><td>1.0</td></tr>\n",
       "<tr><td>13414752</td><td>ROF5PF9IKYOHJ</td><td>1</td><td>1</td><td>1.0</td></tr>\n",
       "<tr><td>3348867</td><td>R1POXQDVEQ2KF2</td><td>1</td><td>1</td><td>1.0</td></tr>\n",
       "<tr><td>10012042</td><td>R1H977N2YSYWU5</td><td>2</td><td>3</td><td>0.67</td></tr>\n",
       "<tr><td>6291789</td><td>R33HFP9HM76ARW</td><td>1</td><td>2</td><td>0.5</td></tr>\n",
       "<tr><td>5836158</td><td>RIIIRR460TAO4</td><td>1</td><td>1</td><td>1.0</td></tr>\n",
       "<tr><td>5836158</td><td>RH2ZBOTD7SZ56</td><td>3</td><td>3</td><td>1.0</td></tr>\n",
       "<tr><td>26780399</td><td>RKM19EKA7C0UF</td><td>3</td><td>3</td><td>1.0</td></tr>\n",
       "<tr><td>21627160</td><td>RDC0XHAGALX6Q</td><td>1</td><td>1</td><td>1.0</td></tr>\n",
       "<tr><td>116651</td><td>RZ5GGNDPWNSZZ</td><td>0</td><td>1</td><td>0.0</td></tr>\n",
       "<tr><td>7630459</td><td>R1JQ6TG1FDF79Z</td><td>7</td><td>7</td><td>1.0</td></tr>\n",
       "<tr><td>11856874</td><td>R2G2Y4FMY24134</td><td>1</td><td>1</td><td>1.0</td></tr>\n",
       "<tr><td>243037</td><td>REBZHFU331K2L</td><td>4</td><td>4</td><td>1.0</td></tr>\n",
       "<tr><td>20883673</td><td>R2MEW40TDYP17J</td><td>1</td><td>1</td><td>1.0</td></tr>\n",
       "<tr><td>38786113</td><td>R2SFUA5H8ILNJ9</td><td>2</td><td>3</td><td>0.67</td></tr>\n",
       "<tr><td>37626939</td><td>R30GXTUD8Q1H6B</td><td>3</td><td>4</td><td>0.75</td></tr>\n",
       "</table>\n",
       "only showing top 20 rows\n"
      ],
      "text/plain": [
       "+-----------+--------------+-------------+-----------+-----------+\n",
       "|customer_id|     review_id|helpful_votes|total_votes|helpfulness|\n",
       "+-----------+--------------+-------------+-----------+-----------+\n",
       "|    2714559|R26SP2OPDK4HT7|            1|          2|        0.5|\n",
       "|   30225894| R738LCNRSJVXP|            6|          7|       0.86|\n",
       "|   48401445|R23AXPXH0CUCTZ|            3|          5|        0.6|\n",
       "|     502031|R3DYA1XAAIV459|            3|          4|       0.75|\n",
       "|   10927125|R3J8AIC44NREJW|            1|          1|        1.0|\n",
       "|   13414752| ROF5PF9IKYOHJ|            1|          1|        1.0|\n",
       "|    3348867|R1POXQDVEQ2KF2|            1|          1|        1.0|\n",
       "|   10012042|R1H977N2YSYWU5|            2|          3|       0.67|\n",
       "|    6291789|R33HFP9HM76ARW|            1|          2|        0.5|\n",
       "|    5836158| RIIIRR460TAO4|            1|          1|        1.0|\n",
       "|    5836158| RH2ZBOTD7SZ56|            3|          3|        1.0|\n",
       "|   26780399| RKM19EKA7C0UF|            3|          3|        1.0|\n",
       "|   21627160| RDC0XHAGALX6Q|            1|          1|        1.0|\n",
       "|     116651| RZ5GGNDPWNSZZ|            0|          1|        0.0|\n",
       "|    7630459|R1JQ6TG1FDF79Z|            7|          7|        1.0|\n",
       "|   11856874|R2G2Y4FMY24134|            1|          1|        1.0|\n",
       "|     243037| REBZHFU331K2L|            4|          4|        1.0|\n",
       "|   20883673|R2MEW40TDYP17J|            1|          1|        1.0|\n",
       "|   38786113|R2SFUA5H8ILNJ9|            2|          3|       0.67|\n",
       "|   37626939|R30GXTUD8Q1H6B|            3|          4|       0.75|\n",
       "+-----------+--------------+-------------+-----------+-----------+\n",
       "only showing top 20 rows"
      ]
     },
     "execution_count": 73,
     "metadata": {},
     "output_type": "execute_result"
    }
   ],
   "source": [
    "reviews_by_customer = reviews_subset.\\\n",
    "filter(reviews_subset.helpfulness.isNotNull() & (reviews_subset.total_votes > 0) ).\\\n",
    "select(['customer_id', 'review_id', 'helpful_votes', 'total_votes', 'helpfulness'])\n",
    "\n",
    "reviews_by_customer.cache()"
   ]
  },
  {
   "cell_type": "code",
   "execution_count": 77,
   "metadata": {},
   "outputs": [],
   "source": [
    "reviews_by_customer_grouped = reviews_by_customer.\\\n",
    "groupby('customer_id').\\\n",
    "agg(count('review_id').alias('num_reviews'),\n",
    "    mean('helpful_votes').alias('avg_helpful_votes'),\n",
    "    mean('total_votes').alias('avg_total_votes'),\n",
    "    mean('helpfulness').alias('avg_helpfulness')).\\\n",
    "orderBy('num_reviews', ascending=False)"
   ]
  },
  {
   "cell_type": "code",
   "execution_count": 78,
   "metadata": {},
   "outputs": [
    {
     "data": {
      "text/html": [
       "<table border='1'>\n",
       "<tr><th>customer_id</th><th>num_reviews</th><th>avg_helpful_votes</th><th>avg_total_votes</th><th>avg_helpfulness</th></tr>\n",
       "<tr><td>50122160</td><td>48834</td><td>5.319408608756194</td><td>6.382151779497891</td><td>0.826927345701765</td></tr>\n",
       "<tr><td>50732546</td><td>27923</td><td>4.364359130465924</td><td>5.807900297245998</td><td>0.738731869784765</td></tr>\n",
       "<tr><td>52496677</td><td>14102</td><td>6.6404765281520355</td><td>7.555524039143384</td><td>0.8851737342220961</td></tr>\n",
       "<tr><td>18116317</td><td>8591</td><td>3.243161448027005</td><td>3.514142707484577</td><td>0.9439809102549178</td></tr>\n",
       "<tr><td>50736950</td><td>7506</td><td>2.694111377564615</td><td>5.670263788968825</td><td>0.5768824940047965</td></tr>\n",
       "</table>\n"
      ],
      "text/plain": [
       "+-----------+-----------+------------------+-----------------+------------------+\n",
       "|customer_id|num_reviews| avg_helpful_votes|  avg_total_votes|   avg_helpfulness|\n",
       "+-----------+-----------+------------------+-----------------+------------------+\n",
       "|   50122160|      48834| 5.319408608756194|6.382151779497891| 0.826927345701765|\n",
       "|   50732546|      27923| 4.364359130465924|5.807900297245998| 0.738731869784765|\n",
       "|   52496677|      14102|6.6404765281520355|7.555524039143384|0.8851737342220958|\n",
       "|   18116317|       8591| 3.243161448027005|3.514142707484577|0.9439809102549176|\n",
       "|   50736950|       7506| 2.694111377564615|5.670263788968825|0.5768824940047963|\n",
       "+-----------+-----------+------------------+-----------------+------------------+"
      ]
     },
     "execution_count": 78,
     "metadata": {},
     "output_type": "execute_result"
    }
   ],
   "source": [
    "reviews_by_customer_grouped.limit(5)"
   ]
  },
  {
   "cell_type": "markdown",
   "metadata": {},
   "source": [
    "Who has time to leave 50,000 product reviews?\n",
    "Anyway, repeat correlation matrix computation."
   ]
  },
  {
   "cell_type": "code",
   "execution_count": 79,
   "metadata": {},
   "outputs": [],
   "source": [
    "reviews_df_corr = reviews_by_customer_grouped.select(['num_reviews', 'avg_helpful_votes', 'avg_total_votes', 'avg_helpfulness'])"
   ]
  },
  {
   "cell_type": "code",
   "execution_count": 80,
   "metadata": {},
   "outputs": [],
   "source": [
    "# convert to vector column first\n",
    "vector_col = \"corr_features\"\n",
    "assembler = VectorAssembler(inputCols=reviews_df_corr.columns, outputCol=vector_col)\n",
    "df_vector = assembler.transform(reviews_df_corr).select(vector_col)\n",
    "\n",
    "# get correlation matrix\n",
    "matrix = Correlation.corr(df_vector, vector_col)"
   ]
  },
  {
   "cell_type": "code",
   "execution_count": 84,
   "metadata": {},
   "outputs": [
    {
     "data": {
      "text/plain": [
       "array([1.        , 0.00480009, 0.00393345, 0.01046357, 0.00480009,\n",
       "       1.        , 0.97402148, 0.08097476, 0.00393345, 0.97402148,\n",
       "       1.        , 0.02268946, 0.01046357, 0.08097476, 0.02268946,\n",
       "       1.        ])"
      ]
     },
     "execution_count": 84,
     "metadata": {},
     "output_type": "execute_result"
    }
   ],
   "source": [
    "matrix.collect()[0][\"pearson({})\".format(vector_col)].values"
   ]
  },
  {
   "cell_type": "markdown",
   "metadata": {},
   "source": [
    "For some reason the correlation matrix output is different than it was in previous use. However, there appears to be low values across the matrix. My assumption is that the 0.97 value is for correlation between average number of helpful votes and average number of total votes across all reviews for given customer. **No evident correlation between number of reviews and helpfulness.**"
   ]
  }
 ],
 "metadata": {
  "kernelspec": {
   "display_name": "Python 3",
   "language": "python",
   "name": "python3"
  },
  "language_info": {
   "codemirror_mode": {
    "name": "ipython",
    "version": 3
   },
   "file_extension": ".py",
   "mimetype": "text/x-python",
   "name": "python",
   "nbconvert_exporter": "python",
   "pygments_lexer": "ipython3",
   "version": "3.7.4"
  }
 },
 "nbformat": 4,
 "nbformat_minor": 4
}
