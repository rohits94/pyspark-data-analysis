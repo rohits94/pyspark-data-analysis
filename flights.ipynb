{
 "cells": [
  {
   "cell_type": "markdown",
   "metadata": {},
   "source": [
    "## MSCA 31013: Big Data Platforms\n",
    "### Assignment 5\n",
    "### 2/15/2021"
   ]
  },
  {
   "cell_type": "code",
   "execution_count": 1,
   "metadata": {},
   "outputs": [
    {
     "name": "stdout",
     "output_type": "stream",
     "text": [
      "2.4.0-cdh6.3.0\n"
     ]
    }
   ],
   "source": [
    "print(sc.version)"
   ]
  },
  {
   "cell_type": "code",
   "execution_count": 2,
   "metadata": {},
   "outputs": [],
   "source": [
    "import os\n",
    "from pyspark.sql.functions import *\n",
    "from pyspark.sql.types import *\n",
    "\n",
    "%matplotlib inline\n",
    "import pandas as pd\n",
    "import matplotlib.pyplot as plt"
   ]
  },
  {
   "cell_type": "code",
   "execution_count": 4,
   "metadata": {},
   "outputs": [
    {
     "name": "stdout",
     "output_type": "stream",
     "text": [
      "total 1359712\r\n",
      "-rwxr-xr-x 1 kadochnikov kadochnikov 702878193 Nov  4  2016 2007.csv\r\n",
      "-rwxr-xr-x 1 kadochnikov kadochnikov 689413344 Nov  4  2016 2008.csv\r\n"
     ]
    }
   ],
   "source": [
    "!ls -l \"/project2/msca/kadochnikov/data/air_travel\""
   ]
  },
  {
   "cell_type": "code",
   "execution_count": 3,
   "metadata": {},
   "outputs": [],
   "source": [
    "path = \"file:///project2/msca/kadochnikov/data/air_travel/\""
   ]
  },
  {
   "cell_type": "markdown",
   "metadata": {},
   "source": [
    "**Read in both CSV files as Spark dataframes**"
   ]
  },
  {
   "cell_type": "code",
   "execution_count": 4,
   "metadata": {},
   "outputs": [],
   "source": [
    "spark.conf.set(\"spark.sql.repl.eagerEval.enabled\", True)"
   ]
  },
  {
   "cell_type": "code",
   "execution_count": 5,
   "metadata": {},
   "outputs": [],
   "source": [
    "flights_2007 = spark.read.format('com.databricks.spark.csv').\\\n",
    "options(header='true', inferschema='true', delimiter=',', quote='\"').\\\n",
    "load(path + '2007.csv')"
   ]
  },
  {
   "cell_type": "code",
   "execution_count": 7,
   "metadata": {},
   "outputs": [],
   "source": [
    "flights_2008 = spark.read.format('com.databricks.spark.csv').\\\n",
    "options(header='true', inferschema='true', delimiter=',', quote='\"').\\\n",
    "load(path + '2008.csv')"
   ]
  },
  {
   "cell_type": "code",
   "execution_count": 9,
   "metadata": {},
   "outputs": [
    {
     "data": {
      "text/plain": [
       "pyspark.sql.dataframe.DataFrame"
      ]
     },
     "execution_count": 9,
     "metadata": {},
     "output_type": "execute_result"
    }
   ],
   "source": [
    "type(flights_2007)"
   ]
  },
  {
   "cell_type": "code",
   "execution_count": 10,
   "metadata": {},
   "outputs": [
    {
     "data": {
      "text/plain": [
       "pyspark.sql.dataframe.DataFrame"
      ]
     },
     "execution_count": 10,
     "metadata": {},
     "output_type": "execute_result"
    }
   ],
   "source": [
    "type(flights_2008)"
   ]
  },
  {
   "cell_type": "markdown",
   "metadata": {},
   "source": [
    "**Inspect dataframes**"
   ]
  },
  {
   "cell_type": "code",
   "execution_count": 11,
   "metadata": {},
   "outputs": [
    {
     "data": {
      "text/plain": [
       "7453215"
      ]
     },
     "execution_count": 11,
     "metadata": {},
     "output_type": "execute_result"
    }
   ],
   "source": [
    "flights_2007.count()"
   ]
  },
  {
   "cell_type": "code",
   "execution_count": 12,
   "metadata": {},
   "outputs": [
    {
     "data": {
      "text/plain": [
       "7009728"
      ]
     },
     "execution_count": 12,
     "metadata": {},
     "output_type": "execute_result"
    }
   ],
   "source": [
    "flights_2008.count()"
   ]
  },
  {
   "cell_type": "code",
   "execution_count": 13,
   "metadata": {},
   "outputs": [
    {
     "name": "stdout",
     "output_type": "stream",
     "text": [
      "root\n",
      " |-- Year: integer (nullable = true)\n",
      " |-- Month: integer (nullable = true)\n",
      " |-- DayofMonth: integer (nullable = true)\n",
      " |-- DayOfWeek: integer (nullable = true)\n",
      " |-- DepTime: string (nullable = true)\n",
      " |-- CRSDepTime: integer (nullable = true)\n",
      " |-- ArrTime: string (nullable = true)\n",
      " |-- CRSArrTime: integer (nullable = true)\n",
      " |-- UniqueCarrier: string (nullable = true)\n",
      " |-- FlightNum: integer (nullable = true)\n",
      " |-- TailNum: string (nullable = true)\n",
      " |-- ActualElapsedTime: string (nullable = true)\n",
      " |-- CRSElapsedTime: string (nullable = true)\n",
      " |-- AirTime: string (nullable = true)\n",
      " |-- ArrDelay: string (nullable = true)\n",
      " |-- DepDelay: string (nullable = true)\n",
      " |-- Origin: string (nullable = true)\n",
      " |-- Dest: string (nullable = true)\n",
      " |-- Distance: integer (nullable = true)\n",
      " |-- TaxiIn: integer (nullable = true)\n",
      " |-- TaxiOut: integer (nullable = true)\n",
      " |-- Cancelled: integer (nullable = true)\n",
      " |-- CancellationCode: string (nullable = true)\n",
      " |-- Diverted: integer (nullable = true)\n",
      " |-- CarrierDelay: integer (nullable = true)\n",
      " |-- WeatherDelay: integer (nullable = true)\n",
      " |-- NASDelay: integer (nullable = true)\n",
      " |-- SecurityDelay: integer (nullable = true)\n",
      " |-- LateAircraftDelay: integer (nullable = true)\n",
      "\n"
     ]
    }
   ],
   "source": [
    "flights_2007.printSchema()"
   ]
  },
  {
   "cell_type": "markdown",
   "metadata": {},
   "source": [
    "Inspect first 5 rows of each dataframe."
   ]
  },
  {
   "cell_type": "code",
   "execution_count": 14,
   "metadata": {},
   "outputs": [
    {
     "data": {
      "text/html": [
       "<table border='1'>\n",
       "<tr><th>Year</th><th>Month</th><th>DayofMonth</th><th>DayOfWeek</th><th>DepTime</th><th>CRSDepTime</th><th>ArrTime</th><th>CRSArrTime</th><th>UniqueCarrier</th><th>FlightNum</th><th>TailNum</th><th>ActualElapsedTime</th><th>CRSElapsedTime</th><th>AirTime</th><th>ArrDelay</th><th>DepDelay</th><th>Origin</th><th>Dest</th><th>Distance</th><th>TaxiIn</th><th>TaxiOut</th><th>Cancelled</th><th>CancellationCode</th><th>Diverted</th><th>CarrierDelay</th><th>WeatherDelay</th><th>NASDelay</th><th>SecurityDelay</th><th>LateAircraftDelay</th></tr>\n",
       "<tr><td>2007</td><td>11</td><td>3</td><td>6</td><td>1514</td><td>1518</td><td>1626</td><td>1629</td><td>DL</td><td>1806</td><td>N902DA</td><td>132</td><td>131</td><td>110</td><td>-3</td><td>-4</td><td>SLC</td><td>SEA</td><td>689</td><td>7</td><td>15</td><td>0</td><td>null</td><td>0</td><td>0</td><td>0</td><td>0</td><td>0</td><td>0</td></tr>\n",
       "<tr><td>2007</td><td>11</td><td>3</td><td>6</td><td>738</td><td>740</td><td>1034</td><td>1043</td><td>DL</td><td>1807</td><td>N968DL</td><td>176</td><td>183</td><td>149</td><td>-9</td><td>-2</td><td>LGA</td><td>TPA</td><td>1011</td><td>5</td><td>22</td><td>0</td><td>null</td><td>0</td><td>0</td><td>0</td><td>0</td><td>0</td><td>0</td></tr>\n",
       "<tr><td>2007</td><td>11</td><td>3</td><td>6</td><td>653</td><td>700</td><td>933</td><td>952</td><td>DL</td><td>1808</td><td>N399DA</td><td>340</td><td>352</td><td>319</td><td>-19</td><td>-7</td><td>FLL</td><td>LAX</td><td>2342</td><td>10</td><td>11</td><td>0</td><td>null</td><td>0</td><td>0</td><td>0</td><td>0</td><td>0</td><td>0</td></tr>\n",
       "<tr><td>2007</td><td>11</td><td>3</td><td>6</td><td>747</td><td>751</td><td>922</td><td>932</td><td>DL</td><td>1809</td><td>N948DL</td><td>95</td><td>101</td><td>74</td><td>-10</td><td>-4</td><td>ATL</td><td>RSW</td><td>515</td><td>5</td><td>16</td><td>0</td><td>null</td><td>0</td><td>0</td><td>0</td><td>0</td><td>0</td><td>0</td></tr>\n",
       "<tr><td>2007</td><td>11</td><td>3</td><td>6</td><td>1752</td><td>1800</td><td>2045</td><td>2049</td><td>DL</td><td>1810</td><td>N615DL</td><td>113</td><td>109</td><td>82</td><td>-4</td><td>-8</td><td>LAX</td><td>SLC</td><td>590</td><td>7</td><td>24</td><td>0</td><td>null</td><td>0</td><td>0</td><td>0</td><td>0</td><td>0</td><td>0</td></tr>\n",
       "</table>\n"
      ],
      "text/plain": [
       "+----+-----+----------+---------+-------+----------+-------+----------+-------------+---------+-------+-----------------+--------------+-------+--------+--------+------+----+--------+------+-------+---------+----------------+--------+------------+------------+--------+-------------+-----------------+\n",
       "|Year|Month|DayofMonth|DayOfWeek|DepTime|CRSDepTime|ArrTime|CRSArrTime|UniqueCarrier|FlightNum|TailNum|ActualElapsedTime|CRSElapsedTime|AirTime|ArrDelay|DepDelay|Origin|Dest|Distance|TaxiIn|TaxiOut|Cancelled|CancellationCode|Diverted|CarrierDelay|WeatherDelay|NASDelay|SecurityDelay|LateAircraftDelay|\n",
       "+----+-----+----------+---------+-------+----------+-------+----------+-------------+---------+-------+-----------------+--------------+-------+--------+--------+------+----+--------+------+-------+---------+----------------+--------+------------+------------+--------+-------------+-----------------+\n",
       "|2007|    5|        14|        1|   1954|      1930|   2128|      2121|           US|     1105| N588US|              154|           171|    138|       7|      24|   CLT| DFW|     936|     1|     15|        0|            null|       0|           0|           0|       0|            0|                0|\n",
       "|2007|    5|        14|        1|   1429|      1425|   1609|      1617|           US|     1126| N423US|              160|           172|    130|      -8|       4|   CLT| DFW|     936|     6|     24|        0|            null|       0|           0|           0|       0|            0|                0|\n",
       "|2007|    5|        14|        1|    742|       740|    919|       929|           US|     1219| N533AU|              157|           169|    126|     -10|       2|   CLT| DFW|     936|     8|     23|        0|            null|       0|           0|           0|       0|            0|                0|\n",
       "|2007|    5|        14|        1|   1009|       920|   1137|      1111|           US|     1772| N589US|              148|           171|    123|      26|      49|   CLT| DFW|     936|     3|     22|        0|            null|       0|          24|           0|       0|            0|                2|\n",
       "|2007|    5|        14|        1|   2149|      2130|   2310|      2316|           US|     1865| N423US|              141|           166|    125|      -6|      19|   CLT| DFW|     936|     4|     12|        0|            null|       0|           0|           0|       0|            0|                0|\n",
       "+----+-----+----------+---------+-------+----------+-------+----------+-------------+---------+-------+-----------------+--------------+-------+--------+--------+------+----+--------+------+-------+---------+----------------+--------+------------+------------+--------+-------------+-----------------+"
      ]
     },
     "execution_count": 14,
     "metadata": {},
     "output_type": "execute_result"
    }
   ],
   "source": [
    "flights_2007.limit(5)"
   ]
  },
  {
   "cell_type": "code",
   "execution_count": 15,
   "metadata": {},
   "outputs": [
    {
     "data": {
      "text/html": [
       "<table border='1'>\n",
       "<tr><th>Year</th><th>Month</th><th>DayofMonth</th><th>DayOfWeek</th><th>DepTime</th><th>CRSDepTime</th><th>ArrTime</th><th>CRSArrTime</th><th>UniqueCarrier</th><th>FlightNum</th><th>TailNum</th><th>ActualElapsedTime</th><th>CRSElapsedTime</th><th>AirTime</th><th>ArrDelay</th><th>DepDelay</th><th>Origin</th><th>Dest</th><th>Distance</th><th>TaxiIn</th><th>TaxiOut</th><th>Cancelled</th><th>CancellationCode</th><th>Diverted</th><th>CarrierDelay</th><th>WeatherDelay</th><th>NASDelay</th><th>SecurityDelay</th><th>LateAircraftDelay</th></tr>\n",
       "<tr><td>2008</td><td>1</td><td>3</td><td>4</td><td>2003</td><td>1955</td><td>2211</td><td>2225</td><td>WN</td><td>335</td><td>N712SW</td><td>128</td><td>150</td><td>116</td><td>-14</td><td>8</td><td>IAD</td><td>TPA</td><td>810</td><td>4</td><td>8</td><td>0</td><td>null</td><td>0</td><td>NA</td><td>NA</td><td>NA</td><td>NA</td><td>NA</td></tr>\n",
       "<tr><td>2008</td><td>1</td><td>3</td><td>4</td><td>754</td><td>735</td><td>1002</td><td>1000</td><td>WN</td><td>3231</td><td>N772SW</td><td>128</td><td>145</td><td>113</td><td>2</td><td>19</td><td>IAD</td><td>TPA</td><td>810</td><td>5</td><td>10</td><td>0</td><td>null</td><td>0</td><td>NA</td><td>NA</td><td>NA</td><td>NA</td><td>NA</td></tr>\n",
       "<tr><td>2008</td><td>1</td><td>3</td><td>4</td><td>628</td><td>620</td><td>804</td><td>750</td><td>WN</td><td>448</td><td>N428WN</td><td>96</td><td>90</td><td>76</td><td>14</td><td>8</td><td>IND</td><td>BWI</td><td>515</td><td>3</td><td>17</td><td>0</td><td>null</td><td>0</td><td>NA</td><td>NA</td><td>NA</td><td>NA</td><td>NA</td></tr>\n",
       "<tr><td>2008</td><td>1</td><td>3</td><td>4</td><td>926</td><td>930</td><td>1054</td><td>1100</td><td>WN</td><td>1746</td><td>N612SW</td><td>88</td><td>90</td><td>78</td><td>-6</td><td>-4</td><td>IND</td><td>BWI</td><td>515</td><td>3</td><td>7</td><td>0</td><td>null</td><td>0</td><td>NA</td><td>NA</td><td>NA</td><td>NA</td><td>NA</td></tr>\n",
       "<tr><td>2008</td><td>1</td><td>3</td><td>4</td><td>1829</td><td>1755</td><td>1959</td><td>1925</td><td>WN</td><td>3920</td><td>N464WN</td><td>90</td><td>90</td><td>77</td><td>34</td><td>34</td><td>IND</td><td>BWI</td><td>515</td><td>3</td><td>10</td><td>0</td><td>null</td><td>0</td><td>2</td><td>0</td><td>0</td><td>0</td><td>32</td></tr>\n",
       "</table>\n"
      ],
      "text/plain": [
       "+----+-----+----------+---------+-------+----------+-------+----------+-------------+---------+-------+-----------------+--------------+-------+--------+--------+------+----+--------+------+-------+---------+----------------+--------+------------+------------+--------+-------------+-----------------+\n",
       "|Year|Month|DayofMonth|DayOfWeek|DepTime|CRSDepTime|ArrTime|CRSArrTime|UniqueCarrier|FlightNum|TailNum|ActualElapsedTime|CRSElapsedTime|AirTime|ArrDelay|DepDelay|Origin|Dest|Distance|TaxiIn|TaxiOut|Cancelled|CancellationCode|Diverted|CarrierDelay|WeatherDelay|NASDelay|SecurityDelay|LateAircraftDelay|\n",
       "+----+-----+----------+---------+-------+----------+-------+----------+-------------+---------+-------+-----------------+--------------+-------+--------+--------+------+----+--------+------+-------+---------+----------------+--------+------------+------------+--------+-------------+-----------------+\n",
       "|2008|   10|        26|        7|   1936|      1720|   2129|      1849|           NW|      323| N782NC|              173|           149|    130|     160|     136|   BWI| MEM|     787|     6|     37|        0|            null|       0|           0|           0|      24|            0|              136|\n",
       "|2008|   10|        27|        1|   1728|      1720|   1840|      1849|           NW|      323| N600TR|              132|           149|    118|      -9|       8|   BWI| MEM|     787|     5|      9|        0|            null|       0|          NA|          NA|      NA|           NA|               NA|\n",
       "|2008|   10|        28|        2|   1710|      1720|   1833|      1849|           NW|      323| N781NC|              143|           149|    115|     -16|     -10|   BWI| MEM|     787|    11|     17|        0|            null|       0|          NA|          NA|      NA|           NA|               NA|\n",
       "|2008|   10|        29|        3|   1709|      1720|   1827|      1849|           NW|      323| N777NC|              138|           149|    114|     -22|     -11|   BWI| MEM|     787|     7|     17|        0|            null|       0|          NA|          NA|      NA|           NA|               NA|\n",
       "|2008|   10|        30|        4|   1712|      1720|   1846|      1849|           NW|      323| N777NC|              154|           149|    108|      -3|      -8|   BWI| MEM|     787|    31|     15|        0|            null|       0|          NA|          NA|      NA|           NA|               NA|\n",
       "+----+-----+----------+---------+-------+----------+-------+----------+-------------+---------+-------+-----------------+--------------+-------+--------+--------+------+----+--------+------+-------+---------+----------------+--------+------------+------------+--------+-------------+-----------------+"
      ]
     },
     "execution_count": 15,
     "metadata": {},
     "output_type": "execute_result"
    }
   ],
   "source": [
    "flights_2008.limit(5)"
   ]
  },
  {
   "cell_type": "markdown",
   "metadata": {},
   "source": [
    "Cast ArrDelay and DepDelay columns as integers (from strings)."
   ]
  },
  {
   "cell_type": "code",
   "execution_count": 8,
   "metadata": {},
   "outputs": [],
   "source": [
    "flights_2007 = flights_2007.withColumn('ArrDelay', flights_2007['ArrDelay'].cast(IntegerType()))\\\n",
    ".withColumn('DepDelay', flights_2007['DepDelay'].cast(IntegerType()))\n",
    "\n",
    "flights_2008 = flights_2008.withColumn('ArrDelay', flights_2008['ArrDelay'].cast(IntegerType()))\\\n",
    ".withColumn('DepDelay', flights_2008['DepDelay'].cast(IntegerType()))"
   ]
  },
  {
   "cell_type": "markdown",
   "metadata": {},
   "source": [
    "Concatenate both dataframes into a single one."
   ]
  },
  {
   "cell_type": "code",
   "execution_count": 9,
   "metadata": {},
   "outputs": [],
   "source": [
    "flights = flights_2007.union(flights_2008)"
   ]
  },
  {
   "cell_type": "code",
   "execution_count": 9,
   "metadata": {},
   "outputs": [
    {
     "data": {
      "text/plain": [
       "14462943"
      ]
     },
     "execution_count": 9,
     "metadata": {},
     "output_type": "execute_result"
    }
   ],
   "source": [
    "flights.count()"
   ]
  },
  {
   "cell_type": "markdown",
   "metadata": {},
   "source": [
    "### Question 1"
   ]
  },
  {
   "cell_type": "markdown",
   "metadata": {},
   "source": [
    "Assume \"worst delays\" as referenced in the assignment description means single flights with longest arrival and departure delays, for each year."
   ]
  },
  {
   "cell_type": "code",
   "execution_count": 19,
   "metadata": {},
   "outputs": [
    {
     "data": {
      "text/html": [
       "<table border='1'>\n",
       "<tr><th>Year</th><th>Origin</th><th>Dest</th><th>ArrDelay</th><th>DepDelay</th></tr>\n",
       "<tr><td>2007</td><td>OMA</td><td>ORD</td><td>-12</td><td>-6</td></tr>\n",
       "<tr><td>2007</td><td>OMA</td><td>ORD</td><td>-7</td><td>-4</td></tr>\n",
       "<tr><td>2007</td><td>OMA</td><td>ORD</td><td>-4</td><td>-6</td></tr>\n",
       "<tr><td>2007</td><td>OMA</td><td>ORD</td><td>7</td><td>-2</td></tr>\n",
       "<tr><td>2007</td><td>OMA</td><td>ORD</td><td>-6</td><td>-4</td></tr>\n",
       "</table>\n"
      ],
      "text/plain": [
       "+----+------+----+--------+--------+\n",
       "|Year|Origin|Dest|ArrDelay|DepDelay|\n",
       "+----+------+----+--------+--------+\n",
       "|2007|   SNA| LAS|       5|       3|\n",
       "|2007|   SNA| LAS|       4|       3|\n",
       "|2007|   SNA| LAS|      -4|       2|\n",
       "|2007|   SNA| LAS|       0|       2|\n",
       "|2007|   SNA| LAS|      -1|       5|\n",
       "+----+------+----+--------+--------+"
      ]
     },
     "execution_count": 19,
     "metadata": {},
     "output_type": "execute_result"
    }
   ],
   "source": [
    "flights_filt = flights.select('Year', 'Origin', 'Dest', 'ArrDelay', 'DepDelay')\n",
    "flights_filt.limit(5)"
   ]
  },
  {
   "cell_type": "code",
   "execution_count": 20,
   "metadata": {},
   "outputs": [
    {
     "data": {
      "text/html": [
       "<table border='1'>\n",
       "<tr><th>Year</th><th>max(ArrDelay)</th><th>max(DepDelay)</th></tr>\n",
       "<tr><td>2007</td><td>2598</td><td>2601</td></tr>\n",
       "<tr><td>2008</td><td>2461</td><td>2467</td></tr>\n",
       "</table>\n"
      ],
      "text/plain": [
       "+----+-------------+-------------+\n",
       "|Year|max(ArrDelay)|max(DepDelay)|\n",
       "+----+-------------+-------------+\n",
       "|2007|         2598|         2601|\n",
       "|2008|         2461|         2467|\n",
       "+----+-------------+-------------+"
      ]
     },
     "execution_count": 20,
     "metadata": {},
     "output_type": "execute_result"
    }
   ],
   "source": [
    "flights_filt.groupby('Year').max('ArrDelay', 'DepDelay')"
   ]
  },
  {
   "cell_type": "markdown",
   "metadata": {},
   "source": [
    "If we want to see the origin and destination airports for flights with longest delays (for each year), this groupby won't get us what we need because once we group by year alone, we cannot view individual flights' airports. However, if we group by origin and destination airports as well, and then sort the results in descending order, we should be able to determine which pair of airports had the flight with longest delay."
   ]
  },
  {
   "cell_type": "code",
   "execution_count": 21,
   "metadata": {},
   "outputs": [
    {
     "data": {
      "text/html": [
       "<table border='1'>\n",
       "<tr><th>Year</th><th>Origin</th><th>Dest</th><th>max(ArrDelay)</th><th>max(DepDelay)</th></tr>\n",
       "<tr><td>2007</td><td>PBI</td><td>DTW</td><td>2598</td><td>2601</td></tr>\n",
       "<tr><td>2008</td><td>HNL</td><td>MSP</td><td>2461</td><td>2457</td></tr>\n",
       "</table>\n"
      ],
      "text/plain": [
       "+----+------+----+-------------+-------------+\n",
       "|Year|Origin|Dest|max(ArrDelay)|max(DepDelay)|\n",
       "+----+------+----+-------------+-------------+\n",
       "|2007|   PBI| DTW|         2598|         2601|\n",
       "|2008|   HNL| MSP|         2461|         2457|\n",
       "+----+------+----+-------------+-------------+"
      ]
     },
     "execution_count": 21,
     "metadata": {},
     "output_type": "execute_result"
    }
   ],
   "source": [
    "longest_arrival_delay = flights_filt.groupby('Year', 'Origin', 'Dest').max('ArrDelay', 'DepDelay').orderBy('max(ArrDelay)', ascending=False).limit(2)\n",
    "longest_arrival_delay"
   ]
  },
  {
   "cell_type": "code",
   "execution_count": 22,
   "metadata": {},
   "outputs": [
    {
     "data": {
      "text/html": [
       "<table border='1'>\n",
       "<tr><th>Year</th><th>Origin</th><th>Dest</th><th>max(ArrDelay)</th><th>max(DepDelay)</th></tr>\n",
       "<tr><td>2007</td><td>PBI</td><td>DTW</td><td>2598</td><td>2601</td></tr>\n",
       "<tr><td>2008</td><td>CLT</td><td>MSP</td><td>2453</td><td>2467</td></tr>\n",
       "</table>\n"
      ],
      "text/plain": [
       "+----+------+----+-------------+-------------+\n",
       "|Year|Origin|Dest|max(ArrDelay)|max(DepDelay)|\n",
       "+----+------+----+-------------+-------------+\n",
       "|2007|   PBI| DTW|         2598|         2601|\n",
       "|2008|   CLT| MSP|         2453|         2467|\n",
       "+----+------+----+-------------+-------------+"
      ]
     },
     "execution_count": 22,
     "metadata": {},
     "output_type": "execute_result"
    }
   ],
   "source": [
    "longest_departure_delay = flights_filt.groupby('Year', 'Origin', 'Dest').max('ArrDelay', 'DepDelay').orderBy('max(DepDelay)', ascending=False).limit(2)\n",
    "longest_departure_delay"
   ]
  },
  {
   "cell_type": "markdown",
   "metadata": {},
   "source": [
    "### Question 2"
   ]
  },
  {
   "cell_type": "markdown",
   "metadata": {},
   "source": [
    "To assess which locations had fewest delays, we can filter the full dataframe for records that have a positive value in ArrDelay or DepDelay, group by origin and destination airports, and the count records."
   ]
  },
  {
   "cell_type": "markdown",
   "metadata": {},
   "source": [
    "First, let's confirm there are flights in the dataset that arrived or departed on time."
   ]
  },
  {
   "cell_type": "code",
   "execution_count": 23,
   "metadata": {},
   "outputs": [
    {
     "data": {
      "text/plain": [
       "1490759"
      ]
     },
     "execution_count": 23,
     "metadata": {},
     "output_type": "execute_result"
    }
   ],
   "source": [
    "flights.filter((flights.ArrDelay == 0) | (flights.DepDelay == 0)).count()"
   ]
  },
  {
   "cell_type": "code",
   "execution_count": 24,
   "metadata": {},
   "outputs": [
    {
     "data": {
      "text/html": [
       "<table border='1'>\n",
       "<tr><th>Year</th><th>Origin</th><th>Dest</th><th>ArrDelay</th><th>DepDelay</th></tr>\n",
       "<tr><td>2007</td><td>LGA</td><td>CAK</td><td>66</td><td>63</td></tr>\n",
       "<tr><td>2007</td><td>LGA</td><td>CAK</td><td>54</td><td>42</td></tr>\n",
       "<tr><td>2007</td><td>LGA</td><td>PHF</td><td>1</td><td>-2</td></tr>\n",
       "<tr><td>2007</td><td>LGA</td><td>PHF</td><td>39</td><td>42</td></tr>\n",
       "<tr><td>2007</td><td>MCO</td><td>ATL</td><td>13</td><td>-5</td></tr>\n",
       "</table>\n"
      ],
      "text/plain": [
       "+----+------+----+--------+--------+\n",
       "|Year|Origin|Dest|ArrDelay|DepDelay|\n",
       "+----+------+----+--------+--------+\n",
       "|2007|   SMF| ONT|       1|       7|\n",
       "|2007|   SMF| PDX|       8|      13|\n",
       "|2007|   SMF| PDX|      34|      36|\n",
       "|2007|   SMF| PDX|      26|      30|\n",
       "|2007|   SMF| PDX|      -3|       1|\n",
       "+----+------+----+--------+--------+"
      ]
     },
     "execution_count": 24,
     "metadata": {},
     "output_type": "execute_result"
    }
   ],
   "source": [
    "delayed_flights = flights_filt.filter((flights.ArrDelay > 0) | (flights.DepDelay > 0))\n",
    "delayed_flights.limit(5)"
   ]
  },
  {
   "cell_type": "code",
   "execution_count": 25,
   "metadata": {},
   "outputs": [
    {
     "data": {
      "text/html": [
       "<table border='1'>\n",
       "<tr><th>Year</th><th>Origin</th><th>Dest</th><th>num_delayed_flights</th></tr>\n",
       "<tr><td>2007</td><td>MDW</td><td>LGA</td><td>1</td></tr>\n",
       "<tr><td>2008</td><td>BZN</td><td>BTM</td><td>1</td></tr>\n",
       "<tr><td>2007</td><td>AUS</td><td>BTR</td><td>1</td></tr>\n",
       "<tr><td>2008</td><td>ABE</td><td>PHL</td><td>1</td></tr>\n",
       "<tr><td>2007</td><td>CLD</td><td>SNA</td><td>1</td></tr>\n",
       "<tr><td>2008</td><td>RIC</td><td>JAX</td><td>1</td></tr>\n",
       "<tr><td>2008</td><td>SDF</td><td>SPI</td><td>1</td></tr>\n",
       "<tr><td>2007</td><td>RAP</td><td>TWF</td><td>1</td></tr>\n",
       "<tr><td>2007</td><td>RDU</td><td>GRB</td><td>1</td></tr>\n",
       "<tr><td>2008</td><td>MDT</td><td>AVP</td><td>1</td></tr>\n",
       "</table>\n"
      ],
      "text/plain": [
       "+----+------+----+-------------------+\n",
       "|Year|Origin|Dest|num_delayed_flights|\n",
       "+----+------+----+-------------------+\n",
       "|2008|   BTV| IND|                  1|\n",
       "|2007|   FSD| RFD|                  1|\n",
       "|2007|   LGB| PWM|                  1|\n",
       "|2007|   SNA| BFL|                  1|\n",
       "|2007|   TWF| BOI|                  1|\n",
       "|2007|   TPA| GRR|                  1|\n",
       "|2008|   MDT| DCA|                  1|\n",
       "|2008|   CMH| SYR|                  1|\n",
       "|2008|   LEX| COS|                  1|\n",
       "|2007|   BWI| MSN|                  1|\n",
       "+----+------+----+-------------------+"
      ]
     },
     "execution_count": 25,
     "metadata": {},
     "output_type": "execute_result"
    }
   ],
   "source": [
    "delayed_flights.groupby('Year', 'Origin', 'Dest').\\\n",
    "agg(count('*').alias('num_delayed_flights')).\\\n",
    "orderBy('num_delayed_flights').\\\n",
    "limit(10)"
   ]
  },
  {
   "cell_type": "markdown",
   "metadata": {},
   "source": [
    "Not very interesting. What if we narrowed down the definition of delay? We can add a column called \"TotalDelay\" that is the sum of arrival delay minutes and departure delay minutes, and work with a set of flights that have a total delay of 15 minutes or more."
   ]
  },
  {
   "cell_type": "code",
   "execution_count": 26,
   "metadata": {},
   "outputs": [
    {
     "data": {
      "text/html": [
       "<table border='1'>\n",
       "<tr><th>Year</th><th>Origin</th><th>Dest</th><th>ArrDelay</th><th>DepDelay</th><th>TotalDelay</th></tr>\n",
       "<tr><td>2007</td><td>IAD</td><td>DEN</td><td>-15</td><td>2</td><td>-13</td></tr>\n",
       "<tr><td>2007</td><td>IAD</td><td>DEN</td><td>5</td><td>17</td><td>22</td></tr>\n",
       "<tr><td>2007</td><td>IAD</td><td>DEN</td><td>14</td><td>19</td><td>33</td></tr>\n",
       "<tr><td>2007</td><td>HNL</td><td>LAX</td><td>-4</td><td>-3</td><td>-7</td></tr>\n",
       "<tr><td>2007</td><td>HNL</td><td>LAX</td><td>-34</td><td>-7</td><td>-41</td></tr>\n",
       "</table>\n"
      ],
      "text/plain": [
       "+----+------+----+--------+--------+----------+\n",
       "|Year|Origin|Dest|ArrDelay|DepDelay|TotalDelay|\n",
       "+----+------+----+--------+--------+----------+\n",
       "|2007|   DFW| ORD|       8|      24|        32|\n",
       "|2007|   DFW| ORD|     -17|       6|       -11|\n",
       "|2007|   DFW| ORD|     102|      86|       188|\n",
       "|2007|   DFW| ORD|      12|      42|        54|\n",
       "|2007|   DFW| ORD|      -3|       3|         0|\n",
       "+----+------+----+--------+--------+----------+"
      ]
     },
     "execution_count": 26,
     "metadata": {},
     "output_type": "execute_result"
    }
   ],
   "source": [
    "flights_w_total_delay = flights_filt.\\\n",
    "withColumn('TotalDelay', flights_filt.ArrDelay + flights_filt.DepDelay)\n",
    "\n",
    "flights_w_total_delay.limit(5)"
   ]
  },
  {
   "cell_type": "code",
   "execution_count": 27,
   "metadata": {},
   "outputs": [
    {
     "data": {
      "text/html": [
       "<table border='1'>\n",
       "<tr><th>Year</th><th>Origin</th><th>Dest</th><th>ArrDelay</th><th>DepDelay</th><th>TotalDelay</th></tr>\n",
       "<tr><td>2007</td><td>EWR</td><td>ALB</td><td>39</td><td>7</td><td>46</td></tr>\n",
       "<tr><td>2007</td><td>DAL</td><td>IAH</td><td>112</td><td>39</td><td>151</td></tr>\n",
       "<tr><td>2007</td><td>IAH</td><td>LCH</td><td>59</td><td>72</td><td>131</td></tr>\n",
       "<tr><td>2007</td><td>IAH</td><td>CHS</td><td>75</td><td>80</td><td>155</td></tr>\n",
       "<tr><td>2007</td><td>IAH</td><td>CLT</td><td>70</td><td>61</td><td>131</td></tr>\n",
       "</table>\n"
      ],
      "text/plain": [
       "+----+------+----+--------+--------+----------+\n",
       "|Year|Origin|Dest|ArrDelay|DepDelay|TotalDelay|\n",
       "+----+------+----+--------+--------+----------+\n",
       "|2007|   SNA| OAK|      25|      30|        55|\n",
       "|2007|   SNA| PHX|       7|      15|        22|\n",
       "|2007|   SNA| PHX|       8|      11|        19|\n",
       "|2007|   SNA| PHX|      22|      28|        50|\n",
       "|2007|   SNA| SJC|      13|      16|        29|\n",
       "+----+------+----+--------+--------+----------+"
      ]
     },
     "execution_count": 27,
     "metadata": {},
     "output_type": "execute_result"
    }
   ],
   "source": [
    "delayed_flights = flights_w_total_delay.filter((flights_w_total_delay.TotalDelay > 15))\n",
    "delayed_flights.limit(5)"
   ]
  },
  {
   "cell_type": "code",
   "execution_count": 28,
   "metadata": {},
   "outputs": [
    {
     "data": {
      "text/html": [
       "<table border='1'>\n",
       "<tr><th>Year</th><th>Origin</th><th>Dest</th><th>num_delayed_flights</th></tr>\n",
       "<tr><td>2007</td><td>GSO</td><td>BTR</td><td>1</td></tr>\n",
       "<tr><td>2007</td><td>MKC</td><td>MKE</td><td>1</td></tr>\n",
       "<tr><td>2007</td><td>ATL</td><td>OGG</td><td>1</td></tr>\n",
       "<tr><td>2008</td><td>SGF</td><td>BNA</td><td>1</td></tr>\n",
       "<tr><td>2007</td><td>AVP</td><td>LGA</td><td>1</td></tr>\n",
       "<tr><td>2008</td><td>MFR</td><td>MOD</td><td>1</td></tr>\n",
       "<tr><td>2008</td><td>DSM</td><td>CWA</td><td>1</td></tr>\n",
       "<tr><td>2008</td><td>GSO</td><td>JAX</td><td>1</td></tr>\n",
       "<tr><td>2008</td><td>OKC</td><td>CLE</td><td>1</td></tr>\n",
       "<tr><td>2008</td><td>SMF</td><td>SBA</td><td>1</td></tr>\n",
       "</table>\n"
      ],
      "text/plain": [
       "+----+------+----+-------------------+\n",
       "|Year|Origin|Dest|num_delayed_flights|\n",
       "+----+------+----+-------------------+\n",
       "|2007|   AUS| GPT|                  1|\n",
       "|2008|   RIC| DCA|                  1|\n",
       "|2008|   SJC| SFO|                  1|\n",
       "|2008|   SCE| CVG|                  1|\n",
       "|2007|   GSO| DCA|                  1|\n",
       "|2008|   CMI| SPI|                  1|\n",
       "|2008|   SJU| PIT|                  1|\n",
       "|2008|   LGB| ONT|                  1|\n",
       "|2008|   SLC| XNA|                  1|\n",
       "|2007|   CVG| SMF|                  1|\n",
       "+----+------+----+-------------------+"
      ]
     },
     "execution_count": 28,
     "metadata": {},
     "output_type": "execute_result"
    }
   ],
   "source": [
    "delayed_flights.groupby('Year', 'Origin', 'Dest').\\\n",
    "agg(count('*').alias('num_delayed_flights')).\\\n",
    "orderBy('num_delayed_flights').\\\n",
    "limit(10)"
   ]
  },
  {
   "cell_type": "markdown",
   "metadata": {},
   "source": [
    "We can see that re-defining delays doesn't really change our results. There are apparently quite a few airport pairs that only had one delayed flight. We could further explore by the perhaps restricting our search only to origin/destination pairs that had greater than 10,000 flights or something like that, but save that for later."
   ]
  },
  {
   "cell_type": "markdown",
   "metadata": {},
   "source": [
    "### Question 3"
   ]
  },
  {
   "cell_type": "code",
   "execution_count": 29,
   "metadata": {
    "scrolled": true
   },
   "outputs": [
    {
     "data": {
      "text/html": [
       "<table border='1'>\n",
       "<tr><th>Year</th><th>Month</th><th>DayofMonth</th><th>DayOfWeek</th><th>DepTime</th><th>CRSDepTime</th><th>ArrTime</th><th>CRSArrTime</th><th>UniqueCarrier</th><th>FlightNum</th><th>TailNum</th><th>ActualElapsedTime</th><th>CRSElapsedTime</th><th>AirTime</th><th>ArrDelay</th><th>DepDelay</th><th>Origin</th><th>Dest</th><th>Distance</th><th>TaxiIn</th><th>TaxiOut</th><th>Cancelled</th><th>CancellationCode</th><th>Diverted</th><th>CarrierDelay</th><th>WeatherDelay</th><th>NASDelay</th><th>SecurityDelay</th><th>LateAircraftDelay</th></tr>\n",
       "<tr><td>2007</td><td>4</td><td>4</td><td>3</td><td>1832</td><td>1826</td><td>2130</td><td>2136</td><td>UA</td><td>195</td><td>N423UA</td><td>358</td><td>370</td><td>335</td><td>-6</td><td>6</td><td>PHL</td><td>LAX</td><td>2401</td><td>12</td><td>11</td><td>0</td><td>null</td><td>0</td><td>0</td><td>0</td><td>0</td><td>0</td><td>0</td></tr>\n",
       "<tr><td>2007</td><td>4</td><td>5</td><td>4</td><td>1842</td><td>1826</td><td>2156</td><td>2136</td><td>UA</td><td>195</td><td>N436UA</td><td>374</td><td>370</td><td>322</td><td>20</td><td>16</td><td>PHL</td><td>LAX</td><td>2401</td><td>8</td><td>44</td><td>0</td><td>null</td><td>0</td><td>0</td><td>0</td><td>4</td><td>0</td><td>16</td></tr>\n",
       "<tr><td>2007</td><td>4</td><td>6</td><td>5</td><td>1824</td><td>1826</td><td>2106</td><td>2136</td><td>UA</td><td>195</td><td>N854UA</td><td>342</td><td>370</td><td>313</td><td>-30</td><td>-2</td><td>PHL</td><td>LAX</td><td>2401</td><td>2</td><td>27</td><td>0</td><td>null</td><td>0</td><td>0</td><td>0</td><td>0</td><td>0</td><td>0</td></tr>\n",
       "<tr><td>2007</td><td>4</td><td>7</td><td>6</td><td>1842</td><td>1826</td><td>2141</td><td>2136</td><td>UA</td><td>195</td><td>N428UA</td><td>359</td><td>370</td><td>319</td><td>5</td><td>16</td><td>PHL</td><td>LAX</td><td>2401</td><td>12</td><td>28</td><td>0</td><td>null</td><td>0</td><td>0</td><td>0</td><td>0</td><td>0</td><td>0</td></tr>\n",
       "<tr><td>2007</td><td>4</td><td>8</td><td>7</td><td>1829</td><td>1826</td><td>2127</td><td>2136</td><td>UA</td><td>195</td><td>N428UA</td><td>358</td><td>370</td><td>331</td><td>-9</td><td>3</td><td>PHL</td><td>LAX</td><td>2401</td><td>3</td><td>24</td><td>0</td><td>null</td><td>0</td><td>0</td><td>0</td><td>0</td><td>0</td><td>0</td></tr>\n",
       "</table>\n"
      ],
      "text/plain": [
       "+----+-----+----------+---------+-------+----------+-------+----------+-------------+---------+-------+-----------------+--------------+-------+--------+--------+------+----+--------+------+-------+---------+----------------+--------+------------+------------+--------+-------------+-----------------+\n",
       "|Year|Month|DayofMonth|DayOfWeek|DepTime|CRSDepTime|ArrTime|CRSArrTime|UniqueCarrier|FlightNum|TailNum|ActualElapsedTime|CRSElapsedTime|AirTime|ArrDelay|DepDelay|Origin|Dest|Distance|TaxiIn|TaxiOut|Cancelled|CancellationCode|Diverted|CarrierDelay|WeatherDelay|NASDelay|SecurityDelay|LateAircraftDelay|\n",
       "+----+-----+----------+---------+-------+----------+-------+----------+-------------+---------+-------+-----------------+--------------+-------+--------+--------+------+----+--------+------+-------+---------+----------------+--------+------------+------------+--------+-------------+-----------------+\n",
       "|2007|    1|        16|        2|   1747|      1615|   2045|      1930|           UA|      228| N928UA|              118|           135|    104|      75|      92|   ORD| PVD|     849|     3|     11|        0|            null|       0|          16|           0|       0|            0|               59|\n",
       "|2007|    1|        17|        3|   1622|      1615|   1926|      1930|           UA|      228| N335UA|              124|           135|    104|      -4|       7|   ORD| PVD|     849|     3|     17|        0|            null|       0|           0|           0|       0|            0|                0|\n",
       "|2007|    1|        18|        4|   1622|      1615|   1932|      1930|           UA|      228| N905UA|              130|           135|    103|       2|       7|   ORD| PVD|     849|     4|     23|        0|            null|       0|           0|           0|       0|            0|                0|\n",
       "|2007|    1|        19|        5|   1620|      1615|   1915|      1930|           UA|      228| N905UA|              115|           135|     97|     -15|       5|   ORD| PVD|     849|     3|     15|        0|            null|       0|           0|           0|       0|            0|                0|\n",
       "|2007|    1|        20|        6|   1610|      1615|   1914|      1930|           UA|      228| N312UA|              124|           135|     99|     -16|      -5|   ORD| PVD|     849|     3|     22|        0|            null|       0|           0|           0|       0|            0|                0|\n",
       "+----+-----+----------+---------+-------+----------+-------+----------+-------------+---------+-------+-----------------+--------------+-------+--------+--------+------+----+--------+------+-------+---------+----------------+--------+------------+------------+--------+-------------+-----------------+"
      ]
     },
     "execution_count": 29,
     "metadata": {},
     "output_type": "execute_result"
    }
   ],
   "source": [
    "flights.limit(5)"
   ]
  },
  {
   "cell_type": "code",
   "execution_count": 30,
   "metadata": {},
   "outputs": [
    {
     "data": {
      "text/html": [
       "<table border='1'>\n",
       "<tr><th>Year</th><th>Month</th><th>avg(DepDelay)</th><th>avg(ArrDelay)</th><th>avg(TotalDelay)</th></tr>\n",
       "<tr><td>2007</td><td>1</td><td>10.286743415948312</td><td>9.162151701506165</td><td>19.41513806233067</td></tr>\n",
       "<tr><td>2007</td><td>2</td><td>14.02253123732965</td><td>13.51979483296776</td><td>27.502412419879825</td></tr>\n",
       "<tr><td>2007</td><td>3</td><td>11.836802542694253</td><td>10.084908470559062</td><td>21.876819679997165</td></tr>\n",
       "<tr><td>2007</td><td>4</td><td>10.07771370814071</td><td>8.516229825822615</td><td>18.57454961423968</td></tr>\n",
       "<tr><td>2007</td><td>5</td><td>8.329205401044868</td><td>7.037888681043307</td><td>15.34384575647414</td></tr>\n",
       "</table>\n"
      ],
      "text/plain": [
       "+----+-----+------------------+------------------+------------------+\n",
       "|Year|Month|     avg(DepDelay)|     avg(ArrDelay)|   avg(TotalDelay)|\n",
       "+----+-----+------------------+------------------+------------------+\n",
       "|2007|    1|10.286743415948312| 9.162151701506165| 19.41513806233067|\n",
       "|2007|    2| 14.02253123732965| 13.51979483296776|27.502412419879825|\n",
       "|2007|    3|11.836802542694253|10.084908470559062|21.876819679997165|\n",
       "|2007|    4| 10.07771370814071| 8.516229825822615| 18.57454961423968|\n",
       "|2007|    5| 8.329205401044868| 7.037888681043307| 15.34384575647414|\n",
       "+----+-----+------------------+------------------+------------------+"
      ]
     },
     "execution_count": 30,
     "metadata": {},
     "output_type": "execute_result"
    }
   ],
   "source": [
    "monthly_avg_delays = flights.select('Year', 'Month', 'DepDelay', 'ArrDelay').\\\n",
    "withColumn('TotalDelay', flights.ArrDelay + flights.DepDelay).\\\n",
    "groupby('Year', 'Month').mean('DepDelay', 'ArrDelay', 'TotalDelay').\\\n",
    "orderBy('Year', 'Month')\n",
    "\n",
    "monthly_avg_delays.limit(5)"
   ]
  },
  {
   "cell_type": "markdown",
   "metadata": {},
   "source": [
    "Round the values in the average columns for readability."
   ]
  },
  {
   "cell_type": "code",
   "execution_count": 31,
   "metadata": {},
   "outputs": [],
   "source": [
    "monthly_avg_delays = monthly_avg_delays.\\\n",
    "withColumn(\"avg(DepDelay)\", round(monthly_avg_delays[\"avg(DepDelay)\"], 2)).\\\n",
    "withColumn(\"avg(ArrDelay)\", round(monthly_avg_delays[\"avg(ArrDelay)\"], 2)).\\\n",
    "withColumn(\"avg(TotalDelay)\", round(monthly_avg_delays[\"avg(TotalDelay)\"], 2))"
   ]
  },
  {
   "cell_type": "markdown",
   "metadata": {},
   "source": [
    "Convert the PySpark dataframe to a  Pandas dataframe object for plotting."
   ]
  },
  {
   "cell_type": "code",
   "execution_count": 32,
   "metadata": {
    "scrolled": true
   },
   "outputs": [],
   "source": [
    "monthly_avg_delays = monthly_avg_delays.toPandas()"
   ]
  },
  {
   "cell_type": "markdown",
   "metadata": {},
   "source": [
    "Add a column that casts the Year and Month columns to strings and concatenates them."
   ]
  },
  {
   "cell_type": "code",
   "execution_count": 33,
   "metadata": {},
   "outputs": [],
   "source": [
    "monthly_avg_delays['date_str'] = (\n",
    "    monthly_avg_delays['Year'].astype(str) + '-' + monthly_avg_delays['Month'].astype(str)\n",
    ")"
   ]
  },
  {
   "cell_type": "code",
   "execution_count": 34,
   "metadata": {},
   "outputs": [
    {
     "data": {
      "text/html": [
       "<div>\n",
       "<style scoped>\n",
       "    .dataframe tbody tr th:only-of-type {\n",
       "        vertical-align: middle;\n",
       "    }\n",
       "\n",
       "    .dataframe tbody tr th {\n",
       "        vertical-align: top;\n",
       "    }\n",
       "\n",
       "    .dataframe thead th {\n",
       "        text-align: right;\n",
       "    }\n",
       "</style>\n",
       "<table border=\"1\" class=\"dataframe\">\n",
       "  <thead>\n",
       "    <tr style=\"text-align: right;\">\n",
       "      <th></th>\n",
       "      <th>Year</th>\n",
       "      <th>Month</th>\n",
       "      <th>avg(DepDelay)</th>\n",
       "      <th>avg(ArrDelay)</th>\n",
       "      <th>avg(TotalDelay)</th>\n",
       "      <th>date_str</th>\n",
       "    </tr>\n",
       "  </thead>\n",
       "  <tbody>\n",
       "    <tr>\n",
       "      <th>0</th>\n",
       "      <td>2007</td>\n",
       "      <td>1</td>\n",
       "      <td>10.29</td>\n",
       "      <td>9.16</td>\n",
       "      <td>19.42</td>\n",
       "      <td>2007-1</td>\n",
       "    </tr>\n",
       "    <tr>\n",
       "      <th>1</th>\n",
       "      <td>2007</td>\n",
       "      <td>2</td>\n",
       "      <td>14.02</td>\n",
       "      <td>13.52</td>\n",
       "      <td>27.50</td>\n",
       "      <td>2007-2</td>\n",
       "    </tr>\n",
       "    <tr>\n",
       "      <th>2</th>\n",
       "      <td>2007</td>\n",
       "      <td>3</td>\n",
       "      <td>11.84</td>\n",
       "      <td>10.08</td>\n",
       "      <td>21.88</td>\n",
       "      <td>2007-3</td>\n",
       "    </tr>\n",
       "    <tr>\n",
       "      <th>3</th>\n",
       "      <td>2007</td>\n",
       "      <td>4</td>\n",
       "      <td>10.08</td>\n",
       "      <td>8.52</td>\n",
       "      <td>18.57</td>\n",
       "      <td>2007-4</td>\n",
       "    </tr>\n",
       "    <tr>\n",
       "      <th>4</th>\n",
       "      <td>2007</td>\n",
       "      <td>5</td>\n",
       "      <td>8.33</td>\n",
       "      <td>7.04</td>\n",
       "      <td>15.34</td>\n",
       "      <td>2007-5</td>\n",
       "    </tr>\n",
       "  </tbody>\n",
       "</table>\n",
       "</div>"
      ],
      "text/plain": [
       "   Year  Month  avg(DepDelay)  avg(ArrDelay)  avg(TotalDelay) date_str\n",
       "0  2007      1          10.29           9.16            19.42   2007-1\n",
       "1  2007      2          14.02          13.52            27.50   2007-2\n",
       "2  2007      3          11.84          10.08            21.88   2007-3\n",
       "3  2007      4          10.08           8.52            18.57   2007-4\n",
       "4  2007      5           8.33           7.04            15.34   2007-5"
      ]
     },
     "execution_count": 34,
     "metadata": {},
     "output_type": "execute_result"
    }
   ],
   "source": [
    "monthly_avg_delays.head()"
   ]
  },
  {
   "cell_type": "markdown",
   "metadata": {},
   "source": [
    "Create a line plot, with two lines: one for the monthly average departure delay and another for the monthly average arrival delay across the two year period (2007 - 2008)."
   ]
  },
  {
   "cell_type": "code",
   "execution_count": 35,
   "metadata": {},
   "outputs": [
    {
     "data": {
      "image/png": "[encoded data removed]",
      "text/plain": [
       "<Figure size 864x576 with 1 Axes>"
      ]
     },
     "metadata": {},
     "output_type": "display_data"
    }
   ],
   "source": [
    "plt.figure(figsize=(12,8))\n",
    "plt.title(\"Monthly Average Delay Length, Arrival and Departure, 2007-2008\")\n",
    "plt.xlabel(\"Year-Month\")\n",
    "plt.ylabel(\"Average Delay Length (Monthly)\")\n",
    "plt.xticks(rotation=60)\n",
    "\n",
    "plt.plot(monthly_avg_delays['date_str'],\n",
    "         monthly_avg_delays['avg(DepDelay)'],\n",
    "         label='Departure Delays',\n",
    "         color='blue')\n",
    "\n",
    "plt.plot(monthly_avg_delays['date_str'],\n",
    "         monthly_avg_delays['avg(ArrDelay)'],\n",
    "         label='Arrival Delays',\n",
    "         color='darkorchid')\n",
    "\n",
    "plt.legend()\n",
    "plt.show()"
   ]
  },
  {
   "cell_type": "markdown",
   "metadata": {},
   "source": [
    "Both departure and arrival delays were highest, in terms of monthly average delay length, in summer (June, July, August) and December. Delays were lowest in both years in the fall months (September, October, and November). Throughout the two year period, departure delays were higher than arrival delays -- this difference was most pronounced during the fall months of both years."
   ]
  },
  {
   "cell_type": "markdown",
   "metadata": {},
   "source": [
    "### Question 4"
   ]
  },
  {
   "cell_type": "markdown",
   "metadata": {},
   "source": [
    "To assess any day-of-week seasonal pattern, we can group the records by the DayofWeek column, and compute average length for both departure  and arrival delays. The first record in the dataset is for January 1, 2007 -- the DayofWeek value for this date is 1, which means 1 represents Monday and 7 represents Sunday."
   ]
  },
  {
   "cell_type": "code",
   "execution_count": 36,
   "metadata": {},
   "outputs": [
    {
     "data": {
      "text/html": [
       "<table border='1'>\n",
       "<tr><th>Year</th><th>DayofWeek</th><th>avg(DepDelay)</th><th>avg(ArrDelay)</th><th>avg(TotalDelay)</th></tr>\n",
       "<tr><td>2007</td><td>5</td><td>13.576724963618544</td><td>13.067675000697863</td><td>26.603897795684418</td></tr>\n",
       "<tr><td>2007</td><td>1</td><td>11.892415704828622</td><td>10.513502556550229</td><td>22.37938617054332</td></tr>\n",
       "<tr><td>2008</td><td>6</td><td>8.645680904903614</td><td>5.789666410427927</td><td>14.39493835418689</td></tr>\n",
       "<tr><td>2008</td><td>5</td><td>12.158036387869656</td><td>10.953440079613667</td><td>23.054549040909055</td></tr>\n",
       "<tr><td>2007</td><td>6</td><td>8.993704679140304</td><td>5.846600031017031</td><td>14.8118871679048</td></tr>\n",
       "</table>\n"
      ],
      "text/plain": [
       "+----+---------+------------------+------------------+------------------+\n",
       "|Year|DayofWeek|     avg(DepDelay)|     avg(ArrDelay)|   avg(TotalDelay)|\n",
       "+----+---------+------------------+------------------+------------------+\n",
       "|2008|        1|10.269990244459473| 8.210850494863875|18.433461284179156|\n",
       "|2008|        5|12.158036387869656|10.953440079613667|23.054549040909055|\n",
       "|2008|        6| 8.645680904903614| 5.789666410427927| 14.39493835418689|\n",
       "|2007|        6| 8.993704679140304| 5.846600031017031|  14.8118871679048|\n",
       "|2008|        7|11.568973392595312| 9.495886006775251| 21.01908428482827|\n",
       "+----+---------+------------------+------------------+------------------+"
      ]
     },
     "execution_count": 36,
     "metadata": {},
     "output_type": "execute_result"
    }
   ],
   "source": [
    "daily_avg_delays = flights.select('Year', 'DayofWeek', 'DepDelay', 'ArrDelay').\\\n",
    "withColumn('TotalDelay', flights.ArrDelay + flights.DepDelay).\\\n",
    "groupby('Year', 'DayofWeek').mean('DepDelay', 'ArrDelay', 'TotalDelay').\\\n",
    "orderBy('Year', 'DayofWeek')\n",
    "\n",
    "daily_avg_delays.cache()\n",
    "daily_avg_delays.limit(5)"
   ]
  },
  {
   "cell_type": "markdown",
   "metadata": {},
   "source": [
    "Round the values in the average columns for readability."
   ]
  },
  {
   "cell_type": "code",
   "execution_count": 37,
   "metadata": {},
   "outputs": [],
   "source": [
    "daily_avg_delays = daily_avg_delays.\\\n",
    "withColumn(\"avg(DepDelay)\", round(daily_avg_delays[\"avg(DepDelay)\"], 2)).\\\n",
    "withColumn(\"avg(ArrDelay)\", round(daily_avg_delays[\"avg(ArrDelay)\"], 2)).\\\n",
    "withColumn(\"avg(TotalDelay)\", round(daily_avg_delays[\"avg(TotalDelay)\"], 2))"
   ]
  },
  {
   "cell_type": "code",
   "execution_count": 38,
   "metadata": {
    "scrolled": false
   },
   "outputs": [
    {
     "data": {
      "text/html": [
       "<div>\n",
       "<style scoped>\n",
       "    .dataframe tbody tr th:only-of-type {\n",
       "        vertical-align: middle;\n",
       "    }\n",
       "\n",
       "    .dataframe tbody tr th {\n",
       "        vertical-align: top;\n",
       "    }\n",
       "\n",
       "    .dataframe thead th {\n",
       "        text-align: right;\n",
       "    }\n",
       "</style>\n",
       "<table border=\"1\" class=\"dataframe\">\n",
       "  <thead>\n",
       "    <tr style=\"text-align: right;\">\n",
       "      <th></th>\n",
       "      <th>Year</th>\n",
       "      <th>DayofWeek</th>\n",
       "      <th>avg(DepDelay)</th>\n",
       "      <th>avg(ArrDelay)</th>\n",
       "      <th>avg(TotalDelay)</th>\n",
       "    </tr>\n",
       "  </thead>\n",
       "  <tbody>\n",
       "    <tr>\n",
       "      <th>0</th>\n",
       "      <td>2007</td>\n",
       "      <td>1</td>\n",
       "      <td>11.89</td>\n",
       "      <td>10.51</td>\n",
       "      <td>22.38</td>\n",
       "    </tr>\n",
       "    <tr>\n",
       "      <th>1</th>\n",
       "      <td>2007</td>\n",
       "      <td>2</td>\n",
       "      <td>9.40</td>\n",
       "      <td>8.26</td>\n",
       "      <td>17.62</td>\n",
       "    </tr>\n",
       "    <tr>\n",
       "      <th>2</th>\n",
       "      <td>2007</td>\n",
       "      <td>3</td>\n",
       "      <td>10.69</td>\n",
       "      <td>9.96</td>\n",
       "      <td>20.60</td>\n",
       "    </tr>\n",
       "    <tr>\n",
       "      <th>3</th>\n",
       "      <td>2007</td>\n",
       "      <td>4</td>\n",
       "      <td>12.89</td>\n",
       "      <td>12.69</td>\n",
       "      <td>25.53</td>\n",
       "    </tr>\n",
       "    <tr>\n",
       "      <th>4</th>\n",
       "      <td>2007</td>\n",
       "      <td>5</td>\n",
       "      <td>13.58</td>\n",
       "      <td>13.07</td>\n",
       "      <td>26.60</td>\n",
       "    </tr>\n",
       "    <tr>\n",
       "      <th>5</th>\n",
       "      <td>2007</td>\n",
       "      <td>6</td>\n",
       "      <td>8.99</td>\n",
       "      <td>5.85</td>\n",
       "      <td>14.81</td>\n",
       "    </tr>\n",
       "    <tr>\n",
       "      <th>6</th>\n",
       "      <td>2007</td>\n",
       "      <td>7</td>\n",
       "      <td>11.98</td>\n",
       "      <td>10.33</td>\n",
       "      <td>22.28</td>\n",
       "    </tr>\n",
       "    <tr>\n",
       "      <th>7</th>\n",
       "      <td>2008</td>\n",
       "      <td>1</td>\n",
       "      <td>10.27</td>\n",
       "      <td>8.21</td>\n",
       "      <td>18.43</td>\n",
       "    </tr>\n",
       "    <tr>\n",
       "      <th>8</th>\n",
       "      <td>2008</td>\n",
       "      <td>2</td>\n",
       "      <td>8.98</td>\n",
       "      <td>7.48</td>\n",
       "      <td>16.40</td>\n",
       "    </tr>\n",
       "    <tr>\n",
       "      <th>9</th>\n",
       "      <td>2008</td>\n",
       "      <td>3</td>\n",
       "      <td>8.29</td>\n",
       "      <td>6.52</td>\n",
       "      <td>14.76</td>\n",
       "    </tr>\n",
       "    <tr>\n",
       "      <th>10</th>\n",
       "      <td>2008</td>\n",
       "      <td>4</td>\n",
       "      <td>9.77</td>\n",
       "      <td>8.41</td>\n",
       "      <td>18.15</td>\n",
       "    </tr>\n",
       "    <tr>\n",
       "      <th>11</th>\n",
       "      <td>2008</td>\n",
       "      <td>5</td>\n",
       "      <td>12.16</td>\n",
       "      <td>10.95</td>\n",
       "      <td>23.05</td>\n",
       "    </tr>\n",
       "    <tr>\n",
       "      <th>12</th>\n",
       "      <td>2008</td>\n",
       "      <td>6</td>\n",
       "      <td>8.65</td>\n",
       "      <td>5.79</td>\n",
       "      <td>14.39</td>\n",
       "    </tr>\n",
       "    <tr>\n",
       "      <th>13</th>\n",
       "      <td>2008</td>\n",
       "      <td>7</td>\n",
       "      <td>11.57</td>\n",
       "      <td>9.50</td>\n",
       "      <td>21.02</td>\n",
       "    </tr>\n",
       "  </tbody>\n",
       "</table>\n",
       "</div>"
      ],
      "text/plain": [
       "    Year  DayofWeek  avg(DepDelay)  avg(ArrDelay)  avg(TotalDelay)\n",
       "0   2007          1          11.89          10.51            22.38\n",
       "1   2007          2           9.40           8.26            17.62\n",
       "2   2007          3          10.69           9.96            20.60\n",
       "3   2007          4          12.89          12.69            25.53\n",
       "4   2007          5          13.58          13.07            26.60\n",
       "5   2007          6           8.99           5.85            14.81\n",
       "6   2007          7          11.98          10.33            22.28\n",
       "7   2008          1          10.27           8.21            18.43\n",
       "8   2008          2           8.98           7.48            16.40\n",
       "9   2008          3           8.29           6.52            14.76\n",
       "10  2008          4           9.77           8.41            18.15\n",
       "11  2008          5          12.16          10.95            23.05\n",
       "12  2008          6           8.65           5.79            14.39\n",
       "13  2008          7          11.57           9.50            21.02"
      ]
     },
     "execution_count": 38,
     "metadata": {},
     "output_type": "execute_result"
    }
   ],
   "source": [
    "daily_avg_delays_pd = daily_avg_delays.toPandas()\n",
    "daily_avg_delays_pd"
   ]
  },
  {
   "cell_type": "code",
   "execution_count": 39,
   "metadata": {},
   "outputs": [],
   "source": [
    "daily_avg_delays.unpersist();"
   ]
  },
  {
   "cell_type": "markdown",
   "metadata": {},
   "source": [
    "**Mean departure delays by day of week and year.**"
   ]
  },
  {
   "cell_type": "code",
   "execution_count": 40,
   "metadata": {},
   "outputs": [],
   "source": [
    "import seaborn as sns\n",
    "\n",
    "plt.figure(figsize=(12,8))\n",
    "plt.title(\"Average Departure Delay Length by Day of Week, 2007-2008\", fontsize=16)\n",
    "\n",
    "\n",
    "sns.barplot(x=\"DayofWeek\",\n",
    "            y=\"avg(DepDelay)\",\n",
    "            hue=\"Year\",\n",
    "            data=daily_avg_delays_pd)\n",
    "\n",
    "plt.xlabel(\"Day of Week\", fontsize=14)\n",
    "plt.ylabel(\"Average Departure Delay Length (Minutes)\", fontsize=14)"
   ]
  },
  {
   "cell_type": "markdown",
   "metadata": {},
   "source": [
    "There doesn't appear to be any significant increase or delay in mean departure delay time. For each year, Friday (labeled as 5) has the highest mean departure delay length. However, Saturday is among the lowest in both years. Sunday is also high, but comparable to Monday."
   ]
  },
  {
   "cell_type": "markdown",
   "metadata": {},
   "source": [
    "**Mean arrival delays by day of week and year.**"
   ]
  },
  {
   "cell_type": "code",
   "execution_count": 43,
   "metadata": {},
   "outputs": [
    {
     "data": {
      "text/plain": [
       "Text(0,0.5,'Average Arrival Delay Length (Minutes)')"
      ]
     },
     "execution_count": 43,
     "metadata": {},
     "output_type": "execute_result"
    },
    {
     "data": {
      "image/png": "[encoded data removed]",
      "text/plain": [
       "<Figure size 864x576 with 1 Axes>"
      ]
     },
     "metadata": {},
     "output_type": "display_data"
    }
   ],
   "source": [
    "plt.figure(figsize=(12,8))\n",
    "plt.title(\"Average Arrival Delay Length by Day of Week, 2007-2008\", fontsize=16)\n",
    "\n",
    "\n",
    "sns.barplot(x=\"DayofWeek\",\n",
    "            y=\"avg(ArrDelay)\",\n",
    "            hue=\"Year\",\n",
    "            data=daily_avg_delays_pd,\n",
    "            palette=\"Blues\")\n",
    "\n",
    "plt.xlabel(\"Day of Week\", fontsize=14)\n",
    "plt.ylabel(\"Average Arrival Delay Length (Minutes)\", fontsize=14)"
   ]
  },
  {
   "cell_type": "markdown",
   "metadata": {},
   "source": [
    "In 2007, mean arrival delay length was highest on Thursdays and Fridays. Saturdays had the lowest mean arrival delays. Sunday was fairly high but comparable to Monday, and Wednesday.\n",
    "<br>\n",
    "The same is true for 2008, but the mean values are lower for most days of the week (mean arrival delay length on Saturday is very similar in both 2007 and 2008)."
   ]
  },
  {
   "cell_type": "markdown",
   "metadata": {},
   "source": [
    "### Question 5"
   ]
  },
  {
   "cell_type": "markdown",
   "metadata": {},
   "source": [
    "To examine the distribution of flights throughout the day, we can create bins for both arrival and departure times, representing the hour of the day, and produce a count of flights per bin."
   ]
  },
  {
   "cell_type": "code",
   "execution_count": 10,
   "metadata": {
    "scrolled": true
   },
   "outputs": [
    {
     "data": {
      "text/html": [
       "<table border='1'>\n",
       "<tr><th>Year</th><th>DepTime</th><th>ArrTime</th><th>ActualElapsedTime</th></tr>\n",
       "<tr><td>2007</td><td>911</td><td>1126</td><td>135</td></tr>\n",
       "<tr><td>2007</td><td>2025</td><td>2250</td><td>145</td></tr>\n",
       "<tr><td>2007</td><td>634</td><td>852</td><td>138</td></tr>\n",
       "<tr><td>2007</td><td>1535</td><td>1824</td><td>169</td></tr>\n",
       "<tr><td>2007</td><td>2147</td><td>6</td><td>139</td></tr>\n",
       "</table>\n"
      ],
      "text/plain": [
       "+----+-------+-------+-----------------+\n",
       "|Year|DepTime|ArrTime|ActualElapsedTime|\n",
       "+----+-------+-------+-----------------+\n",
       "|2007|   1409|   1638|              149|\n",
       "|2007|   1938|   2220|              162|\n",
       "|2007|    832|   1100|              148|\n",
       "|2007|   1034|   1255|              201|\n",
       "|2007|   2003|   2208|              185|\n",
       "+----+-------+-------+-----------------+"
      ]
     },
     "execution_count": 10,
     "metadata": {},
     "output_type": "execute_result"
    }
   ],
   "source": [
    "flights_by_time = flights.select('Year', 'DepTime', 'ArrTime', 'ActualElapsedTime').\\\n",
    "withColumn('DepTime', flights['DepTime'].cast(IntegerType())).\\\n",
    "withColumn('ArrTime', flights['ArrTime'].cast(IntegerType())).\\\n",
    "withColumn('ActualElapsedTime', flights['ActualElapsedTime'].cast(IntegerType()))\n",
    "\n",
    "flights_by_time.limit(5)"
   ]
  },
  {
   "cell_type": "markdown",
   "metadata": {},
   "source": [
    "First, check if there are null values in ArrTime and/or DepTime."
   ]
  },
  {
   "cell_type": "code",
   "execution_count": 23,
   "metadata": {},
   "outputs": [
    {
     "data": {
      "text/plain": [
       "329576"
      ]
     },
     "execution_count": 23,
     "metadata": {},
     "output_type": "execute_result"
    }
   ],
   "source": [
    "flights_by_time.filter((flights_by_time.DepTime.isNull()) | flights_by_time.ArrTime.isNull()).count()"
   ]
  },
  {
   "cell_type": "markdown",
   "metadata": {},
   "source": [
    "There are. Filter them out."
   ]
  },
  {
   "cell_type": "code",
   "execution_count": 25,
   "metadata": {},
   "outputs": [],
   "source": [
    "flights_by_time = flights_by_time.filter((flights_by_time.DepTime.isNotNull()) & \n",
    "                                         (flights_by_time.ArrTime.isNotNull()))"
   ]
  },
  {
   "cell_type": "code",
   "execution_count": 26,
   "metadata": {},
   "outputs": [
    {
     "data": {
      "text/plain": [
       "14133367"
      ]
     },
     "execution_count": 26,
     "metadata": {},
     "output_type": "execute_result"
    }
   ],
   "source": [
    "flights_by_time.count()"
   ]
  },
  {
   "cell_type": "code",
   "execution_count": 27,
   "metadata": {},
   "outputs": [
    {
     "name": "stdout",
     "output_type": "stream",
     "text": [
      "Bucketizer output with 24 buckets\n"
     ]
    }
   ],
   "source": [
    "from pyspark.ml.feature import Bucketizer\n",
    "\n",
    "splits = [float(x) for x in range(0, 2500, 100)]\n",
    "\n",
    "dep_bucketizer = Bucketizer(splits=splits, inputCol=\"DepTime\", outputCol=\"dep_bucket\")\n",
    "\n",
    "flights_bucketed_dep = dep_bucketizer.transform(flights_by_time)\n",
    "print(\"Bucketizer output with %d buckets\" % (len(dep_bucketizer.getSplits()) - 1))"
   ]
  },
  {
   "cell_type": "code",
   "execution_count": 29,
   "metadata": {},
   "outputs": [],
   "source": [
    "arr_bucketizer = Bucketizer(splits=splits, inputCol=\"ArrTime\", outputCol=\"arr_bucket\")\n",
    "flights_bucketed_by_hour = arr_bucketizer.transform(flights_bucketed_dep).cache()"
   ]
  },
  {
   "cell_type": "code",
   "execution_count": 56,
   "metadata": {},
   "outputs": [],
   "source": [
    "flights_bucketed_by_hour.unpersist();"
   ]
  },
  {
   "cell_type": "code",
   "execution_count": 30,
   "metadata": {},
   "outputs": [
    {
     "data": {
      "text/plain": [
       "14133367"
      ]
     },
     "execution_count": 30,
     "metadata": {},
     "output_type": "execute_result"
    }
   ],
   "source": [
    "flights_bucketed_by_hour.count()"
   ]
  },
  {
   "cell_type": "code",
   "execution_count": 55,
   "metadata": {},
   "outputs": [
    {
     "data": {
      "text/html": [
       "<table border='1'>\n",
       "<tr><th>Year</th><th>DepTime</th><th>ArrTime</th><th>ActualElapsedTime</th><th>dep_bucket</th><th>arr_bucket</th></tr>\n",
       "<tr><td>2007</td><td>806</td><td>918</td><td>72</td><td>8.0</td><td>9.0</td></tr>\n",
       "<tr><td>2007</td><td>2155</td><td>2306</td><td>71</td><td>21.0</td><td>23.0</td></tr>\n",
       "<tr><td>2007</td><td>1249</td><td>1820</td><td>211</td><td>12.0</td><td>18.0</td></tr>\n",
       "<tr><td>2007</td><td>1414</td><td>1539</td><td>85</td><td>14.0</td><td>15.0</td></tr>\n",
       "<tr><td>2007</td><td>1845</td><td>2001</td><td>76</td><td>18.0</td><td>20.0</td></tr>\n",
       "</table>\n"
      ],
      "text/plain": [
       "+----+-------+-------+-----------------+----------+----------+\n",
       "|Year|DepTime|ArrTime|ActualElapsedTime|dep_bucket|arr_bucket|\n",
       "+----+-------+-------+-----------------+----------+----------+\n",
       "|2007|   1232|   1341|               69|      12.0|      13.0|\n",
       "|2007|   1918|   2043|               85|      19.0|      20.0|\n",
       "|2007|   2206|   2334|               88|      22.0|      23.0|\n",
       "|2007|   1230|   1356|               86|      12.0|      13.0|\n",
       "|2007|    831|    957|               86|       8.0|       9.0|\n",
       "+----+-------+-------+-----------------+----------+----------+"
      ]
     },
     "execution_count": 55,
     "metadata": {},
     "output_type": "execute_result"
    }
   ],
   "source": [
    "flights_bucketed_by_hour.limit(5)"
   ]
  },
  {
   "cell_type": "code",
   "execution_count": 33,
   "metadata": {},
   "outputs": [
    {
     "data": {
      "text/html": [
       "<table border='1'>\n",
       "<tr><th>Year</th><th>arr_bucket</th><th>num_flights</th></tr>\n",
       "<tr><td>2007</td><td>0.0</td><td>98305</td></tr>\n",
       "<tr><td>2007</td><td>1.0</td><td>34204</td></tr>\n",
       "<tr><td>2007</td><td>2.0</td><td>11103</td></tr>\n",
       "<tr><td>2007</td><td>3.0</td><td>4385</td></tr>\n",
       "<tr><td>2007</td><td>4.0</td><td>9126</td></tr>\n",
       "<tr><td>2007</td><td>5.0</td><td>36361</td></tr>\n",
       "<tr><td>2007</td><td>6.0</td><td>78468</td></tr>\n",
       "<tr><td>2007</td><td>7.0</td><td>252334</td></tr>\n",
       "<tr><td>2007</td><td>8.0</td><td>360869</td></tr>\n",
       "<tr><td>2007</td><td>9.0</td><td>417427</td></tr>\n",
       "<tr><td>2007</td><td>10.0</td><td>462335</td></tr>\n",
       "<tr><td>2007</td><td>11.0</td><td>441290</td></tr>\n",
       "</table>\n"
      ],
      "text/plain": [
       "+----+----------+-----------+\n",
       "|Year|arr_bucket|num_flights|\n",
       "+----+----------+-----------+\n",
       "|2007|       0.0|      98305|\n",
       "|2007|       1.0|      34204|\n",
       "|2007|       2.0|      11103|\n",
       "|2007|       3.0|       4385|\n",
       "|2007|       4.0|       9126|\n",
       "|2007|       5.0|      36361|\n",
       "|2007|       6.0|      78468|\n",
       "|2007|       7.0|     252334|\n",
       "|2007|       8.0|     360869|\n",
       "|2007|       9.0|     417427|\n",
       "|2007|      10.0|     462335|\n",
       "|2007|      11.0|     441290|\n",
       "+----+----------+-----------+"
      ]
     },
     "execution_count": 33,
     "metadata": {},
     "output_type": "execute_result"
    }
   ],
   "source": [
    "flights_by_arrival_hour = flights_bucketed_by_hour.groupby('Year', 'arr_bucket').agg(count('*').alias('num_flights'))\n",
    "flights_by_arrival_hour.orderBy('Year', 'arr_bucket').limit(12)"
   ]
  },
  {
   "cell_type": "code",
   "execution_count": 35,
   "metadata": {},
   "outputs": [
    {
     "data": {
      "text/html": [
       "<table border='1'>\n",
       "<tr><th>Year</th><th>dep_bucket</th><th>num_flights</th></tr>\n",
       "<tr><td>2007</td><td>0.0</td><td>24970</td></tr>\n",
       "<tr><td>2007</td><td>1.0</td><td>6763</td></tr>\n",
       "<tr><td>2007</td><td>2.0</td><td>2292</td></tr>\n",
       "<tr><td>2007</td><td>3.0</td><td>691</td></tr>\n",
       "<tr><td>2007</td><td>4.0</td><td>3272</td></tr>\n",
       "<tr><td>2007</td><td>5.0</td><td>133365</td></tr>\n",
       "<tr><td>2007</td><td>6.0</td><td>471924</td></tr>\n",
       "<tr><td>2007</td><td>7.0</td><td>463778</td></tr>\n",
       "<tr><td>2007</td><td>8.0</td><td>476422</td></tr>\n",
       "<tr><td>2007</td><td>9.0</td><td>458423</td></tr>\n",
       "<tr><td>2007</td><td>10.0</td><td>452857</td></tr>\n",
       "<tr><td>2007</td><td>11.0</td><td>469758</td></tr>\n",
       "</table>\n"
      ],
      "text/plain": [
       "+----+----------+-----------+\n",
       "|Year|dep_bucket|num_flights|\n",
       "+----+----------+-----------+\n",
       "|2007|       0.0|      24970|\n",
       "|2007|       1.0|       6763|\n",
       "|2007|       2.0|       2292|\n",
       "|2007|       3.0|        691|\n",
       "|2007|       4.0|       3272|\n",
       "|2007|       5.0|     133365|\n",
       "|2007|       6.0|     471924|\n",
       "|2007|       7.0|     463778|\n",
       "|2007|       8.0|     476422|\n",
       "|2007|       9.0|     458423|\n",
       "|2007|      10.0|     452857|\n",
       "|2007|      11.0|     469758|\n",
       "+----+----------+-----------+"
      ]
     },
     "execution_count": 35,
     "metadata": {},
     "output_type": "execute_result"
    }
   ],
   "source": [
    "flights_by_departure_hour = flights_bucketed_by_hour.groupby('Year', 'dep_bucket').agg(count('*').alias('num_flights'))\n",
    "flights_by_departure_hour.orderBy('Year', 'dep_bucket').limit(12)"
   ]
  },
  {
   "cell_type": "code",
   "execution_count": 36,
   "metadata": {},
   "outputs": [],
   "source": [
    "flights_by_arrival_hour_pd = flights_by_arrival_hour.toPandas()\n",
    "flights_by_departure_hour_pd = flights_by_departure_hour.toPandas()"
   ]
  },
  {
   "cell_type": "code",
   "execution_count": 38,
   "metadata": {},
   "outputs": [
    {
     "data": {
      "text/plain": [
       "(48, 3)"
      ]
     },
     "execution_count": 38,
     "metadata": {},
     "output_type": "execute_result"
    }
   ],
   "source": [
    "flights_by_arrival_hour_pd.shape"
   ]
  },
  {
   "cell_type": "markdown",
   "metadata": {},
   "source": [
    "**Plot barchart of flight arrivals by hour of the day.**"
   ]
  },
  {
   "cell_type": "code",
   "execution_count": 42,
   "metadata": {},
   "outputs": [
    {
     "data": {
      "text/plain": [
       "Text(0,0.5,'Number of Arrivals')"
      ]
     },
     "execution_count": 42,
     "metadata": {},
     "output_type": "execute_result"
    },
    {
     "data": {
      "image/png": "[encoded data removed]",
      "text/plain": [
       "<Figure size 864x576 with 1 Axes>"
      ]
     },
     "metadata": {},
     "output_type": "display_data"
    }
   ],
   "source": [
    "plt.figure(figsize=(12,8))\n",
    "plt.title(\"Number of Flight Arrivals by Hour of Day\", fontsize=16)\n",
    "\n",
    "\n",
    "sns.barplot(x=\"arr_bucket\",\n",
    "            y=\"num_flights\",\n",
    "            hue=\"Year\",\n",
    "            data=flights_by_arrival_hour_pd,\n",
    "            palette=\"Blues\")\n",
    "\n",
    "plt.xlabel(\"Hour of Day\", fontsize=14)\n",
    "plt.ylabel(\"Number of Arrivals\", fontsize=14)"
   ]
  },
  {
   "cell_type": "markdown",
   "metadata": {},
   "source": [
    "Arrivals begin to pick up in the early morning, between 5 and 7 AM. This gradually increases until 10AM. From here, there are consistently over 400,000 arrivals until 9 PM, at which point there is a gradual decline in arrivals until the hour between midnight and 2AM. There are relatively few flights arriving between 2AM and 5AM. There appear to be more flights in this dataset from 2007 than from 2008."
   ]
  },
  {
   "cell_type": "markdown",
   "metadata": {},
   "source": [
    "**Plot barchart of flight departures by hour of the day.**"
   ]
  },
  {
   "cell_type": "code",
   "execution_count": 43,
   "metadata": {},
   "outputs": [
    {
     "data": {
      "text/plain": [
       "Text(0,0.5,'Number of Departures')"
      ]
     },
     "execution_count": 43,
     "metadata": {},
     "output_type": "execute_result"
    },
    {
     "data": {
      "image/png": "[encoded data removed]",
      "text/plain": [
       "<Figure size 864x576 with 1 Axes>"
      ]
     },
     "metadata": {},
     "output_type": "display_data"
    }
   ],
   "source": [
    "plt.figure(figsize=(12,8))\n",
    "plt.title(\"Number of Flight Departures by Hour of Day\", fontsize=16)\n",
    "\n",
    "\n",
    "sns.barplot(x=\"dep_bucket\",\n",
    "            y=\"num_flights\",\n",
    "            hue=\"Year\",\n",
    "            data=flights_by_departure_hour_pd,\n",
    "            palette=\"Purples\")\n",
    "\n",
    "plt.xlabel(\"Hour of Day\", fontsize=14)\n",
    "plt.ylabel(\"Number of Departures\", fontsize=14)"
   ]
  },
  {
   "cell_type": "markdown",
   "metadata": {},
   "source": [
    "There is a sharp increase in the number of departures beginning at 6AM. This continues, with departing flights approaching 500,000 for most of the day, until 7PM (there is a slight decrease beginning at 5PM. Departures steadily decline from 8PM to 1AM and reduce from approximately 300,000 at 8PM down to about 10,000 by 1AM. Unsurprisingly, there are very few flights leaving between 2AM and 5AM."
   ]
  },
  {
   "cell_type": "markdown",
   "metadata": {},
   "source": [
    "### Question 6"
   ]
  },
  {
   "cell_type": "markdown",
   "metadata": {},
   "source": [
    "To assess delays throughout the day, we can take a similar approach. We can bucket flights by hour of the day (after removing flights without ArrTime and DepTime values), and compute the mean arrival and departure delay lengths."
   ]
  },
  {
   "cell_type": "code",
   "execution_count": 10,
   "metadata": {},
   "outputs": [],
   "source": [
    "flights_by_time = flights\\\n",
    ".select('Year', 'DepTime', 'DepDelay', 'ArrTime', 'ArrDelay')\\\n",
    ".withColumn('DepTime', flights['DepTime'].cast(IntegerType()))\\\n",
    ".withColumn('ArrTime', flights['ArrTime'].cast(IntegerType()))\\"
   ]
  },
  {
   "cell_type": "code",
   "execution_count": 11,
   "metadata": {},
   "outputs": [],
   "source": [
    "flights_by_time = flights_by_time.filter((flights_by_time.DepTime.isNotNull()) & \n",
    "                                         (flights_by_time.ArrTime.isNotNull()))"
   ]
  },
  {
   "cell_type": "code",
   "execution_count": 12,
   "metadata": {},
   "outputs": [
    {
     "data": {
      "text/plain": [
       "14133367"
      ]
     },
     "execution_count": 12,
     "metadata": {},
     "output_type": "execute_result"
    }
   ],
   "source": [
    "flights_by_time.count()"
   ]
  },
  {
   "cell_type": "code",
   "execution_count": 13,
   "metadata": {
    "scrolled": true
   },
   "outputs": [
    {
     "data": {
      "text/html": [
       "<table border='1'>\n",
       "<tr><th>Year</th><th>DepTime</th><th>DepDelay</th><th>ArrTime</th><th>ArrDelay</th></tr>\n",
       "<tr><td>2007</td><td>1427</td><td>-3</td><td>1608</td><td>1</td></tr>\n",
       "<tr><td>2007</td><td>1428</td><td>-2</td><td>1558</td><td>-9</td></tr>\n",
       "<tr><td>2007</td><td>1428</td><td>-2</td><td>1554</td><td>-13</td></tr>\n",
       "<tr><td>2007</td><td>1426</td><td>-4</td><td>1554</td><td>-13</td></tr>\n",
       "<tr><td>2007</td><td>1521</td><td>51</td><td>1649</td><td>42</td></tr>\n",
       "</table>\n"
      ],
      "text/plain": [
       "+----+-------+--------+-------+--------+\n",
       "|Year|DepTime|DepDelay|ArrTime|ArrDelay|\n",
       "+----+-------+--------+-------+--------+\n",
       "|2007|   1517|      67|   1622|      72|\n",
       "|2007|   1419|       9|   1509|      -1|\n",
       "|2007|   1420|      10|   1507|      -3|\n",
       "|2007|   1408|      -2|   1503|      -7|\n",
       "|2007|   1409|      -1|   1511|       1|\n",
       "+----+-------+--------+-------+--------+"
      ]
     },
     "execution_count": 13,
     "metadata": {},
     "output_type": "execute_result"
    }
   ],
   "source": [
    "flights_by_time.limit(5)"
   ]
  },
  {
   "cell_type": "code",
   "execution_count": 15,
   "metadata": {},
   "outputs": [
    {
     "name": "stdout",
     "output_type": "stream",
     "text": [
      "Bucketizer output with 24 buckets\n"
     ]
    }
   ],
   "source": [
    "from pyspark.ml.feature import Bucketizer\n",
    "splits = [float(x) for x in range(0, 2500, 100)]\n",
    "\n",
    "dep_bucketizer = Bucketizer(splits=splits, inputCol=\"DepTime\", outputCol=\"dep_bucket\")\n",
    "\n",
    "flights_bucketed_dep = dep_bucketizer.transform(flights_by_time)\n",
    "print(\"Bucketizer output with %d buckets\" % (len(dep_bucketizer.getSplits()) - 1))"
   ]
  },
  {
   "cell_type": "code",
   "execution_count": 16,
   "metadata": {},
   "outputs": [],
   "source": [
    "arr_bucketizer = Bucketizer(splits=splits, inputCol=\"ArrTime\", outputCol=\"arr_bucket\")\n",
    "flights_bucketed_by_hour = arr_bucketizer.transform(flights_bucketed_dep).cache()"
   ]
  },
  {
   "cell_type": "code",
   "execution_count": 17,
   "metadata": {},
   "outputs": [
    {
     "data": {
      "text/html": [
       "<table border='1'>\n",
       "<tr><th>Year</th><th>DepTime</th><th>DepDelay</th><th>ArrTime</th><th>ArrDelay</th><th>dep_bucket</th><th>arr_bucket</th></tr>\n",
       "<tr><td>2007</td><td>1308</td><td>113</td><td>1558</td><td>113</td><td>13.0</td><td>15.0</td></tr>\n",
       "<tr><td>2007</td><td>1113</td><td>-2</td><td>1357</td><td>-8</td><td>11.0</td><td>13.0</td></tr>\n",
       "<tr><td>2007</td><td>1110</td><td>-5</td><td>1351</td><td>-14</td><td>11.0</td><td>13.0</td></tr>\n",
       "<tr><td>2007</td><td>1106</td><td>-9</td><td>1407</td><td>2</td><td>11.0</td><td>14.0</td></tr>\n",
       "<tr><td>2007</td><td>1115</td><td>0</td><td>1412</td><td>7</td><td>11.0</td><td>14.0</td></tr>\n",
       "</table>\n"
      ],
      "text/plain": [
       "+----+-------+--------+-------+--------+----------+----------+\n",
       "|Year|DepTime|DepDelay|ArrTime|ArrDelay|dep_bucket|arr_bucket|\n",
       "+----+-------+--------+-------+--------+----------+----------+\n",
       "|2007|   1308|     113|   1558|     113|      13.0|      15.0|\n",
       "|2007|   1113|      -2|   1357|      -8|      11.0|      13.0|\n",
       "|2007|   1110|      -5|   1351|     -14|      11.0|      13.0|\n",
       "|2007|   1106|      -9|   1407|       2|      11.0|      14.0|\n",
       "|2007|   1115|       0|   1412|       7|      11.0|      14.0|\n",
       "+----+-------+--------+-------+--------+----------+----------+"
      ]
     },
     "execution_count": 17,
     "metadata": {},
     "output_type": "execute_result"
    }
   ],
   "source": [
    "flights_bucketed_by_hour.limit(5)"
   ]
  },
  {
   "cell_type": "code",
   "execution_count": 18,
   "metadata": {},
   "outputs": [
    {
     "data": {
      "text/html": [
       "<table border='1'>\n",
       "<tr><th>Year</th><th>arr_bucket</th><th>avg_arrival_delay</th><th>avg_departure_delay</th></tr>\n",
       "<tr><td>2007</td><td>0.0</td><td>56.3</td><td>55.08</td></tr>\n",
       "<tr><td>2007</td><td>1.0</td><td>98.17</td><td>95.71</td></tr>\n",
       "<tr><td>2007</td><td>2.0</td><td>140.47</td><td>137.67</td></tr>\n",
       "<tr><td>2007</td><td>3.0</td><td>144.9</td><td>144.23</td></tr>\n",
       "<tr><td>2007</td><td>4.0</td><td>19.06</td><td>26.55</td></tr>\n",
       "<tr><td>2007</td><td>5.0</td><td>-2.15</td><td>2.33</td></tr>\n",
       "<tr><td>2007</td><td>6.0</td><td>-1.33</td><td>1.06</td></tr>\n",
       "<tr><td>2007</td><td>7.0</td><td>-3.78</td><td>-1.02</td></tr>\n",
       "<tr><td>2007</td><td>8.0</td><td>-1.22</td><td>0.16</td></tr>\n",
       "<tr><td>2007</td><td>9.0</td><td>0.09</td><td>1.46</td></tr>\n",
       "<tr><td>2007</td><td>10.0</td><td>1.43</td><td>2.74</td></tr>\n",
       "<tr><td>2007</td><td>11.0</td><td>3.42</td><td>4.86</td></tr>\n",
       "</table>\n"
      ],
      "text/plain": [
       "+----+----------+-----------------+-------------------+\n",
       "|Year|arr_bucket|avg_arrival_delay|avg_departure_delay|\n",
       "+----+----------+-----------------+-------------------+\n",
       "|2007|       0.0|             56.3|              55.08|\n",
       "|2007|       1.0|            98.17|              95.71|\n",
       "|2007|       2.0|           140.47|             137.67|\n",
       "|2007|       3.0|            144.9|             144.23|\n",
       "|2007|       4.0|            19.06|              26.55|\n",
       "|2007|       5.0|            -2.15|               2.33|\n",
       "|2007|       6.0|            -1.33|               1.06|\n",
       "|2007|       7.0|            -3.78|              -1.02|\n",
       "|2007|       8.0|            -1.22|               0.16|\n",
       "|2007|       9.0|             0.09|               1.46|\n",
       "|2007|      10.0|             1.43|               2.74|\n",
       "|2007|      11.0|             3.42|               4.86|\n",
       "+----+----------+-----------------+-------------------+"
      ]
     },
     "execution_count": 18,
     "metadata": {},
     "output_type": "execute_result"
    }
   ],
   "source": [
    "mean_delays_by_arrival_hour = flights_bucketed_by_hour\\\n",
    ".groupby('Year', 'arr_bucket')\\\n",
    ".agg(mean('ArrDelay').alias('avg_arrival_delay'),\n",
    "     mean('DepDelay').alias('avg_departure_delay'))\n",
    "\n",
    "mean_delays_by_arrival_hour = mean_delays_by_arrival_hour\\\n",
    ".withColumn(\"avg_arrival_delay\", round(mean_delays_by_arrival_hour[\"avg_arrival_delay\"], 2))\\\n",
    ".withColumn(\"avg_departure_delay\", round(mean_delays_by_arrival_hour[\"avg_departure_delay\"], 2))\n",
    "\n",
    "mean_delays_by_arrival_hour.orderBy('Year', 'arr_bucket').limit(12)"
   ]
  },
  {
   "cell_type": "code",
   "execution_count": 19,
   "metadata": {},
   "outputs": [
    {
     "data": {
      "text/html": [
       "<table border='1'>\n",
       "<tr><th>Year</th><th>dep_bucket</th><th>avg_arrival_delay</th><th>avg_departure_delay</th></tr>\n",
       "<tr><td>2007</td><td>0.0</td><td>60.5</td><td>64.09</td></tr>\n",
       "<tr><td>2007</td><td>1.0</td><td>98.9</td><td>104.32</td></tr>\n",
       "<tr><td>2007</td><td>2.0</td><td>119.47</td><td>125.7</td></tr>\n",
       "<tr><td>2007</td><td>3.0</td><td>139.67</td><td>146.12</td></tr>\n",
       "<tr><td>2007</td><td>4.0</td><td>7.51</td><td>6.9</td></tr>\n",
       "<tr><td>2007</td><td>5.0</td><td>-4.99</td><td>-3.89</td></tr>\n",
       "<tr><td>2007</td><td>6.0</td><td>-1.99</td><td>-1.1</td></tr>\n",
       "<tr><td>2007</td><td>7.0</td><td>-0.03</td><td>1.06</td></tr>\n",
       "<tr><td>2007</td><td>8.0</td><td>1.69</td><td>2.69</td></tr>\n",
       "<tr><td>2007</td><td>9.0</td><td>3.51</td><td>4.88</td></tr>\n",
       "<tr><td>2007</td><td>10.0</td><td>5.04</td><td>6.58</td></tr>\n",
       "<tr><td>2007</td><td>11.0</td><td>5.82</td><td>7.21</td></tr>\n",
       "</table>\n"
      ],
      "text/plain": [
       "+----+----------+-----------------+-------------------+\n",
       "|Year|dep_bucket|avg_arrival_delay|avg_departure_delay|\n",
       "+----+----------+-----------------+-------------------+\n",
       "|2007|       0.0|             60.5|              64.09|\n",
       "|2007|       1.0|             98.9|             104.32|\n",
       "|2007|       2.0|           119.47|              125.7|\n",
       "|2007|       3.0|           139.67|             146.12|\n",
       "|2007|       4.0|             7.51|                6.9|\n",
       "|2007|       5.0|            -4.99|              -3.89|\n",
       "|2007|       6.0|            -1.99|               -1.1|\n",
       "|2007|       7.0|            -0.03|               1.06|\n",
       "|2007|       8.0|             1.69|               2.69|\n",
       "|2007|       9.0|             3.51|               4.88|\n",
       "|2007|      10.0|             5.04|               6.58|\n",
       "|2007|      11.0|             5.82|               7.21|\n",
       "+----+----------+-----------------+-------------------+"
      ]
     },
     "execution_count": 19,
     "metadata": {},
     "output_type": "execute_result"
    }
   ],
   "source": [
    "mean_delays_by_departure_hour = flights_bucketed_by_hour\\\n",
    ".groupby('Year', 'dep_bucket')\\\n",
    ".agg(mean('ArrDelay').alias('avg_arrival_delay'),\n",
    "     mean('DepDelay').alias('avg_departure_delay'))\n",
    "\n",
    "mean_delays_by_departure_hour = mean_delays_by_departure_hour\\\n",
    ".withColumn(\"avg_arrival_delay\", round(mean_delays_by_departure_hour[\"avg_arrival_delay\"], 2))\\\n",
    ".withColumn(\"avg_departure_delay\", round(mean_delays_by_departure_hour[\"avg_departure_delay\"], 2))\n",
    "\n",
    "mean_delays_by_departure_hour.orderBy('Year', 'dep_bucket').limit(12)"
   ]
  },
  {
   "cell_type": "code",
   "execution_count": 20,
   "metadata": {},
   "outputs": [],
   "source": [
    "mean_delays_by_arrival_hour_pd = mean_delays_by_arrival_hour.orderBy('Year', 'arr_bucket').toPandas()\n",
    "mean_delays_by_departure_hour_pd = mean_delays_by_departure_hour.orderBy('Year', 'dep_bucket').toPandas()"
   ]
  },
  {
   "cell_type": "code",
   "execution_count": 21,
   "metadata": {},
   "outputs": [
    {
     "data": {
      "text/html": [
       "<div>\n",
       "<style scoped>\n",
       "    .dataframe tbody tr th:only-of-type {\n",
       "        vertical-align: middle;\n",
       "    }\n",
       "\n",
       "    .dataframe tbody tr th {\n",
       "        vertical-align: top;\n",
       "    }\n",
       "\n",
       "    .dataframe thead th {\n",
       "        text-align: right;\n",
       "    }\n",
       "</style>\n",
       "<table border=\"1\" class=\"dataframe\">\n",
       "  <thead>\n",
       "    <tr style=\"text-align: right;\">\n",
       "      <th></th>\n",
       "      <th>Year</th>\n",
       "      <th>arr_bucket</th>\n",
       "      <th>avg_arrival_delay</th>\n",
       "      <th>avg_departure_delay</th>\n",
       "    </tr>\n",
       "  </thead>\n",
       "  <tbody>\n",
       "    <tr>\n",
       "      <th>0</th>\n",
       "      <td>2007</td>\n",
       "      <td>0.0</td>\n",
       "      <td>56.30</td>\n",
       "      <td>55.08</td>\n",
       "    </tr>\n",
       "    <tr>\n",
       "      <th>1</th>\n",
       "      <td>2007</td>\n",
       "      <td>1.0</td>\n",
       "      <td>98.17</td>\n",
       "      <td>95.71</td>\n",
       "    </tr>\n",
       "    <tr>\n",
       "      <th>2</th>\n",
       "      <td>2007</td>\n",
       "      <td>2.0</td>\n",
       "      <td>140.47</td>\n",
       "      <td>137.67</td>\n",
       "    </tr>\n",
       "    <tr>\n",
       "      <th>3</th>\n",
       "      <td>2007</td>\n",
       "      <td>3.0</td>\n",
       "      <td>144.90</td>\n",
       "      <td>144.23</td>\n",
       "    </tr>\n",
       "    <tr>\n",
       "      <th>4</th>\n",
       "      <td>2007</td>\n",
       "      <td>4.0</td>\n",
       "      <td>19.06</td>\n",
       "      <td>26.55</td>\n",
       "    </tr>\n",
       "  </tbody>\n",
       "</table>\n",
       "</div>"
      ],
      "text/plain": [
       "   Year  arr_bucket  avg_arrival_delay  avg_departure_delay\n",
       "0  2007         0.0              56.30                55.08\n",
       "1  2007         1.0              98.17                95.71\n",
       "2  2007         2.0             140.47               137.67\n",
       "3  2007         3.0             144.90               144.23\n",
       "4  2007         4.0              19.06                26.55"
      ]
     },
     "execution_count": 21,
     "metadata": {},
     "output_type": "execute_result"
    }
   ],
   "source": [
    "mean_delays_by_arrival_hour_pd.head()"
   ]
  },
  {
   "cell_type": "code",
   "execution_count": 22,
   "metadata": {},
   "outputs": [
    {
     "data": {
      "text/html": [
       "<div>\n",
       "<style scoped>\n",
       "    .dataframe tbody tr th:only-of-type {\n",
       "        vertical-align: middle;\n",
       "    }\n",
       "\n",
       "    .dataframe tbody tr th {\n",
       "        vertical-align: top;\n",
       "    }\n",
       "\n",
       "    .dataframe thead th {\n",
       "        text-align: right;\n",
       "    }\n",
       "</style>\n",
       "<table border=\"1\" class=\"dataframe\">\n",
       "  <thead>\n",
       "    <tr style=\"text-align: right;\">\n",
       "      <th></th>\n",
       "      <th>Year</th>\n",
       "      <th>dep_bucket</th>\n",
       "      <th>avg_arrival_delay</th>\n",
       "      <th>avg_departure_delay</th>\n",
       "    </tr>\n",
       "  </thead>\n",
       "  <tbody>\n",
       "    <tr>\n",
       "      <th>0</th>\n",
       "      <td>2007</td>\n",
       "      <td>0.0</td>\n",
       "      <td>60.50</td>\n",
       "      <td>64.09</td>\n",
       "    </tr>\n",
       "    <tr>\n",
       "      <th>1</th>\n",
       "      <td>2007</td>\n",
       "      <td>1.0</td>\n",
       "      <td>98.90</td>\n",
       "      <td>104.32</td>\n",
       "    </tr>\n",
       "    <tr>\n",
       "      <th>2</th>\n",
       "      <td>2007</td>\n",
       "      <td>2.0</td>\n",
       "      <td>119.47</td>\n",
       "      <td>125.70</td>\n",
       "    </tr>\n",
       "    <tr>\n",
       "      <th>3</th>\n",
       "      <td>2007</td>\n",
       "      <td>3.0</td>\n",
       "      <td>139.67</td>\n",
       "      <td>146.12</td>\n",
       "    </tr>\n",
       "    <tr>\n",
       "      <th>4</th>\n",
       "      <td>2007</td>\n",
       "      <td>4.0</td>\n",
       "      <td>7.51</td>\n",
       "      <td>6.90</td>\n",
       "    </tr>\n",
       "  </tbody>\n",
       "</table>\n",
       "</div>"
      ],
      "text/plain": [
       "   Year  dep_bucket  avg_arrival_delay  avg_departure_delay\n",
       "0  2007         0.0              60.50                64.09\n",
       "1  2007         1.0              98.90               104.32\n",
       "2  2007         2.0             119.47               125.70\n",
       "3  2007         3.0             139.67               146.12\n",
       "4  2007         4.0               7.51                 6.90"
      ]
     },
     "execution_count": 22,
     "metadata": {},
     "output_type": "execute_result"
    }
   ],
   "source": [
    "mean_delays_by_departure_hour_pd.head()"
   ]
  },
  {
   "cell_type": "code",
   "execution_count": 85,
   "metadata": {},
   "outputs": [
    {
     "data": {
      "text/plain": [
       "2008    24\n",
       "2007    24\n",
       "Name: Year, dtype: int64"
      ]
     },
     "execution_count": 85,
     "metadata": {},
     "output_type": "execute_result"
    }
   ],
   "source": [
    "mean_delays_by_arrival_hour_pd['Year'].value_counts()"
   ]
  },
  {
   "cell_type": "markdown",
   "metadata": {},
   "source": [
    "**Plot mean delays by arrival hour of day.**"
   ]
  },
  {
   "cell_type": "code",
   "execution_count": 29,
   "metadata": {
    "scrolled": false
   },
   "outputs": [
    {
     "data": {
      "text/plain": [
       "Text(0,0.5,'Mean Delay Length (Minutes)')"
      ]
     },
     "execution_count": 29,
     "metadata": {},
     "output_type": "execute_result"
    },
    {
     "data": {
      "image/png": "[encoded data removed]",
      "text/plain": [
       "<Figure size 864x576 with 1 Axes>"
      ]
     },
     "metadata": {},
     "output_type": "display_data"
    }
   ],
   "source": [
    "plt.figure(figsize=(12,8))\n",
    "plt.title(\"Average Delay Length by Arrival Hour of Day\", fontsize=16)\n",
    "\n",
    "\n",
    "sns.lineplot(x=\"arr_bucket\",\n",
    "            y=\"avg_arrival_delay\",\n",
    "            hue=\"Year\",\n",
    "            data=mean_delays_by_arrival_hour_pd)\n",
    "\n",
    "sns.lineplot(x=\"arr_bucket\",\n",
    "            y=\"avg_departure_delay\",\n",
    "            hue=\"Year\",\n",
    "            data=mean_delays_by_arrival_hour_pd)\n",
    "\n",
    "\n",
    "plt.xlabel(\"Hour of Day (Arrivals)\", fontsize=14)\n",
    "plt.ylabel(\"Mean Delay Length (Minutes)\", fontsize=14)"
   ]
  },
  {
   "cell_type": "markdown",
   "metadata": {},
   "source": [
    "**Note: I'm not sure sure why the plot thinks there are records with Year of 2006. I confirmed above that there are only two values for year: 2007 and 2008.**\n",
    "<br>\n",
    "<br>\n",
    "There is a pronounced increase in mean arrival and departure delay length in the early hours of the morning -- this could be explained partly by the presence of some outlier records and the comparitively fewer number of flights during this part of the day. A sharp decline at 4 AM, followed by gradual increase throughout the remaining hours of the day."
   ]
  },
  {
   "cell_type": "markdown",
   "metadata": {},
   "source": [
    "**Plot mean delays by departure hour of day.**"
   ]
  },
  {
   "cell_type": "code",
   "execution_count": 30,
   "metadata": {},
   "outputs": [
    {
     "data": {
      "text/plain": [
       "Text(0,0.5,'Mean Delay Length (Minutes)')"
      ]
     },
     "execution_count": 30,
     "metadata": {},
     "output_type": "execute_result"
    },
    {
     "data": {
      "image/png": "[encoded data removed]",
      "text/plain": [
       "<Figure size 864x576 with 1 Axes>"
      ]
     },
     "metadata": {},
     "output_type": "display_data"
    }
   ],
   "source": [
    "\n",
    "plt.figure(figsize=(12,8))\n",
    "plt.title(\"Average Delay Length by Departure Hour of Day\", fontsize=16)\n",
    "\n",
    "\n",
    "sns.lineplot(x=\"dep_bucket\",\n",
    "            y=\"avg_arrival_delay\",\n",
    "            hue=\"Year\",\n",
    "            data=mean_delays_by_departure_hour_pd)\n",
    "\n",
    "sns.lineplot(x=\"dep_bucket\",\n",
    "            y=\"avg_departure_delay\",\n",
    "            hue=\"Year\",\n",
    "            data=mean_delays_by_departure_hour_pd)\n",
    "\n",
    "\n",
    "plt.xlabel(\"Hour of Day (Departures)\", fontsize=14)\n",
    "plt.ylabel(\"Mean Delay Length (Minutes)\", fontsize=14)"
   ]
  },
  {
   "cell_type": "markdown",
   "metadata": {},
   "source": [
    "**Note: I'm not sure sure why the plot thinks there are records with Year of 2006. I confirmed above that there are only two values for year: 2007 and 2008.**\n",
    "<br>\n",
    "<br>\n",
    "Similar to previous plot: flights departing early in the morning were on average delayed leaving and arriving at their destination. A steady incline in average delays for both arrival and departure throughout the course of the day."
   ]
  }
 ],
 "metadata": {
  "kernelspec": {
   "display_name": "pySpark",
   "language": "python",
   "name": "pyspark"
  },
  "language_info": {
   "codemirror_mode": {
    "name": "ipython",
    "version": 3
   },
   "file_extension": ".py",
   "mimetype": "text/x-python",
   "name": "python",
   "nbconvert_exporter": "python",
   "pygments_lexer": "ipython3",
   "version": "3.6.8"
  }
 },
 "nbformat": 4,
 "nbformat_minor": 4
}
